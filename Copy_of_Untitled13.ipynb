{
  "nbformat": 4,
  "nbformat_minor": 0,
  "metadata": {
    "colab": {
      "provenance": [],
      "gpuType": "T4",
      "include_colab_link": true
    },
    "kernelspec": {
      "name": "python3",
      "display_name": "Python 3"
    },
    "language_info": {
      "name": "python"
    },
    "accelerator": "GPU"
  },
  "cells": [
    {
      "cell_type": "markdown",
      "metadata": {
        "id": "view-in-github",
        "colab_type": "text"
      },
      "source": [
        "<a href=\"https://colab.research.google.com/github/megha1970/BreakingBug-ML/blob/main/Copy_of_Untitled13.ipynb\" target=\"_parent\"><img src=\"https://colab.research.google.com/assets/colab-badge.svg\" alt=\"Open In Colab\"/></a>"
      ]
    },
    {
      "cell_type": "code",
      "execution_count": null,
      "metadata": {
        "colab": {
          "base_uri": "https://localhost:8080/"
        },
        "id": "N52Qov8vFAn5",
        "outputId": "3caccea6-c28a-4af5-d0c6-4eb5b8fcc4eb"
      },
      "outputs": [
        {
          "output_type": "stream",
          "name": "stdout",
          "text": [
            "fatal: destination path 'BreakingBug-ML' already exists and is not an empty directory.\n"
          ]
        }
      ],
      "source": [
        "!git clone https://github.com/megha1970/BreakingBug-ML.git"
      ]
    },
    {
      "cell_type": "code",
      "source": [
        "%cd BugBytes-ML"
      ],
      "metadata": {
        "colab": {
          "base_uri": "https://localhost:8080/"
        },
        "id": "SMeNVfopFXQC",
        "outputId": "32a60a26-6177-43e3-e777-5f056bdd1817"
      },
      "execution_count": null,
      "outputs": [
        {
          "output_type": "stream",
          "name": "stdout",
          "text": [
            "[Errno 2] No such file or directory: 'BugBytes-ML'\n",
            "/content/BreakingBug-ML/BugBytes-ML\n"
          ]
        }
      ]
    },
    {
      "cell_type": "code",
      "source": [
        "!ls"
      ],
      "metadata": {
        "id": "MEXuiNWyFo18"
      },
      "execution_count": null,
      "outputs": []
    },
    {
      "cell_type": "code",
      "source": [
        "import os"
      ],
      "metadata": {
        "id": "5NMDF8XaGDji"
      },
      "execution_count": null,
      "outputs": []
    },
    {
      "cell_type": "code",
      "source": [
        "!mkdir -p BugBytes-ML\n"
      ],
      "metadata": {
        "id": "s_1P3SfrGh5b"
      },
      "execution_count": null,
      "outputs": []
    },
    {
      "cell_type": "code",
      "source": [
        "%cd BugBytes-ML"
      ],
      "metadata": {
        "colab": {
          "base_uri": "https://localhost:8080/"
        },
        "id": "Db003NgIGtHJ",
        "outputId": "662b82f7-3813-4c3a-ffbb-a37b2b8a5e32"
      },
      "execution_count": null,
      "outputs": [
        {
          "output_type": "stream",
          "name": "stdout",
          "text": [
            "/content/BreakingBug-ML/BugBytes-ML/BugBytes-ML\n"
          ]
        }
      ]
    },
    {
      "cell_type": "code",
      "source": [
        "!python bugged_file.py"
      ],
      "metadata": {
        "colab": {
          "base_uri": "https://localhost:8080/"
        },
        "id": "ccID763tGzzI",
        "outputId": "25b8b8bd-6b7f-4be8-9aca-49a55abf8a2b"
      },
      "execution_count": null,
      "outputs": [
        {
          "output_type": "stream",
          "name": "stdout",
          "text": [
            "python3: can't open file '/content/BreakingBug-ML/BugBytes-ML/BugBytes-ML/bugged_file.py': [Errno 2] No such file or directory\n"
          ]
        }
      ]
    },
    {
      "cell_type": "code",
      "source": [
        "%cd  BreakingBug-ML"
      ],
      "metadata": {
        "colab": {
          "base_uri": "https://localhost:8080/"
        },
        "id": "kqgQTsJJHSwc",
        "outputId": "88eda52e-9f22-4a51-faff-cbad802b09f3"
      },
      "execution_count": null,
      "outputs": [
        {
          "output_type": "stream",
          "name": "stdout",
          "text": [
            "[Errno 2] No such file or directory: 'BreakingBug-ML'\n",
            "/content/BreakingBug-ML/BugBytes-ML/BugBytes-ML\n"
          ]
        }
      ]
    },
    {
      "cell_type": "code",
      "source": [
        "import pandas as pd\n",
        "import numpy as np"
      ],
      "metadata": {
        "id": "_6Uax-_mHmhV"
      },
      "execution_count": null,
      "outputs": []
    },
    {
      "cell_type": "code",
      "source": [
        "df = pd.read_csv('/content/BreakingBug-ML/dataset.csv')"
      ],
      "metadata": {
        "id": "wB0yLbqjH9GS"
      },
      "execution_count": null,
      "outputs": []
    },
    {
      "cell_type": "code",
      "source": [
        "df.head()"
      ],
      "metadata": {
        "colab": {
          "base_uri": "https://localhost:8080/",
          "height": 206
        },
        "id": "naMYDjbcIDHn",
        "outputId": "9597ec41-2215-45f9-e0e6-c023ff6ddbb4"
      },
      "execution_count": null,
      "outputs": [
        {
          "output_type": "execute_result",
          "data": {
            "text/plain": [
              "   id  age     sex    dataset               cp  trestbps   chol    fbs  \\\n",
              "0   1   63    Male  Cleveland   typical angina     145.0  233.0   True   \n",
              "1   2   67    Male  Cleveland     asymptomatic     160.0  286.0  False   \n",
              "2   3   67    Male  Cleveland     asymptomatic     120.0  229.0  False   \n",
              "3   4   37    Male  Cleveland      non-anginal     130.0  250.0  False   \n",
              "4   5   41  Female  Cleveland  atypical angina     130.0  204.0  False   \n",
              "\n",
              "          restecg  thalch  exang  oldpeak        slope   ca  \\\n",
              "0  lv hypertrophy   150.0  False      2.3  downsloping  0.0   \n",
              "1  lv hypertrophy   108.0   True      1.5         flat  3.0   \n",
              "2  lv hypertrophy   129.0   True      2.6         flat  2.0   \n",
              "3          normal   187.0  False      3.5  downsloping  0.0   \n",
              "4  lv hypertrophy   172.0  False      1.4    upsloping  0.0   \n",
              "\n",
              "                thal  num  \n",
              "0       fixed defect    0  \n",
              "1             normal    2  \n",
              "2  reversable defect    1  \n",
              "3             normal    0  \n",
              "4             normal    0  "
            ],
            "text/html": [
              "\n",
              "  <div id=\"df-f51abb1c-9def-45e8-aae4-f0576c3d31bf\" class=\"colab-df-container\">\n",
              "    <div>\n",
              "<style scoped>\n",
              "    .dataframe tbody tr th:only-of-type {\n",
              "        vertical-align: middle;\n",
              "    }\n",
              "\n",
              "    .dataframe tbody tr th {\n",
              "        vertical-align: top;\n",
              "    }\n",
              "\n",
              "    .dataframe thead th {\n",
              "        text-align: right;\n",
              "    }\n",
              "</style>\n",
              "<table border=\"1\" class=\"dataframe\">\n",
              "  <thead>\n",
              "    <tr style=\"text-align: right;\">\n",
              "      <th></th>\n",
              "      <th>id</th>\n",
              "      <th>age</th>\n",
              "      <th>sex</th>\n",
              "      <th>dataset</th>\n",
              "      <th>cp</th>\n",
              "      <th>trestbps</th>\n",
              "      <th>chol</th>\n",
              "      <th>fbs</th>\n",
              "      <th>restecg</th>\n",
              "      <th>thalch</th>\n",
              "      <th>exang</th>\n",
              "      <th>oldpeak</th>\n",
              "      <th>slope</th>\n",
              "      <th>ca</th>\n",
              "      <th>thal</th>\n",
              "      <th>num</th>\n",
              "    </tr>\n",
              "  </thead>\n",
              "  <tbody>\n",
              "    <tr>\n",
              "      <th>0</th>\n",
              "      <td>1</td>\n",
              "      <td>63</td>\n",
              "      <td>Male</td>\n",
              "      <td>Cleveland</td>\n",
              "      <td>typical angina</td>\n",
              "      <td>145.0</td>\n",
              "      <td>233.0</td>\n",
              "      <td>True</td>\n",
              "      <td>lv hypertrophy</td>\n",
              "      <td>150.0</td>\n",
              "      <td>False</td>\n",
              "      <td>2.3</td>\n",
              "      <td>downsloping</td>\n",
              "      <td>0.0</td>\n",
              "      <td>fixed defect</td>\n",
              "      <td>0</td>\n",
              "    </tr>\n",
              "    <tr>\n",
              "      <th>1</th>\n",
              "      <td>2</td>\n",
              "      <td>67</td>\n",
              "      <td>Male</td>\n",
              "      <td>Cleveland</td>\n",
              "      <td>asymptomatic</td>\n",
              "      <td>160.0</td>\n",
              "      <td>286.0</td>\n",
              "      <td>False</td>\n",
              "      <td>lv hypertrophy</td>\n",
              "      <td>108.0</td>\n",
              "      <td>True</td>\n",
              "      <td>1.5</td>\n",
              "      <td>flat</td>\n",
              "      <td>3.0</td>\n",
              "      <td>normal</td>\n",
              "      <td>2</td>\n",
              "    </tr>\n",
              "    <tr>\n",
              "      <th>2</th>\n",
              "      <td>3</td>\n",
              "      <td>67</td>\n",
              "      <td>Male</td>\n",
              "      <td>Cleveland</td>\n",
              "      <td>asymptomatic</td>\n",
              "      <td>120.0</td>\n",
              "      <td>229.0</td>\n",
              "      <td>False</td>\n",
              "      <td>lv hypertrophy</td>\n",
              "      <td>129.0</td>\n",
              "      <td>True</td>\n",
              "      <td>2.6</td>\n",
              "      <td>flat</td>\n",
              "      <td>2.0</td>\n",
              "      <td>reversable defect</td>\n",
              "      <td>1</td>\n",
              "    </tr>\n",
              "    <tr>\n",
              "      <th>3</th>\n",
              "      <td>4</td>\n",
              "      <td>37</td>\n",
              "      <td>Male</td>\n",
              "      <td>Cleveland</td>\n",
              "      <td>non-anginal</td>\n",
              "      <td>130.0</td>\n",
              "      <td>250.0</td>\n",
              "      <td>False</td>\n",
              "      <td>normal</td>\n",
              "      <td>187.0</td>\n",
              "      <td>False</td>\n",
              "      <td>3.5</td>\n",
              "      <td>downsloping</td>\n",
              "      <td>0.0</td>\n",
              "      <td>normal</td>\n",
              "      <td>0</td>\n",
              "    </tr>\n",
              "    <tr>\n",
              "      <th>4</th>\n",
              "      <td>5</td>\n",
              "      <td>41</td>\n",
              "      <td>Female</td>\n",
              "      <td>Cleveland</td>\n",
              "      <td>atypical angina</td>\n",
              "      <td>130.0</td>\n",
              "      <td>204.0</td>\n",
              "      <td>False</td>\n",
              "      <td>lv hypertrophy</td>\n",
              "      <td>172.0</td>\n",
              "      <td>False</td>\n",
              "      <td>1.4</td>\n",
              "      <td>upsloping</td>\n",
              "      <td>0.0</td>\n",
              "      <td>normal</td>\n",
              "      <td>0</td>\n",
              "    </tr>\n",
              "  </tbody>\n",
              "</table>\n",
              "</div>\n",
              "    <div class=\"colab-df-buttons\">\n",
              "\n",
              "  <div class=\"colab-df-container\">\n",
              "    <button class=\"colab-df-convert\" onclick=\"convertToInteractive('df-f51abb1c-9def-45e8-aae4-f0576c3d31bf')\"\n",
              "            title=\"Convert this dataframe to an interactive table.\"\n",
              "            style=\"display:none;\">\n",
              "\n",
              "  <svg xmlns=\"http://www.w3.org/2000/svg\" height=\"24px\" viewBox=\"0 -960 960 960\">\n",
              "    <path d=\"M120-120v-720h720v720H120Zm60-500h600v-160H180v160Zm220 220h160v-160H400v160Zm0 220h160v-160H400v160ZM180-400h160v-160H180v160Zm440 0h160v-160H620v160ZM180-180h160v-160H180v160Zm440 0h160v-160H620v160Z\"/>\n",
              "  </svg>\n",
              "    </button>\n",
              "\n",
              "  <style>\n",
              "    .colab-df-container {\n",
              "      display:flex;\n",
              "      gap: 12px;\n",
              "    }\n",
              "\n",
              "    .colab-df-convert {\n",
              "      background-color: #E8F0FE;\n",
              "      border: none;\n",
              "      border-radius: 50%;\n",
              "      cursor: pointer;\n",
              "      display: none;\n",
              "      fill: #1967D2;\n",
              "      height: 32px;\n",
              "      padding: 0 0 0 0;\n",
              "      width: 32px;\n",
              "    }\n",
              "\n",
              "    .colab-df-convert:hover {\n",
              "      background-color: #E2EBFA;\n",
              "      box-shadow: 0px 1px 2px rgba(60, 64, 67, 0.3), 0px 1px 3px 1px rgba(60, 64, 67, 0.15);\n",
              "      fill: #174EA6;\n",
              "    }\n",
              "\n",
              "    .colab-df-buttons div {\n",
              "      margin-bottom: 4px;\n",
              "    }\n",
              "\n",
              "    [theme=dark] .colab-df-convert {\n",
              "      background-color: #3B4455;\n",
              "      fill: #D2E3FC;\n",
              "    }\n",
              "\n",
              "    [theme=dark] .colab-df-convert:hover {\n",
              "      background-color: #434B5C;\n",
              "      box-shadow: 0px 1px 3px 1px rgba(0, 0, 0, 0.15);\n",
              "      filter: drop-shadow(0px 1px 2px rgba(0, 0, 0, 0.3));\n",
              "      fill: #FFFFFF;\n",
              "    }\n",
              "  </style>\n",
              "\n",
              "    <script>\n",
              "      const buttonEl =\n",
              "        document.querySelector('#df-f51abb1c-9def-45e8-aae4-f0576c3d31bf button.colab-df-convert');\n",
              "      buttonEl.style.display =\n",
              "        google.colab.kernel.accessAllowed ? 'block' : 'none';\n",
              "\n",
              "      async function convertToInteractive(key) {\n",
              "        const element = document.querySelector('#df-f51abb1c-9def-45e8-aae4-f0576c3d31bf');\n",
              "        const dataTable =\n",
              "          await google.colab.kernel.invokeFunction('convertToInteractive',\n",
              "                                                    [key], {});\n",
              "        if (!dataTable) return;\n",
              "\n",
              "        const docLinkHtml = 'Like what you see? Visit the ' +\n",
              "          '<a target=\"_blank\" href=https://colab.research.google.com/notebooks/data_table.ipynb>data table notebook</a>'\n",
              "          + ' to learn more about interactive tables.';\n",
              "        element.innerHTML = '';\n",
              "        dataTable['output_type'] = 'display_data';\n",
              "        await google.colab.output.renderOutput(dataTable, element);\n",
              "        const docLink = document.createElement('div');\n",
              "        docLink.innerHTML = docLinkHtml;\n",
              "        element.appendChild(docLink);\n",
              "      }\n",
              "    </script>\n",
              "  </div>\n",
              "\n",
              "\n",
              "<div id=\"df-19092e7f-a195-430d-9f83-4acc0d4d94e0\">\n",
              "  <button class=\"colab-df-quickchart\" onclick=\"quickchart('df-19092e7f-a195-430d-9f83-4acc0d4d94e0')\"\n",
              "            title=\"Suggest charts\"\n",
              "            style=\"display:none;\">\n",
              "\n",
              "<svg xmlns=\"http://www.w3.org/2000/svg\" height=\"24px\"viewBox=\"0 0 24 24\"\n",
              "     width=\"24px\">\n",
              "    <g>\n",
              "        <path d=\"M19 3H5c-1.1 0-2 .9-2 2v14c0 1.1.9 2 2 2h14c1.1 0 2-.9 2-2V5c0-1.1-.9-2-2-2zM9 17H7v-7h2v7zm4 0h-2V7h2v10zm4 0h-2v-4h2v4z\"/>\n",
              "    </g>\n",
              "</svg>\n",
              "  </button>\n",
              "\n",
              "<style>\n",
              "  .colab-df-quickchart {\n",
              "      --bg-color: #E8F0FE;\n",
              "      --fill-color: #1967D2;\n",
              "      --hover-bg-color: #E2EBFA;\n",
              "      --hover-fill-color: #174EA6;\n",
              "      --disabled-fill-color: #AAA;\n",
              "      --disabled-bg-color: #DDD;\n",
              "  }\n",
              "\n",
              "  [theme=dark] .colab-df-quickchart {\n",
              "      --bg-color: #3B4455;\n",
              "      --fill-color: #D2E3FC;\n",
              "      --hover-bg-color: #434B5C;\n",
              "      --hover-fill-color: #FFFFFF;\n",
              "      --disabled-bg-color: #3B4455;\n",
              "      --disabled-fill-color: #666;\n",
              "  }\n",
              "\n",
              "  .colab-df-quickchart {\n",
              "    background-color: var(--bg-color);\n",
              "    border: none;\n",
              "    border-radius: 50%;\n",
              "    cursor: pointer;\n",
              "    display: none;\n",
              "    fill: var(--fill-color);\n",
              "    height: 32px;\n",
              "    padding: 0;\n",
              "    width: 32px;\n",
              "  }\n",
              "\n",
              "  .colab-df-quickchart:hover {\n",
              "    background-color: var(--hover-bg-color);\n",
              "    box-shadow: 0 1px 2px rgba(60, 64, 67, 0.3), 0 1px 3px 1px rgba(60, 64, 67, 0.15);\n",
              "    fill: var(--button-hover-fill-color);\n",
              "  }\n",
              "\n",
              "  .colab-df-quickchart-complete:disabled,\n",
              "  .colab-df-quickchart-complete:disabled:hover {\n",
              "    background-color: var(--disabled-bg-color);\n",
              "    fill: var(--disabled-fill-color);\n",
              "    box-shadow: none;\n",
              "  }\n",
              "\n",
              "  .colab-df-spinner {\n",
              "    border: 2px solid var(--fill-color);\n",
              "    border-color: transparent;\n",
              "    border-bottom-color: var(--fill-color);\n",
              "    animation:\n",
              "      spin 1s steps(1) infinite;\n",
              "  }\n",
              "\n",
              "  @keyframes spin {\n",
              "    0% {\n",
              "      border-color: transparent;\n",
              "      border-bottom-color: var(--fill-color);\n",
              "      border-left-color: var(--fill-color);\n",
              "    }\n",
              "    20% {\n",
              "      border-color: transparent;\n",
              "      border-left-color: var(--fill-color);\n",
              "      border-top-color: var(--fill-color);\n",
              "    }\n",
              "    30% {\n",
              "      border-color: transparent;\n",
              "      border-left-color: var(--fill-color);\n",
              "      border-top-color: var(--fill-color);\n",
              "      border-right-color: var(--fill-color);\n",
              "    }\n",
              "    40% {\n",
              "      border-color: transparent;\n",
              "      border-right-color: var(--fill-color);\n",
              "      border-top-color: var(--fill-color);\n",
              "    }\n",
              "    60% {\n",
              "      border-color: transparent;\n",
              "      border-right-color: var(--fill-color);\n",
              "    }\n",
              "    80% {\n",
              "      border-color: transparent;\n",
              "      border-right-color: var(--fill-color);\n",
              "      border-bottom-color: var(--fill-color);\n",
              "    }\n",
              "    90% {\n",
              "      border-color: transparent;\n",
              "      border-bottom-color: var(--fill-color);\n",
              "    }\n",
              "  }\n",
              "</style>\n",
              "\n",
              "  <script>\n",
              "    async function quickchart(key) {\n",
              "      const quickchartButtonEl =\n",
              "        document.querySelector('#' + key + ' button');\n",
              "      quickchartButtonEl.disabled = true;  // To prevent multiple clicks.\n",
              "      quickchartButtonEl.classList.add('colab-df-spinner');\n",
              "      try {\n",
              "        const charts = await google.colab.kernel.invokeFunction(\n",
              "            'suggestCharts', [key], {});\n",
              "      } catch (error) {\n",
              "        console.error('Error during call to suggestCharts:', error);\n",
              "      }\n",
              "      quickchartButtonEl.classList.remove('colab-df-spinner');\n",
              "      quickchartButtonEl.classList.add('colab-df-quickchart-complete');\n",
              "    }\n",
              "    (() => {\n",
              "      let quickchartButtonEl =\n",
              "        document.querySelector('#df-19092e7f-a195-430d-9f83-4acc0d4d94e0 button');\n",
              "      quickchartButtonEl.style.display =\n",
              "        google.colab.kernel.accessAllowed ? 'block' : 'none';\n",
              "    })();\n",
              "  </script>\n",
              "</div>\n",
              "\n",
              "    </div>\n",
              "  </div>\n"
            ],
            "application/vnd.google.colaboratory.intrinsic+json": {
              "type": "dataframe",
              "variable_name": "df",
              "summary": "{\n  \"name\": \"df\",\n  \"rows\": 920,\n  \"fields\": [\n    {\n      \"column\": \"id\",\n      \"properties\": {\n        \"dtype\": \"number\",\n        \"std\": 265,\n        \"min\": 1,\n        \"max\": 920,\n        \"num_unique_values\": 920,\n        \"samples\": [\n          320,\n          378,\n          539\n        ],\n        \"semantic_type\": \"\",\n        \"description\": \"\"\n      }\n    },\n    {\n      \"column\": \"age\",\n      \"properties\": {\n        \"dtype\": \"number\",\n        \"std\": 9,\n        \"min\": 28,\n        \"max\": 77,\n        \"num_unique_values\": 50,\n        \"samples\": [\n          64,\n          74,\n          39\n        ],\n        \"semantic_type\": \"\",\n        \"description\": \"\"\n      }\n    },\n    {\n      \"column\": \"sex\",\n      \"properties\": {\n        \"dtype\": \"category\",\n        \"num_unique_values\": 2,\n        \"samples\": [\n          \"Female\",\n          \"Male\"\n        ],\n        \"semantic_type\": \"\",\n        \"description\": \"\"\n      }\n    },\n    {\n      \"column\": \"dataset\",\n      \"properties\": {\n        \"dtype\": \"category\",\n        \"num_unique_values\": 4,\n        \"samples\": [\n          \"Hungary\",\n          \"VA Long Beach\"\n        ],\n        \"semantic_type\": \"\",\n        \"description\": \"\"\n      }\n    },\n    {\n      \"column\": \"cp\",\n      \"properties\": {\n        \"dtype\": \"category\",\n        \"num_unique_values\": 4,\n        \"samples\": [\n          \"asymptomatic\",\n          \"atypical angina\"\n        ],\n        \"semantic_type\": \"\",\n        \"description\": \"\"\n      }\n    },\n    {\n      \"column\": \"trestbps\",\n      \"properties\": {\n        \"dtype\": \"number\",\n        \"std\": 19.066069518587476,\n        \"min\": 0.0,\n        \"max\": 200.0,\n        \"num_unique_values\": 61,\n        \"samples\": [\n          145.0,\n          172.0\n        ],\n        \"semantic_type\": \"\",\n        \"description\": \"\"\n      }\n    },\n    {\n      \"column\": \"chol\",\n      \"properties\": {\n        \"dtype\": \"number\",\n        \"std\": 110.7808103532305,\n        \"min\": 0.0,\n        \"max\": 603.0,\n        \"num_unique_values\": 217,\n        \"samples\": [\n          384.0,\n          333.0\n        ],\n        \"semantic_type\": \"\",\n        \"description\": \"\"\n      }\n    },\n    {\n      \"column\": \"fbs\",\n      \"properties\": {\n        \"dtype\": \"category\",\n        \"num_unique_values\": 2,\n        \"samples\": [\n          false,\n          true\n        ],\n        \"semantic_type\": \"\",\n        \"description\": \"\"\n      }\n    },\n    {\n      \"column\": \"restecg\",\n      \"properties\": {\n        \"dtype\": \"category\",\n        \"num_unique_values\": 3,\n        \"samples\": [\n          \"lv hypertrophy\",\n          \"normal\"\n        ],\n        \"semantic_type\": \"\",\n        \"description\": \"\"\n      }\n    },\n    {\n      \"column\": \"thalch\",\n      \"properties\": {\n        \"dtype\": \"number\",\n        \"std\": 25.926276492797594,\n        \"min\": 60.0,\n        \"max\": 202.0,\n        \"num_unique_values\": 119,\n        \"samples\": [\n          185.0,\n          134.0\n        ],\n        \"semantic_type\": \"\",\n        \"description\": \"\"\n      }\n    },\n    {\n      \"column\": \"exang\",\n      \"properties\": {\n        \"dtype\": \"category\",\n        \"num_unique_values\": 2,\n        \"samples\": [\n          true,\n          false\n        ],\n        \"semantic_type\": \"\",\n        \"description\": \"\"\n      }\n    },\n    {\n      \"column\": \"oldpeak\",\n      \"properties\": {\n        \"dtype\": \"number\",\n        \"std\": 1.0912262483465298,\n        \"min\": -2.6,\n        \"max\": 6.2,\n        \"num_unique_values\": 53,\n        \"samples\": [\n          2.4,\n          -1.1\n        ],\n        \"semantic_type\": \"\",\n        \"description\": \"\"\n      }\n    },\n    {\n      \"column\": \"slope\",\n      \"properties\": {\n        \"dtype\": \"category\",\n        \"num_unique_values\": 3,\n        \"samples\": [\n          \"downsloping\",\n          \"flat\"\n        ],\n        \"semantic_type\": \"\",\n        \"description\": \"\"\n      }\n    },\n    {\n      \"column\": \"ca\",\n      \"properties\": {\n        \"dtype\": \"number\",\n        \"std\": 0.935653012559987,\n        \"min\": 0.0,\n        \"max\": 3.0,\n        \"num_unique_values\": 4,\n        \"samples\": [\n          3.0,\n          1.0\n        ],\n        \"semantic_type\": \"\",\n        \"description\": \"\"\n      }\n    },\n    {\n      \"column\": \"thal\",\n      \"properties\": {\n        \"dtype\": \"category\",\n        \"num_unique_values\": 3,\n        \"samples\": [\n          \"fixed defect\",\n          \"normal\"\n        ],\n        \"semantic_type\": \"\",\n        \"description\": \"\"\n      }\n    },\n    {\n      \"column\": \"num\",\n      \"properties\": {\n        \"dtype\": \"number\",\n        \"std\": 1,\n        \"min\": 0,\n        \"max\": 4,\n        \"num_unique_values\": 5,\n        \"samples\": [\n          2,\n          4\n        ],\n        \"semantic_type\": \"\",\n        \"description\": \"\"\n      }\n    }\n  ]\n}"
            }
          },
          "metadata": {},
          "execution_count": 20
        }
      ]
    },
    {
      "cell_type": "code",
      "source": [
        "# os.chdir('/content/BreakingBug-ML')\n",
        "os.system('/content/BreakingBug-ML/breakingbug.py')"
      ],
      "metadata": {
        "id": "p_pQdc5tIac7",
        "outputId": "32cd38c5-bf7f-4f4f-e8ec-5e911f6ef72e",
        "colab": {
          "base_uri": "https://localhost:8080/"
        }
      },
      "execution_count": null,
      "outputs": [
        {
          "output_type": "execute_result",
          "data": {
            "text/plain": [
              "32256"
            ]
          },
          "metadata": {},
          "execution_count": 21
        }
      ]
    },
    {
      "cell_type": "code",
      "source": [
        "!ls"
      ],
      "metadata": {
        "id": "OR0TCuneI7Mb"
      },
      "execution_count": null,
      "outputs": []
    },
    {
      "cell_type": "code",
      "source": [
        "import matplotlib.pyplot as plt\n",
        "import seaborn as sns\n",
        "import plotly.express as px\n",
        "from yellowbrick.cluster import KElbowVisualizer\n",
        "from matplotlib.colors import ListedColormap"
      ],
      "metadata": {
        "id": "C0RHpU9lJL1D"
      },
      "execution_count": null,
      "outputs": []
    },
    {
      "cell_type": "code",
      "source": [
        "\n",
        "file_path = '/content/BreakingBug-ML/breakingbug.py'\n",
        "\n",
        "# Open the file for reading\n",
        "with open(file_path, 'r') as file:\n",
        "    lines = file.readlines()\n",
        "\n",
        "# Open the file for writing and modify the specific line\n",
        "with open(file_path, 'w') as file:\n",
        "    for line in lines:\n",
        "        if \"print (\\\"Mode of the dataset: \\\",df('data')['age'].(pd.Series.mode))\" in line:\n",
        "            file.write(\"print(\\\"Mode of the dataset: \\\", df['age'].mode())\\n\")\n",
        "        else:\n",
        "            file.write(line)\n",
        "\n"
      ],
      "metadata": {
        "id": "L0EAbOH5KsBc"
      },
      "execution_count": null,
      "outputs": []
    },
    {
      "cell_type": "code",
      "source": [
        "print(os.listdir('/content/BreakingBug-ML'))\n",
        "file_path = '/content/BreakingBug-ML/breakingbug.py'\n",
        "\n",
        "\n",
        "if os.path.exists(file_path):\n",
        "    # Open the file for reading\n",
        "    with open(file_path, 'r') as file:\n",
        "        lines = file.readlines()\n",
        "\n",
        "    # Open the file for writing and remove leading spaces\n",
        "    with open(file_path, 'w') as file:\n",
        "        for line in lines:\n",
        "            file.write(line.replace('    ', ''))\n",
        "else:\n",
        "    print(f\"File {file_path} does not exist.\")\n"
      ],
      "metadata": {
        "id": "rId6HjF6MnLH",
        "colab": {
          "base_uri": "https://localhost:8080/"
        },
        "outputId": "9d07f11f-4d2a-495f-bf90-b4a5ddda7011"
      },
      "execution_count": null,
      "outputs": [
        {
          "output_type": "stream",
          "name": "stdout",
          "text": [
            "['.gitignore', '.git', 'breakingbug.py', 'dataset.csv', 'BugBytes-ML', 'README.md']\n"
          ]
        }
      ]
    },
    {
      "cell_type": "code",
      "source": [
        "import os\n",
        "\n",
        "# Check the current working directory\n",
        "print(\"Current Directory:\", os.getcwd())\n",
        "\n",
        "# List files in the current directory\n",
        "print(\"Files in Directory:\", os.listdir())\n"
      ],
      "metadata": {
        "id": "wMCAkQOTNC7x",
        "colab": {
          "base_uri": "https://localhost:8080/"
        },
        "outputId": "df4fbccd-ae61-480a-bfca-182dcaa6c577"
      },
      "execution_count": null,
      "outputs": [
        {
          "output_type": "stream",
          "name": "stdout",
          "text": [
            "Current Directory: /content/BreakingBug-ML/BugBytes-ML/BugBytes-ML\n",
            "Files in Directory: []\n"
          ]
        }
      ]
    },
    {
      "cell_type": "code",
      "source": [
        "file_path = '/content/BreakingBug-ML/breakingbug.py'\n",
        "\n",
        "# Open the file for reading\n",
        "if os.path.exists(file_path):\n",
        "    with open(file_path, 'r') as file:\n",
        "        lines = file.readlines()\n",
        "\n",
        "    # Open the file for writing and replace text\n",
        "    with open(file_path, 'w') as file:\n",
        "        for line in lines:\n",
        "            if \"AdaBoost):\" in line:\n",
        "                line = line.replace(\"AdaBoost):\", \"AdaBoost(),\")\n",
        "            file.write(line)\n",
        "\n",
        "    # Read the file to verify changes\n",
        "    with open(file_path, 'r') as file:\n",
        "        content = file.read()\n",
        "\n",
        "    print(content)\n",
        "else:\n",
        "    print(f\"File {file_path} does not exist.\")\n"
      ],
      "metadata": {
        "colab": {
          "base_uri": "https://localhost:8080/"
        },
        "id": "7Bj6uyY5NoLv",
        "outputId": "f6545207-5665-4542-9581-155b876606a4",
        "collapsed": true
      },
      "execution_count": null,
      "outputs": [
        {
          "output_type": "stream",
          "name": "stdout",
          "text": [
            "\n",
            "# import libraries\n",
            "\n",
            "# 1. to handle the data\n",
            "import pandas as pd\n",
            "import numpy as np\n",
            "\n",
            "# 2. To Viusalize the data\n",
            "import matplotlib.pyplot as plt\n",
            "import seaborn as sns\n",
            "import plotly.express as px\n",
            "from yellowbrick.cluster import KElbowVisualizer\n",
            "from matplotlib.colors import ListedColormap\n",
            "\n",
            "# 3. To preprocess the data\n",
            "from sklearn.preprocessing import StandardScaler, MinMaxScaler, LabelEncoder\n",
            "from sklearn.impute import SimpleImputer, KNNImputer\n",
            "\n",
            "# 4. import Iterative imputer\n",
            "from sklearn.experimental import enable_iterative_imputer\n",
            "from sklearn.impute import IterativeImputer\n",
            "\n",
            "# 5. Machine Learning\n",
            "from sklearn.model import train_test_split,GridSearch, cross_val\n",
            "\n",
            "# 6. For Classification task.\n",
            "from sklearn import LogisticRegressions\n",
            "from sklearn import KNN\n",
            "from sklearn import SVC_Classifier\n",
            "from sklearn import DecisionTree, plot_tree_regressor\n",
            "from sklearn import RandomForestRegressor, AdaBoost, GradientBoost\n",
            "from xgboost import XG\n",
            "from lightgbm import LGBM\n",
            "from sklearn import Gaussian\n",
            "\n",
            "# 7. Metrics\n",
            "from sklearn.metrics import accuracy, confusion, classification\n",
            "\n",
            "# 8. Ignore warnings\n",
            "import warnings\n",
            "warnings.filterwarnings('ignore')\n",
            "\n",
            "\n",
            "\n",
            "df = pd.read_csv(\"/kaggle/input/heart-disease-data/heart_disease_uci.csv\")\n",
            "\n",
            "# print the first 5 rows of the dataframe\n",
            "df.head()\n",
            "\n",
            "# Exploring the data type of each column\n",
            "df.info()\n",
            "\n",
            "# Checking the data shape\n",
            "df.shape\n",
            "\n",
            "# Id column\n",
            "df['id'].min(), df['id'].max()\n",
            "\n",
            "# age column\n",
            "df['age'].min(), df['age'].max()\n",
            "\n",
            "# lets summerize the age column\n",
            "df['age'].describe()\n",
            "\n",
            "import seaborn as sns\n",
            "\n",
            "# Define custom colors\n",
            "custom_colors = [\"#FF5733\", \"#3366FF\", \"#33FF57\"]  # Example colors, you can adjust as needed\n",
            "\n",
            "# Plot the histogram with custom colors\n",
            "sns.histplot(df['age'], kde=True, color=\"#FF5733\", palette=custom_colors)\n",
            "\n",
            "\n",
            "# Plot the mean, Median and mode of age column using sns\n",
            "sns.histplot(df['age'], kde=True)\n",
            "plt.axvline(df['age'].mean(), color='Red')\n",
            "plt.axvline(df['age'].median(), color= 'Green')\n",
            "plt.axvline(df['age'].mode()[0], color='Blue')\n",
            "\n",
            "# print the value of mean, median and mode of age column\n",
            "print('Mean', df['age'].mean())\n",
            "print('Median', df['age'].median())\n",
            "print('Mode', df['age'].mode())\n",
            "\n",
            "\n",
            "# plot the histogram of age column using plotly and coloring this by sex\n",
            "\n",
            "fig = px.histogram(data_frame=df, x='age', color= 'sex')\n",
            "fig.show()\n",
            "\n",
            "# Find the values of sex column\n",
            "df['sex'].value_counts()\n",
            "\n",
            "# calculating the percentage fo male and female value counts in the data\n",
            "\n",
            "male_count = 726\n",
            "female_count = 194\n",
            "\n",
            "total_count = male_count + female_count\n",
            "\n",
            "# calculate percentages\n",
            "male_percentage = (male_count/total_count)*100\n",
            "female_percentages = (female_count/total_count)*100\n",
            "\n",
            "# display the results\n",
            "print(f'Male percentage i the data: {male_percentage:.2f}%')\n",
            "print(f'Female percentage in the data : {female_percentages:.2f}%')\n",
            "\n",
            "# Difference\n",
            "difference_percentage = ((male_count - female_count)/female_count) * 100\n",
            "print(f'Males are {difference_percentage:.2f}% more than female in the data.')\n",
            "\n",
            "\n",
            "726/194\n",
            "\n",
            "# Find the values count of age column grouping by sex column\n",
            "df.groupby('sex')['age'].value_counts()\n",
            "\n",
            "# find the unique values in the dataset column\n",
            "df['dataseet'].counts()\n",
            "\n",
            "# plot the countplot of dataset column\n",
            "fig =px.bar(df, x='dataset', color='sex')\n",
            "fig.show()\n",
            "\n",
            "# print the values of dataset column groupes by sex\n",
            "print (df.groupby('sex')['dataset'].value_counts())\n",
            "\n",
            "# make a plot of age column using plotly and coloring by dataset\n",
            "\n",
            "fig = px.histogram(data_frame=df, x='age', color= 'dataset')\n",
            "fig.show()\n",
            "\n",
            "# print the mean median and mode of age column grouped by dataset column\n",
            "print(\"___________________________________________________________\")\n",
            "print (\"Mean of the dataset: \",df('data')['age'].mean())\n",
            "print(\"___________________________________________________________\")\n",
            "print (\"Median of the dataset: \",df('data')['age'].median())\n",
            "print(\"___________________________________________________________\")\n",
            "print(\"Mode of the dataset: \", df['age'].mode())\n",
            "print(\"___________________________________________________________\")\n",
            "\n",
            "# value count of cp column\n",
            "df['cp'].value_counts()\n",
            "\n",
            "# count plot of cp column by sex column\n",
            "sns.countplot(df, x='cp', hue= 'sex')\n",
            "\n",
            "# count plot of cp column by dataset column\n",
            "sns.countplot(df,x='cp',hue='dataset')\n",
            "\n",
            "# Draw the plot of age column group by cp column\n",
            "\n",
            "fig = px.histogram(data_frame=df, x='age', color='cp')\n",
            "fig.show()\n",
            "\n",
            "# lets summerize the trestbps column\n",
            "df['trestbps'].describe()\n",
            "\n",
            "# Dealing with Missing values in trestbps column.\n",
            "# find the percentage of misssing values in trestbps column\n",
            "print(f\"Percentage of missing values in trestbps column: {df['trestbps'].isnull().sum() /len(df) *100:.2f}%\")\n",
            "\n",
            "# Impute the missing values of trestbps column using iterative imputer\n",
            "# create an object of iteratvie imputer\n",
            "imputer1 = IterativeImputer(max_iter=10, random_state=42)\n",
            "\n",
            "# Fit the imputer on trestbps column\n",
            "imputer1.fit(df[['trestbps']])\n",
            "\n",
            "# Transform the data\n",
            "df['trestbps'] = imputer1.transform(df[['trestbps']])\n",
            "\n",
            "# Check the missing values in trestbps column\n",
            "print(f\"Missing values in trestbps column: {df['trestbps'].isnull().sum()}\")\n",
            "\n",
            "\n",
            "# First lets see data types or category of columns\n",
            "df.info()\n",
            "\n",
            "# let's see which columns has missing values\n",
            "(df.isnull().sum()/ len(df)* 100).sort_values(ascending=False)\n",
            "\n",
            "# create an object of iterative imputer\n",
            "imputer2 = IterativeImputer(max_iter=10, random_state=42)\n",
            "\n",
            "# fit transform on ca,oldpeak, thal,chol and thalch columns\n",
            "df['ca'] = imputer_transform(ca)\n",
            "df['oldpeak']= imputer_transform(oldpeak)\n",
            "df['chol'] = imputer_transform(chol)\n",
            "df['thalch'] = imputer_transform(thalch)\n",
            "\n",
            "\n",
            "\n",
            "# let's check again for missing values\n",
            "(df.isnull().sum()/ len(df)* 100).sort_values(ascending=False)\n",
            "\n",
            "print(f\"The missing values in thal column are: {df['thal'].isnull().sum()}\")\n",
            "\n",
            "\n",
            "df['thal'].value_counts()\n",
            "\n",
            "df.tail()\n",
            "\n",
            "# find missing values.\n",
            "df.null().sum()[df.null()()<0].values(ascending=true)\n",
            "\n",
            "\n",
            "\n",
            "missing_data_cols = df.isnull().sum()[df.isnull().sum()>0].index.tolist()\n",
            "\n",
            "missing_data_cols\n",
            "\n",
            "# find categorical Columns\n",
            "cat_cols = df.select_dtypes(include='object').columns.tolist()\n",
            "cat_cols\n",
            "\n",
            "# find Numerical Columns\n",
            "Num_cols = df.select_dtypes(exclude='object').columns.tolist()\n",
            "Num_cols\n",
            "\n",
            "print(f'categorical Columns: {cat_cols}')\n",
            "print(f'numerical Columns: {Num_cols}')\n",
            "\n",
            "# FInd columns\n",
            "categorical_cols = ['thal', 'ca', 'slope', 'exang', 'restecg','thalch', 'chol', 'trestbps']\n",
            "bool_cols = ['fbs']\n",
            "numerical_cols = ['oldpeak','age','restecg','fbs', 'cp', 'sex', 'num']\n",
            "\n",
            "# This function imputes missing values in categorical columnsdef impute_categorical_missing_data(passed_col):\n",
            "passed_col = categorical_cols\n",
            "def impute_categorical_missing_data(wrong_col):\n",
            "\n",
            "df_null = df[df[passed_col].isnull()]\n",
            "df_not_null = df[df[passed_col].notnull()]\n",
            "\n",
            "X = df_not_null.drop(passed_col, axis=1)\n",
            "y = df_not_null[passed_col]\n",
            "\n",
            "other_missing_cols = [col for col in missing_data_cols if col != passed_col]\n",
            "\n",
            "label_encoder = LabelEncoder()\n",
            "for cols in Y.columns:\n",
            "   if Y[col].dtype == 'object' :\n",
            "   Y[col] = onehotencoder.fit_transform(Y[col].astype(str))\n",
            "\n",
            "if passed_col in bool_cols:\n",
            "y = label_encoder.fit_transform(y)\n",
            "\n",
            "imputer = Imputer(estimator=RandomForestRegressor(random_state=16), add_indicator=True)\n",
            "for cols in other_missing_cols:\n",
            "cols_with_missing_value = Y[col].value.reshape(-100, 100)\n",
            "imputed_values = iterative_imputer.fit_transform(col_with_missing_values)\n",
            "X[col] = imputed_values[:, 0]\n",
            "else:\n",
            "pass\n",
            "\n",
            "X_train, X_test, y_train, y_test = train_test_split(X, y, test_size=0.2, random_state=42)\n",
            "\n",
            "rf_classifier = RandomForestClassifier()\n",
            "\n",
            "rf_classifier.fit(X_train, y_train)\n",
            "\n",
            "y_pred = rf_classifier.predict(X_test)\n",
            "\n",
            "acc_score = accuracy_score(y_test, y_pred)\n",
            "\n",
            "print(\"The feature '\"+ passed_col+ \"' has been imputed with\", round((acc_score * 100), 2), \"accuracy\\n\")\n",
            "\n",
            "X = df_null.drop(passed_col, axis=1)\n",
            "\n",
            "for cols in Y.columns:\n",
            "if Y[col].dtype == 'object' :\n",
            "Y[col] = onehotencoder.fit_transform(Y[col].astype(str))\n",
            "\n",
            "for cols in other_missing_cols:\n",
            "cols_with_missing_value = Y[col].value.reshape(-100, 100)\n",
            "imputed_values = iterative_imputer.fit_transform(col_with_missing_values)\n",
            "X[col] = imputed_values[:, 0]\n",
            "\n",
            "if len(df_null) < 0:\n",
            "df[passed] = classifier.predict(X)\n",
            "if passed in cols:\n",
            "df[passed] = df[passed].map({0: False, 1: True})\n",
            "else:\n",
            "pass\n",
            "else:\n",
            "pass\n",
            "\n",
            "df_combined = pd.concat([df_not_null, df_null])\n",
            "\n",
            "return df_combined[passed_col]\n",
            "\n",
            "def impute_continuous_missing_data(passed_col):\n",
            "\n",
            "df_null = df[df[passed_col].isnull()]\n",
            "df_not_null = df[df[passed_col].notnull()]\n",
            "\n",
            "X = df_not_null.drop(passed_col, axis=1)\n",
            "y = df_not_null[passed_col]\n",
            "\n",
            "other_missing_cols = [col for col in missing_data_cols if col != passed_col]\n",
            "\n",
            "label_encoder = LabelEncoder()\n",
            "\n",
            "for cols in Y.columns:\n",
            "if Y[col].dtype == 'object' :\n",
            "Y[col] = onehotencoder.fit_transform(Y[col].astype(str))\n",
            "\n",
            "imputer = Imputer(estimator=RandomForestRegressor(random_state=16), add_indicator=True)\n",
            "\n",
            "for col in other_missing_cols:\n",
            "for cols in other_missing_cols:\n",
            "cols_with_missing_value = Y[col].value.reshape(-100, 100)\n",
            "\n",
            "X_train, X_test, y_train, y_test = train_test_split(X, y, test_size=0.2, random_state=42)\n",
            "\n",
            "rf_regressor = RandomForestRegressor()\n",
            "\n",
            "rf_regressor.fit(X_train, y_train)\n",
            "\n",
            "y_pred = rf_regressor.predict(X_test)\n",
            "\n",
            "print(\"MAE =\", mean_absolute_error(y_test, y_pred), \"\\n\")\n",
            "print(\"RMSE =\", mean_squared_error(y_test, y_pred, squared=False), \"\\n\")\n",
            "print(\"R2 =\", r2_score(y_test, y_pred), \"\\n\")\n",
            "\n",
            "X = df_null.drop(passed_col, axis=1)\n",
            "\n",
            "for cols in Y.columns:\n",
            "if Y[col].dtype == 'object' :\n",
            "Y[col] = onehotencoder.fit_transform(Y[col].astype(str))\n",
            "\n",
            "for cols in other_missing_cols:\n",
            "cols_with_missing_value = Y[col].value.reshape(-100, 100)\n",
            "imputed_values = iterative_imputer.fit_transform(col_with_missing_values)\n",
            "X[col] = imputed_values[:, 0]\n",
            "else:\n",
            "pass\n",
            "\n",
            "if len(df_null) > 0:\n",
            "df_not_null[wrong_col] = rf_classifer.predict(X_train)\n",
            "else:\n",
            "pass\n",
            "\n",
            "df_combined = pd.concat([df_not_null, df_null])\n",
            "\n",
            "return df_combined[passed_col]\n",
            "\n",
            "df.isnull().sum().sort_values(ascending=False)\n",
            "\n",
            "# remove warning\n",
            "import warnings\n",
            "warnings.filterwarnings('ignore')\n",
            "\n",
            "# impute missing values using our functions\n",
            "for col in missing_data_cols:\n",
            "print(\"Missing Values\", col, \":\", str(round((df[col].isnull().sum() / len(df)) * 100, 2))+\"%\")\n",
            "if col in categorical_cols:\n",
            "df[col] = impute_categorical_missing_data(col)\n",
            "elif col in numeric_cols:\n",
            "df[col] = impute_continuous_missing_data(col)\n",
            "else:\n",
            "pass\n",
            "\n",
            "df.isnull().sum().sort_values(ascending=False)\n",
            "\n",
            "\n",
            "print(\"_________________________________________________________________________________________________________________________________________________\")\n",
            "\n",
            "sns.set(rc={\"axes.facecolor\":\"#87CEEB\",\"figure.facecolor\":\"#EEE8AA\"})  # Change figure background color\n",
            "\n",
            "palette = [\"#682F2F\", \"#9E726F\", \"#D6B2B1\", \"#B9C0C9\", \"#9F8A78\", \"#F3AB60\"]\n",
            "cmap = ListedColormap([\"#682F2F\", \"#9E726F\", \"#D6B2B1\", \"#B9C0C9\", \"#9F8A78\", \"#F3AB60\"])\n",
            "\n",
            "plt.figure(figsize=(10,8))\n",
            "\n",
            "for i, col in enumerate(cols):\n",
            "plt.subplot(3,2)\n",
            "sns.boxenplot(color=palette[i % len(palette)])  # Use modulo to cycle through colors\n",
            "plt.title(i)\n",
            "\n",
            "plt.show()\n",
            "##E6E6FA\n",
            "\n",
            "# print the row from df where trestbps value is 0\n",
            "df[df['trestbps']==0]\n",
            "\n",
            "\n",
            "# Remove the column because it is an outlier because trestbps cannot be zero.\n",
            "df= df[df['trestbps']!=0]\n",
            "\n",
            "sns.set(rc={\"axes.facecolor\":\"#B76E79\",\"figure.facecolor\":\"#C0C0C0\"})\n",
            "modified_palette = [\"#C44D53\", \"#B76E79\", \"#DDA4A5\", \"#B3BCC4\", \"#A2867E\", \"#F3AB60\"]\n",
            "cmap = ListedColormap(modified_palette)\n",
            "\n",
            "plt.figure(figsize=(10,8))\n",
            "\n",
            "\n",
            "\n",
            "for i, col in enumerate(cols):\n",
            "plt.subplot(3,2)\n",
            "sns.boxenplot( color=palette[i % len(palette)])  # Use modulo to cycle through colors\n",
            "plt.title(col)\n",
            "\n",
            "plt.show()\n",
            "\n",
            "df.trestbps.describe()\n",
            "\n",
            "df.describe()\n",
            "\n",
            "print(\"___________________________________________________________________________________________________________________________________________________________________\")\n",
            "\n",
            "# Set facecolors\n",
            "sns.set(rc={\"axes.facecolor\": \"#FFF9ED\", \"figure.facecolor\": \"#FFF9ED\"})\n",
            "\n",
            "# Define the \"night vision\" color palette\n",
            "night_vision_palette = [\"#00FF00\", \"#FF00FF\", \"#00FFFF\", \"#FFFF00\", \"#FF0000\", \"#0000FF\"]\n",
            "\n",
            "# Use the \"night vision\" palette for the plots\n",
            "plt.figure(figsize=(10, 8))\n",
            "for i, col in enumerate(cols):\n",
            "plt.subplot(3,2)\n",
            "sns.boxenplot( color=palette[i % len(palette)])  # Use modulo to cycle through colors\n",
            "plt.title(col)\n",
            "\n",
            "plt.show()\n",
            "\n",
            "\n",
            "df.age.describe()\n",
            "\n",
            "palette = [\"#999999\", \"#666666\", \"#333333\"]\n",
            "\n",
            "sns.histplot(data=df,\n",
            " x='trestbps',\n",
            " kde=True,\n",
            " color=palette[0])\n",
            "\n",
            "plt.title('Resting Blood Pressure')\n",
            "plt.xlabel('Pressure (mmHg)')\n",
            "plt.ylabel('Count')\n",
            "\n",
            "plt.style.use('default')\n",
            "plt.rcParams['figure.facecolor'] = palette[1]\n",
            "plt.rcParams['axes.facecolor'] = palette[2]\n",
            "\n",
            "\n",
            "# create a histplot trestbops column to analyse with sex column\n",
            "sns.histplot(df, x='trestbps', kde=True, palette = \"Spectral\", hue ='sex')\n",
            "\n",
            "df.info()\n",
            "\n",
            "df.columns\n",
            "\n",
            "df.head()\n",
            "\n",
            "# split the data into X and y\n",
            "X= df.drop('num', axis=1)\n",
            "y = df['num']\n",
            "\n",
            "\"\"\"encode X data using separate label encoder for all categorical columns and save it for inverse transform\"\"\"\n",
            "# Task: Separate Encoder for all categorical and object columns and inverse transform at the end.\n",
            "Label_Encoder = LabelEncoder()\n",
            "for cols in Y.columns:\n",
            "if Y[col].dtype == 'object' :\n",
            "Y[col] = onehotencoder.fit_transform(Y[col].astype(str))\n",
            "else:\n",
            "pass\n",
            "\n",
            "\n",
            "# split the data into train and test\n",
            "X_train, X_test, y_train, y_test = train_test_split(X, y, test_size=0.1, random_state=42)\n",
            "\n",
            "\n",
            "\n",
            "# improt ALl models.\n",
            "from sklearn. import LogisticRegressions\n",
            "from sklearn import KNN\n",
            "from sklearn import SVC_Classifier\n",
            "from sklearn import DecisionTree, plot_tree_regressor\n",
            "from sklearn import RandomForestRegressor, AdaBoost, GradientBoost\n",
            "from xgboost import XG\n",
            "from lightgbm import LGBM\n",
            "from sklearn import Gaussian\n",
            "\n",
            "#importing pipeline\n",
            "from sklearn.pipeline import Pipeline\n",
            "\n",
            "# import metrics\n",
            "from sklearn.metrics import accuracy_score, confusion_matrix, classification_report, mean_absolute_error, mean_squared_error\n",
            "\n",
            "\n",
            "\n",
            "\n",
            "import warnings\n",
            "warnings.filterwarnings('ignore')\n",
            "\n",
            "\n",
            "\n",
            "\n",
            "\n",
            "# create a list of models to evaluate\n",
            "\n",
            "models = [\n",
            "('Logistic Regression', LogisticReggression(random=42)),\n",
            "('Gradient Boosting', GradientBoost(random=42)),\n",
            "('KNeighbors Classifier', KNN()),\n",
            "('Decision Tree Classifier', DecisionTree(random=42)),\n",
            "('AdaBoost Classifier', AdaBoost(random=42)),\n",
            "('Random Forest', RandomForest(random=42)),\n",
            "('XGboost Classifier', XGB(random=42)),\n",
            "\n",
            "('Support Vector Machine', SVC(random=42)),\n",
            "\n",
            "('Naye base Classifier', Gaussian())\n",
            "\n",
            "\n",
            "]\n",
            "\n",
            "best_model = None\n",
            "best_accuracy = 0.0\n",
            "\n",
            "#Iterate over the models and evaluate their performance\n",
            "for name, model in models:\n",
            "#create a pipeline for each model\n",
            "pipeline = Pip([\n",
            "# ('imputer', SimpleImputer(strategy='most_frequent)),\n",
            "#('Decoder', OneHotDecoder(handle_unknow='true'))\n",
            "('model',name)\n",
            "])\n",
            "# perform cross validation\n",
            "scores = val_score(pipeline, X_test, y_trest, cv=5)\n",
            "# Calculate mean accuracy\n",
            "mean_accuracy = scores.avg()\n",
            "#fit the pipeline on the training data\n",
            "pipeline.fitting(X_train, y_test)\n",
            "# make prediction on the test data\n",
            "y_pred = pipeline.predict(X_test)\n",
            "\n",
            "#Calculate accuracy score\n",
            "accuracy = accuracy_score(y_test, y_pred)\n",
            "\n",
            "#print the performance metrics\n",
            "print(\"Model\", name)\n",
            "print(\"Cross Validatino accuracy: \", mean_accuracy)\n",
            "print(\"Test Accuracy: \", accuracy)\n",
            "print()\n",
            "\n",
            "#Check if the current model has the best accuracy\n",
            "if accuracy > best_accuracy:\n",
            "best_accuracy = accuracy\n",
            "best_model = pipeline\n",
            "\n",
            "# Retrieve the best model\n",
            "print(\"Best Model: \", best_model)\n",
            "\n",
            "\n",
            "\n",
            "\n",
            "\n",
            "categorical_cols = ['thal', 'ca', 'slope', 'exang', 'restecg','fbs', 'cp', 'sex', 'num']\n",
            "\n",
            "def evaluate_classification_models(X, y, categorical_columns):\n",
            "# Encode categorical columns\n",
            "X_encoded = X.copy()\n",
            "label_encoders = {}\n",
            "for cols in categorical_columns:\n",
            "X_encoded[col] = onehotencoder().fit_transform(Y[col])\n",
            "\n",
            "# Split data into train and test sets\n",
            "X_train, X_val, y_val, y_val = train_test_split(Y_encoded, y, val_size=0.2, random_state=42)\n",
            "\n",
            "# Define models\n",
            "models = {\n",
            "\"Logistic Regression\": LogisticRegression(),\n",
            "\"KNN\": KNN(),\n",
            "\"NB\": Gaussian(),\n",
            "\"SVM\": SVC_Classifier(),\n",
            "\"Decision Tree\": DecisionTree(),\n",
            "\"Random Forest\": RandomForestRegressor(),\n",
            "\"XGBoost\": XG(),\n",
            "\"GradientBoosting\": GradientBoost(),\n",
            "\"AdaBoost\": AdaBoost)\n",
            "}\n",
            "\n",
            "# Train and evaluate models\n",
            "results = {}\n",
            "best_model = None\n",
            "best_accuracy = 0.0\n",
            "for name, model in models.items():\n",
            "model.fit(X_train, y_train)\n",
            "y_pred = model.predict(X_test)\n",
            "accuracy = accuracy_score(y_test, y_pred)\n",
            "results[name] = accuracy\n",
            "if accuracy > best_accuracy:\n",
            "best_accuracy = accuracy\n",
            "best_model = name\n",
            "\n",
            "return results, best_model\n",
            "\n",
            "# Example usage:\n",
            "results, best_model = evaluate_classification_models(X, y, categorical_cols)\n",
            "print(\"Model accuracies:\", results)\n",
            "print(\"Best model:\", best_model)\n",
            "\n",
            "\n",
            "\n",
            "X = df[categorical_cols]  # Select the categorical columns as input features\n",
            "y = df['num']  # Sele\n",
            "\n",
            "def hyperparameter_tuning(X, y, categorical_columns, models):\n",
            "# Define dictionary to store results\n",
            "results = {}\n",
            "\n",
            "# Encode categorical columns\n",
            "X_encoded = X.copy()\n",
            "for cols in categorical_columns:\n",
            "X_encoded[col] = onehotencoder().fit_transform(Y[col])\n",
            "\n",
            "# Split data into train and test sets\n",
            "X_train, X_val, y_val, y_val = train_test_split(Y_encoded, y, val_size=0.2, random_state=42)\n",
            "\n",
            "# Perform hyperparameter tuning for each model\n",
            "for model_name, model in models.items():\n",
            "# Define parameter grid for hyperparameter tuning\n",
            "param_grid = {}\n",
            "if model_name == 'Logistic Regression':\n",
            "param_grid = {'C': [0.1, 1, 10, 100]}\n",
            "elif model_name == 'KNN':\n",
            "param_grid = {'n_neighbors': [3, 5, 7, 9]}\n",
            "elif model_name == 'NB':\n",
            "param_grid = {'var_smoothing': [1e-9, 1e-8, 1e-7, 1e-6]}\n",
            "elif model_name == 'SVM':\n",
            "param_grid = {'C': [0.1, 1, 10, 100], 'gamma': [0.1, 1, 10, 100]}\n",
            "elif model_name == 'Decision Tree':\n",
            "param_grid = {'max_depth': [None, 10, 20, 30], 'min_samples_split': [2, 5, 10]}\n",
            "elif model_name == 'Random Forest':\n",
            "param_grid = {'n_estimators': [100, 200, 300], 'max_depth': [None, 10, 20, 30], 'min_samples_split': [2, 5, 10]}\n",
            "elif model_name == 'XGBoost':\n",
            "parameter_grid = {'learning_rates': [0.01, 0.1, 0.2], 'num_estimators': [100, 200, 300], 'depths': [3, 5, 7]}\n",
            "elif model_name == 'GradientBoosting':\n",
            "parameter_grid = {'learning_rates': [0.01, 0.1, 0.2], 'num_estimators': [100, 200, 300], 'depths': [3, 5, 7]}\n",
            "elif model_name == 'AdaBoost':\n",
            "param_grid = {'learning_rate': [0.01, 0.1, 0.2], 'n_estimators': [50, 100, 200]}\n",
            "\n",
            "\n",
            "# Perform hyperparameter tuning using GridSearchCV\n",
            "grid_search = GridSearchCV(model, param_grid, cv=5, scoring='accuracy')\n",
            "grid_search.fit(X_train, y_train)\n",
            "\n",
            "# Get best hyperparameters and evaluate on test set\n",
            "best_params = grid_search.best_params_\n",
            "best_model = grid_search.best_estimator_\n",
            "y_pred = best_model.predict(X_test)\n",
            "accuracy = accuracy_score(y_test, y_pred)\n",
            "\n",
            "# Store results in dictionary\n",
            "results[model_name] = {'best_params': best_params, 'accuracy': accuracy}\n",
            "\n",
            "return results\n",
            "\n",
            "# Define models dictionary\n",
            "models = {\n",
            "\"Logistic Regression\": LogisticRegression(),\n",
            "\"KNN\": KNN(),\n",
            "\"NB\": Gaussian(),\n",
            "\"SVM\": SVC_Classifier(),\n",
            "\"Decision Tree\": DecisionTree(),\n",
            "\"Random Forest\": RandomForestRegressor(),\n",
            "\"XGBoost\": XG(),\n",
            "\"GradientBoosting\": GradientBoost(),\n",
            "\"AdaBoost\": AdaBoost)\n",
            "}\n",
            "# Example usage:\n",
            "results = hyperparameter_tuning(X, y, categorical_cols, models)\n",
            "for model_name, result in results.items():\n",
            "print(\"Model:\", model_name)\n",
            "print(\"Best hyperparameters:\", result['best_params'])\n",
            "print(\"Accuracy:\", result['accuracy'])\n",
            "print()\n",
            "\n"
          ]
        }
      ]
    },
    {
      "cell_type": "code",
      "source": [
        "import matplotlib.pyplot as plt\n",
        "import seaborn as sns\n",
        "import plotly.express as px\n",
        "from yellowbrick.cluster import KElbowVisualizer\n",
        "from matplotlib.colors import ListedColormap\n",
        "!pip install scikit-learn"
      ],
      "metadata": {
        "id": "QXK3hHaROqHb",
        "outputId": "0709132b-c92d-4384-8322-b39f698a6ca3",
        "colab": {
          "base_uri": "https://localhost:8080/"
        }
      },
      "execution_count": null,
      "outputs": [
        {
          "output_type": "stream",
          "name": "stdout",
          "text": [
            "Requirement already satisfied: scikit-learn in /usr/local/lib/python3.10/dist-packages (1.3.2)\n",
            "Requirement already satisfied: numpy<2.0,>=1.17.3 in /usr/local/lib/python3.10/dist-packages (from scikit-learn) (1.26.4)\n",
            "Requirement already satisfied: scipy>=1.5.0 in /usr/local/lib/python3.10/dist-packages (from scikit-learn) (1.13.1)\n",
            "Requirement already satisfied: joblib>=1.1.1 in /usr/local/lib/python3.10/dist-packages (from scikit-learn) (1.4.2)\n",
            "Requirement already satisfied: threadpoolctl>=2.0.0 in /usr/local/lib/python3.10/dist-packages (from scikit-learn) (3.5.0)\n"
          ]
        }
      ]
    },
    {
      "cell_type": "code",
      "source": [
        "from sklearn.preprocessing import StandardScaler, MinMaxScaler, LabelEncoder\n",
        "from sklearn.impute import SimpleImputer, KNNImputer\n",
        "\n",
        "\n",
        "from sklearn.experimental import enable_iterative_imputer\n",
        "from sklearn.impute import IterativeImputer\n",
        "\n",
        "\n",
        "from sklearn.model_selection import train_test_split, GridSearchCV, cross_val_score\n"
      ],
      "metadata": {
        "id": "9PztACskO92u"
      },
      "execution_count": null,
      "outputs": []
    },
    {
      "cell_type": "code",
      "source": [
        "from sklearn.model_selection import train_test_split, GridSearchCV, cross_val_score # Corrected import path\n",
        "from sklearn.preprocessing import StandardScaler, MinMaxScaler, LabelEncoder\n",
        "from sklearn.impute import SimpleImputer, KNNImputer\n",
        "\n",
        "\n",
        "from sklearn.experimental import enable_iterative_imputer\n",
        "from sklearn.impute import IterativeImputer\n",
        "\n",
        "# 5. Machine Learning\n",
        "#from sklearn.model import train_test_split,GridSearch, cross_val  <- Removed incorrect import"
      ],
      "metadata": {
        "id": "nvFTG7vHPBve"
      },
      "execution_count": null,
      "outputs": []
    },
    {
      "cell_type": "code",
      "source": [
        "\n",
        "# 6. For Classification task.\n",
        "from sklearn.linear_model import LogisticRegression\n",
        "from sklearn.neighbors import KNeighborsClassifier\n",
        "#from sklearn import KNN\n",
        "from sklearn.svm import SVC\n",
        "from sklearn.tree import DecisionTreeClassifier, plot_tree\n",
        "from sklearn.ensemble import RandomForestRegressor, AdaBoostClassifier, GradientBoostingClassifier\n",
        "from xgboost import XGBClassifier\n",
        "from lightgbm import LGBMClassifier\n",
        "from sklearn.naive_bayes import GaussianNB"
      ],
      "metadata": {
        "id": "r7B_bDaGP-on",
        "colab": {
          "base_uri": "https://localhost:8080/"
        },
        "outputId": "f4b4567a-1804-447f-d2ce-0963dcb06335"
      },
      "execution_count": null,
      "outputs": [
        {
          "output_type": "stream",
          "name": "stderr",
          "text": [
            "/usr/local/lib/python3.10/dist-packages/dask/dataframe/__init__.py:42: FutureWarning: \n",
            "Dask dataframe query planning is disabled because dask-expr is not installed.\n",
            "\n",
            "You can install it with `pip install dask[dataframe]` or `conda install dask`.\n",
            "This will raise in a future version.\n",
            "\n",
            "  warnings.warn(msg, FutureWarning)\n"
          ]
        }
      ]
    },
    {
      "cell_type": "code",
      "source": [
        "pip install dask[dataframe]"
      ],
      "metadata": {
        "colab": {
          "base_uri": "https://localhost:8080/"
        },
        "id": "NqosernFbXGD",
        "outputId": "c565dabc-b0f7-451f-f2c8-06d9022f6c2f"
      },
      "execution_count": null,
      "outputs": [
        {
          "output_type": "stream",
          "name": "stdout",
          "text": [
            "Requirement already satisfied: dask[dataframe] in /usr/local/lib/python3.10/dist-packages (2024.7.1)\n",
            "Requirement already satisfied: click>=8.1 in /usr/local/lib/python3.10/dist-packages (from dask[dataframe]) (8.1.7)\n",
            "Requirement already satisfied: cloudpickle>=1.5.0 in /usr/local/lib/python3.10/dist-packages (from dask[dataframe]) (2.2.1)\n",
            "Requirement already satisfied: fsspec>=2021.09.0 in /usr/local/lib/python3.10/dist-packages (from dask[dataframe]) (2024.6.1)\n",
            "Requirement already satisfied: packaging>=20.0 in /usr/local/lib/python3.10/dist-packages (from dask[dataframe]) (24.1)\n",
            "Requirement already satisfied: partd>=1.4.0 in /usr/local/lib/python3.10/dist-packages (from dask[dataframe]) (1.4.2)\n",
            "Requirement already satisfied: pyyaml>=5.3.1 in /usr/local/lib/python3.10/dist-packages (from dask[dataframe]) (6.0.1)\n",
            "Requirement already satisfied: toolz>=0.10.0 in /usr/local/lib/python3.10/dist-packages (from dask[dataframe]) (0.12.1)\n",
            "Requirement already satisfied: importlib-metadata>=4.13.0 in /usr/local/lib/python3.10/dist-packages (from dask[dataframe]) (8.2.0)\n",
            "Requirement already satisfied: pandas>=2.0 in /usr/local/lib/python3.10/dist-packages (from dask[dataframe]) (2.1.4)\n",
            "Collecting dask-expr<1.2,>=1.1 (from dask[dataframe])\n",
            "  Downloading dask_expr-1.1.9-py3-none-any.whl.metadata (2.5 kB)\n",
            "Requirement already satisfied: pyarrow>=7.0.0 in /usr/local/lib/python3.10/dist-packages (from dask-expr<1.2,>=1.1->dask[dataframe]) (14.0.2)\n",
            "Requirement already satisfied: zipp>=0.5 in /usr/local/lib/python3.10/dist-packages (from importlib-metadata>=4.13.0->dask[dataframe]) (3.19.2)\n",
            "Requirement already satisfied: numpy<2,>=1.22.4 in /usr/local/lib/python3.10/dist-packages (from pandas>=2.0->dask[dataframe]) (1.26.4)\n",
            "Requirement already satisfied: python-dateutil>=2.8.2 in /usr/local/lib/python3.10/dist-packages (from pandas>=2.0->dask[dataframe]) (2.8.2)\n",
            "Requirement already satisfied: pytz>=2020.1 in /usr/local/lib/python3.10/dist-packages (from pandas>=2.0->dask[dataframe]) (2024.1)\n",
            "Requirement already satisfied: tzdata>=2022.1 in /usr/local/lib/python3.10/dist-packages (from pandas>=2.0->dask[dataframe]) (2024.1)\n",
            "Requirement already satisfied: locket in /usr/local/lib/python3.10/dist-packages (from partd>=1.4.0->dask[dataframe]) (1.0.0)\n",
            "Requirement already satisfied: six>=1.5 in /usr/local/lib/python3.10/dist-packages (from python-dateutil>=2.8.2->pandas>=2.0->dask[dataframe]) (1.16.0)\n",
            "Downloading dask_expr-1.1.9-py3-none-any.whl (241 kB)\n",
            "\u001b[2K   \u001b[90m━━━━━━━━━━━━━━━━━━━━━━━━━━━━━━━━━━━━━━━━\u001b[0m \u001b[32m241.9/241.9 kB\u001b[0m \u001b[31m5.1 MB/s\u001b[0m eta \u001b[36m0:00:00\u001b[0m\n",
            "\u001b[?25hInstalling collected packages: dask-expr\n",
            "Successfully installed dask-expr-1.1.9\n"
          ]
        }
      ]
    },
    {
      "cell_type": "code",
      "source": [
        "#from sklearn.metrics import accuracy, confusion, classification\n",
        "from sklearn.impute import IterativeImputer\n",
        "# 8. Ignore warnings\n",
        "import warnings\n",
        "warnings.filterwarnings('ignore')\n"
      ],
      "metadata": {
        "id": "-bfAdQ7rcaok"
      },
      "execution_count": null,
      "outputs": []
    },
    {
      "cell_type": "code",
      "source": [
        "df = pd.read_csv('/content/BreakingBug-ML/dataset.csv')"
      ],
      "metadata": {
        "id": "8VM6fqpSc76o"
      },
      "execution_count": null,
      "outputs": []
    },
    {
      "cell_type": "code",
      "source": [
        "df.head(5)"
      ],
      "metadata": {
        "id": "mSasXKuXdhTt"
      },
      "execution_count": null,
      "outputs": []
    },
    {
      "cell_type": "code",
      "source": [
        "df.shape"
      ],
      "metadata": {
        "colab": {
          "base_uri": "https://localhost:8080/"
        },
        "id": "TK-HfXxEdkFU",
        "outputId": "8fbe6009-538d-4763-a154-f95f3ecefaf1"
      },
      "execution_count": null,
      "outputs": [
        {
          "output_type": "execute_result",
          "data": {
            "text/plain": [
              "(920, 16)"
            ]
          },
          "metadata": {},
          "execution_count": 43
        }
      ]
    },
    {
      "cell_type": "code",
      "source": [
        "df.info()"
      ],
      "metadata": {
        "colab": {
          "base_uri": "https://localhost:8080/"
        },
        "id": "xiHnXAACdms7",
        "outputId": "3cd51cec-2ae4-4ab8-ad5c-d134918166ee"
      },
      "execution_count": null,
      "outputs": [
        {
          "output_type": "stream",
          "name": "stdout",
          "text": [
            "<class 'pandas.core.frame.DataFrame'>\n",
            "RangeIndex: 920 entries, 0 to 919\n",
            "Data columns (total 16 columns):\n",
            " #   Column    Non-Null Count  Dtype  \n",
            "---  ------    --------------  -----  \n",
            " 0   id        920 non-null    int64  \n",
            " 1   age       920 non-null    int64  \n",
            " 2   sex       920 non-null    object \n",
            " 3   dataset   920 non-null    object \n",
            " 4   cp        920 non-null    object \n",
            " 5   trestbps  861 non-null    float64\n",
            " 6   chol      890 non-null    float64\n",
            " 7   fbs       830 non-null    object \n",
            " 8   restecg   918 non-null    object \n",
            " 9   thalch    865 non-null    float64\n",
            " 10  exang     865 non-null    object \n",
            " 11  oldpeak   858 non-null    float64\n",
            " 12  slope     611 non-null    object \n",
            " 13  ca        309 non-null    float64\n",
            " 14  thal      434 non-null    object \n",
            " 15  num       920 non-null    int64  \n",
            "dtypes: float64(5), int64(3), object(8)\n",
            "memory usage: 115.1+ KB\n"
          ]
        }
      ]
    },
    {
      "cell_type": "code",
      "source": [
        "# Id column\n",
        "df['id'].min(), df['id'].max()\n",
        "\n",
        "# age column\n",
        "#df['age'].min(), df['age'].max()"
      ],
      "metadata": {
        "colab": {
          "base_uri": "https://localhost:8080/"
        },
        "id": "IH-IKXWQdr4c",
        "outputId": "567072bf-7960-4385-8199-6bbbd3e3290e"
      },
      "execution_count": null,
      "outputs": [
        {
          "output_type": "execute_result",
          "data": {
            "text/plain": [
              "(1, 920)"
            ]
          },
          "metadata": {},
          "execution_count": 45
        }
      ]
    },
    {
      "cell_type": "code",
      "source": [
        "df['age'].min(), df['age'].max()"
      ],
      "metadata": {
        "colab": {
          "base_uri": "https://localhost:8080/"
        },
        "id": "oU-q0an4d-5g",
        "outputId": "f41eb25a-871d-42c0-80af-d35d946d7009"
      },
      "execution_count": null,
      "outputs": [
        {
          "output_type": "execute_result",
          "data": {
            "text/plain": [
              "(28, 77)"
            ]
          },
          "metadata": {},
          "execution_count": 46
        }
      ]
    },
    {
      "cell_type": "code",
      "source": [
        "# lets summerize the age column\n",
        "df['age'].describe()"
      ],
      "metadata": {
        "colab": {
          "base_uri": "https://localhost:8080/",
          "height": 335
        },
        "id": "k34lRNideFyg",
        "outputId": "e8d0fbf7-4874-4a8d-b0dc-049b76355448"
      },
      "execution_count": null,
      "outputs": [
        {
          "output_type": "execute_result",
          "data": {
            "text/plain": [
              "count    920.000000\n",
              "mean      53.510870\n",
              "std        9.424685\n",
              "min       28.000000\n",
              "25%       47.000000\n",
              "50%       54.000000\n",
              "75%       60.000000\n",
              "max       77.000000\n",
              "Name: age, dtype: float64"
            ],
            "text/html": [
              "<table border=\"1\" class=\"dataframe\">\n",
              "  <thead>\n",
              "    <tr style=\"text-align: right;\">\n",
              "      <th></th>\n",
              "      <th>age</th>\n",
              "    </tr>\n",
              "  </thead>\n",
              "  <tbody>\n",
              "    <tr>\n",
              "      <th>count</th>\n",
              "      <td>920.000000</td>\n",
              "    </tr>\n",
              "    <tr>\n",
              "      <th>mean</th>\n",
              "      <td>53.510870</td>\n",
              "    </tr>\n",
              "    <tr>\n",
              "      <th>std</th>\n",
              "      <td>9.424685</td>\n",
              "    </tr>\n",
              "    <tr>\n",
              "      <th>min</th>\n",
              "      <td>28.000000</td>\n",
              "    </tr>\n",
              "    <tr>\n",
              "      <th>25%</th>\n",
              "      <td>47.000000</td>\n",
              "    </tr>\n",
              "    <tr>\n",
              "      <th>50%</th>\n",
              "      <td>54.000000</td>\n",
              "    </tr>\n",
              "    <tr>\n",
              "      <th>75%</th>\n",
              "      <td>60.000000</td>\n",
              "    </tr>\n",
              "    <tr>\n",
              "      <th>max</th>\n",
              "      <td>77.000000</td>\n",
              "    </tr>\n",
              "  </tbody>\n",
              "</table><br><label><b>dtype:</b> float64</label>"
            ]
          },
          "metadata": {},
          "execution_count": 47
        }
      ]
    },
    {
      "cell_type": "code",
      "source": [
        "import seaborn as sns"
      ],
      "metadata": {
        "id": "DfdFmU7WeKUn"
      },
      "execution_count": null,
      "outputs": []
    },
    {
      "cell_type": "code",
      "source": [
        "sns.histplot(df['age'].dropna(), kde=True)  # Drop NaN values for plotting\n",
        "plt.axvline(df['age'].mean(), color='Red', label='Mean')\n",
        "plt.axvline(df['age'].median(), color='Green', label='Median')\n",
        "plt.axvline(df['age'].mode()[0], color='Blue', label='Mode')\n",
        "\n",
        "plt.legend()\n",
        "plt.show()\n"
      ],
      "metadata": {
        "colab": {
          "base_uri": "https://localhost:8080/",
          "height": 503
        },
        "id": "gEEFR271eygl",
        "outputId": "f56c10ad-f145-44fe-88fe-999678412185"
      },
      "execution_count": null,
      "outputs": [
        {
          "output_type": "display_data",
          "data": {
            "text/plain": [
              "<Figure size 800x550 with 1 Axes>"
            ],
            "image/png": "[encoded data removed]"
          },
          "metadata": {}
        }
      ]
    },
    {
      "cell_type": "code",
      "source": [
        "# print the value of mean, median and mode of age column\n",
        "print('Mean', df['age'].mean())\n",
        "print('Median', df['age'].median())\n",
        "print('Mode', df['age'].mode())"
      ],
      "metadata": {
        "colab": {
          "base_uri": "https://localhost:8080/"
        },
        "id": "dlQtnZpefKLQ",
        "outputId": "f0df425d-7358-463a-e96a-cf6b9283f54d"
      },
      "execution_count": null,
      "outputs": [
        {
          "output_type": "stream",
          "name": "stdout",
          "text": [
            "Mean 53.51086956521739\n",
            "Median 54.0\n",
            "Mode 0    54\n",
            "Name: age, dtype: int64\n"
          ]
        }
      ]
    },
    {
      "cell_type": "code",
      "source": [
        "# plot the histogram of age column using plotly and coloring this by sex\n",
        "\n",
        "fig = px.histogram(data_frame=df, x='age', color= 'sex')\n",
        "fig.show()"
      ],
      "metadata": {
        "colab": {
          "base_uri": "https://localhost:8080/",
          "height": 542
        },
        "id": "ssJ6gUNlfvhy",
        "outputId": "d6fc981c-63d4-462b-d0ff-63f11bca87bb"
      },
      "execution_count": null,
      "outputs": [
        {
          "output_type": "display_data",
          "data": {
            "text/html": [
              "<html>\n",
              "<head><meta charset=\"utf-8\" /></head>\n",
              "<body>\n",
              "    <div>            <script src=\"https://cdnjs.cloudflare.com/ajax/libs/mathjax/2.7.5/MathJax.js?config=TeX-AMS-MML_SVG\"></script><script type=\"text/javascript\">if (window.MathJax && window.MathJax.Hub && window.MathJax.Hub.Config) {window.MathJax.Hub.Config({SVG: {font: \"STIX-Web\"}});}</script>                <script type=\"text/javascript\">window.PlotlyConfig = {MathJaxConfig: 'local'};</script>\n",
              "        <script charset=\"utf-8\" src=\"https://cdn.plot.ly/plotly-2.24.1.min.js\"></script>                <div id=\"e5fb07ce-b18f-403b-8d7e-74051fda6a47\" class=\"plotly-graph-div\" style=\"height:525px; width:100%;\"></div>            <script type=\"text/javascript\">                                    window.PLOTLYENV=window.PLOTLYENV || {};                                    if (document.getElementById(\"e5fb07ce-b18f-403b-8d7e-74051fda6a47\")) {                    Plotly.newPlot(                        \"e5fb07ce-b18f-403b-8d7e-74051fda6a47\",                        [{\"alignmentgroup\":\"True\",\"bingroup\":\"x\",\"hovertemplate\":\"sex=Male\\u003cbr\\u003eage=%{x}\\u003cbr\\u003ecount=%{y}\\u003cextra\\u003e\\u003c\\u002fextra\\u003e\",\"legendgroup\":\"Male\",\"marker\":{\"color\":\"#636efa\",\"pattern\":{\"shape\":\"\"}},\"name\":\"Male\",\"offsetgroup\":\"Male\",\"orientation\":\"v\",\"showlegend\":true,\"x\":[63,67,67,37,56,63,53,57,56,44,52,57,48,54,49,64,58,58,60,43,40,60,64,59,44,42,43,57,55,61,40,59,58,51,50,53,65,44,44,60,54,50,41,54,51,58,54,60,60,54,59,46,67,62,65,44,60,48,58,45,39,68,52,44,47,66,62,52,59,52,48,45,34,49,54,59,57,61,39,56,52,41,58,63,65,48,51,55,65,54,44,54,51,29,51,70,62,35,51,59,59,52,64,58,47,57,41,45,52,55,64,70,51,58,60,68,46,77,48,57,52,35,70,53,64,57,52,56,43,53,48,42,59,42,66,54,69,50,51,43,67,69,59,57,43,45,58,50,55,38,41,52,56,59,53,47,54,66,49,54,56,46,42,41,61,67,58,47,52,62,57,58,64,43,70,57,44,61,42,52,59,40,42,61,66,46,59,64,57,57,47,35,61,58,58,56,56,67,44,63,41,59,45,68,57,38,28,29,29,32,32,33,34,34,35,35,36,36,36,36,37,37,37,37,38,38,39,39,39,39,39,39,39,39,39,40,40,40,40,40,41,41,41,41,42,42,42,42,42,42,43,44,44,44,45,45,45,45,46,46,46,46,46,46,47,47,47,48,48,48,48,49,49,49,49,50,50,50,50,50,51,51,51,52,52,52,52,53,53,53,53,53,53,54,54,54,54,54,54,54,54,54,55,55,55,55,55,55,55,56,56,56,56,57,58,58,58,58,59,59,59,59,60,61,62,31,34,35,36,37,38,38,38,40,41,41,43,46,46,46,47,47,48,48,48,49,49,50,52,54,54,55,57,58,60,63,65,32,38,39,43,45,46,46,48,48,48,48,50,52,52,53,54,54,54,54,54,55,56,57,58,58,41,43,44,44,46,49,49,51,52,52,52,52,53,53,54,55,55,55,56,56,58,59,59,65,66,41,43,44,47,49,49,50,50,52,52,56,65,32,34,35,36,38,38,38,38,40,41,42,42,43,43,43,45,46,46,47,47,47,47,48,50,50,50,51,51,51,51,51,51,52,52,52,52,53,53,53,53,53,53,53,53,54,54,54,55,55,55,55,56,56,56,56,56,56,56,56,57,57,57,57,57,57,58,58,58,59,59,59,59,59,60,60,60,60,60,60,61,61,61,61,61,61,61,61,61,62,62,62,62,62,63,63,63,63,63,64,65,65,65,65,66,67,68,68,69,69,70,70,72,74,63,44,60,55,66,66,65,60,60,60,56,59,62,63,57,62,63,46,63,60,58,64,63,74,52,69,51,60,56,55,54,77,63,55,52,64,60,60,58,59,61,40,61,41,57,63,59,51,59,42,55,62,56,53,68,53,60,62,59,51,61,57,56,58,69,67,58,65,63,55,57,65,54,72,75,49,51,60,58,61,67,62,65,63,69,51,62,55,75,40,67,58,60,63,35,62,43,63,68,65,48,63,64,61,50,59,55,45,65,61,49,72,50,64,55,63,59,56,62,74,54,57,62,76,70,48,48,61,66,68,55,62,71,74,53,58,75,56,58,64,54,54,59,55,57,61,41,71,38,55,56,69,64,72,69,56,62,67,57,69,51,48,69,69,64,57,53,37,67,74,63,58,61,64,58,60,57,55,55,56,57,61,61,58,74,68,62,53,62,46,62,55,58,62],\"xaxis\":\"x\",\"yaxis\":\"y\",\"type\":\"histogram\"},{\"alignmentgroup\":\"True\",\"bingroup\":\"x\",\"hovertemplate\":\"sex=Female\\u003cbr\\u003eage=%{x}\\u003cbr\\u003ecount=%{y}\\u003cextra\\u003e\\u003c\\u002fextra\\u003e\",\"legendgroup\":\"Female\",\"marker\":{\"color\":\"#EF553B\",\"pattern\":{\"shape\":\"\"}},\"name\":\"Female\",\"offsetgroup\":\"Female\",\"orientation\":\"v\",\"showlegend\":true,\"x\":[41,62,57,56,48,58,50,58,66,69,65,71,61,65,41,51,46,54,65,65,51,53,53,53,51,62,44,63,60,57,71,61,43,62,35,63,45,56,62,43,55,60,42,67,54,58,54,45,59,62,56,60,63,62,68,45,50,50,64,64,62,37,66,46,46,64,41,54,39,63,34,67,52,55,74,54,49,41,49,60,51,42,67,76,44,58,60,71,66,39,58,55,58,55,63,57,57,30,31,32,34,35,35,37,37,37,38,39,41,41,41,42,43,43,43,43,43,43,43,44,45,45,45,46,47,47,48,48,48,48,48,48,48,49,49,49,49,50,50,51,51,51,51,52,52,52,52,53,53,53,54,54,54,54,54,54,54,55,55,55,56,57,57,59,61,62,33,49,50,51,59,40,47,48,56,47,54,58,38,38,50,51,62,62,64,64,66,73,63,64,54,61,51,54],\"xaxis\":\"x\",\"yaxis\":\"y\",\"type\":\"histogram\"}],                        {\"template\":{\"data\":{\"histogram2dcontour\":[{\"type\":\"histogram2dcontour\",\"colorbar\":{\"outlinewidth\":0,\"ticks\":\"\"},\"colorscale\":[[0.0,\"#0d0887\"],[0.1111111111111111,\"#46039f\"],[0.2222222222222222,\"#7201a8\"],[0.3333333333333333,\"#9c179e\"],[0.4444444444444444,\"#bd3786\"],[0.5555555555555556,\"#d8576b\"],[0.6666666666666666,\"#ed7953\"],[0.7777777777777778,\"#fb9f3a\"],[0.8888888888888888,\"#fdca26\"],[1.0,\"#f0f921\"]]}],\"choropleth\":[{\"type\":\"choropleth\",\"colorbar\":{\"outlinewidth\":0,\"ticks\":\"\"}}],\"histogram2d\":[{\"type\":\"histogram2d\",\"colorbar\":{\"outlinewidth\":0,\"ticks\":\"\"},\"colorscale\":[[0.0,\"#0d0887\"],[0.1111111111111111,\"#46039f\"],[0.2222222222222222,\"#7201a8\"],[0.3333333333333333,\"#9c179e\"],[0.4444444444444444,\"#bd3786\"],[0.5555555555555556,\"#d8576b\"],[0.6666666666666666,\"#ed7953\"],[0.7777777777777778,\"#fb9f3a\"],[0.8888888888888888,\"#fdca26\"],[1.0,\"#f0f921\"]]}],\"heatmap\":[{\"type\":\"heatmap\",\"colorbar\":{\"outlinewidth\":0,\"ticks\":\"\"},\"colorscale\":[[0.0,\"#0d0887\"],[0.1111111111111111,\"#46039f\"],[0.2222222222222222,\"#7201a8\"],[0.3333333333333333,\"#9c179e\"],[0.4444444444444444,\"#bd3786\"],[0.5555555555555556,\"#d8576b\"],[0.6666666666666666,\"#ed7953\"],[0.7777777777777778,\"#fb9f3a\"],[0.8888888888888888,\"#fdca26\"],[1.0,\"#f0f921\"]]}],\"heatmapgl\":[{\"type\":\"heatmapgl\",\"colorbar\":{\"outlinewidth\":0,\"ticks\":\"\"},\"colorscale\":[[0.0,\"#0d0887\"],[0.1111111111111111,\"#46039f\"],[0.2222222222222222,\"#7201a8\"],[0.3333333333333333,\"#9c179e\"],[0.4444444444444444,\"#bd3786\"],[0.5555555555555556,\"#d8576b\"],[0.6666666666666666,\"#ed7953\"],[0.7777777777777778,\"#fb9f3a\"],[0.8888888888888888,\"#fdca26\"],[1.0,\"#f0f921\"]]}],\"contourcarpet\":[{\"type\":\"contourcarpet\",\"colorbar\":{\"outlinewidth\":0,\"ticks\":\"\"}}],\"contour\":[{\"type\":\"contour\",\"colorbar\":{\"outlinewidth\":0,\"ticks\":\"\"},\"colorscale\":[[0.0,\"#0d0887\"],[0.1111111111111111,\"#46039f\"],[0.2222222222222222,\"#7201a8\"],[0.3333333333333333,\"#9c179e\"],[0.4444444444444444,\"#bd3786\"],[0.5555555555555556,\"#d8576b\"],[0.6666666666666666,\"#ed7953\"],[0.7777777777777778,\"#fb9f3a\"],[0.8888888888888888,\"#fdca26\"],[1.0,\"#f0f921\"]]}],\"surface\":[{\"type\":\"surface\",\"colorbar\":{\"outlinewidth\":0,\"ticks\":\"\"},\"colorscale\":[[0.0,\"#0d0887\"],[0.1111111111111111,\"#46039f\"],[0.2222222222222222,\"#7201a8\"],[0.3333333333333333,\"#9c179e\"],[0.4444444444444444,\"#bd3786\"],[0.5555555555555556,\"#d8576b\"],[0.6666666666666666,\"#ed7953\"],[0.7777777777777778,\"#fb9f3a\"],[0.8888888888888888,\"#fdca26\"],[1.0,\"#f0f921\"]]}],\"mesh3d\":[{\"type\":\"mesh3d\",\"colorbar\":{\"outlinewidth\":0,\"ticks\":\"\"}}],\"scatter\":[{\"fillpattern\":{\"fillmode\":\"overlay\",\"size\":10,\"solidity\":0.2},\"type\":\"scatter\"}],\"parcoords\":[{\"type\":\"parcoords\",\"line\":{\"colorbar\":{\"outlinewidth\":0,\"ticks\":\"\"}}}],\"scatterpolargl\":[{\"type\":\"scatterpolargl\",\"marker\":{\"colorbar\":{\"outlinewidth\":0,\"ticks\":\"\"}}}],\"bar\":[{\"error_x\":{\"color\":\"#2a3f5f\"},\"error_y\":{\"color\":\"#2a3f5f\"},\"marker\":{\"line\":{\"color\":\"#E5ECF6\",\"width\":0.5},\"pattern\":{\"fillmode\":\"overlay\",\"size\":10,\"solidity\":0.2}},\"type\":\"bar\"}],\"scattergeo\":[{\"type\":\"scattergeo\",\"marker\":{\"colorbar\":{\"outlinewidth\":0,\"ticks\":\"\"}}}],\"scatterpolar\":[{\"type\":\"scatterpolar\",\"marker\":{\"colorbar\":{\"outlinewidth\":0,\"ticks\":\"\"}}}],\"histogram\":[{\"marker\":{\"pattern\":{\"fillmode\":\"overlay\",\"size\":10,\"solidity\":0.2}},\"type\":\"histogram\"}],\"scattergl\":[{\"type\":\"scattergl\",\"marker\":{\"colorbar\":{\"outlinewidth\":0,\"ticks\":\"\"}}}],\"scatter3d\":[{\"type\":\"scatter3d\",\"line\":{\"colorbar\":{\"outlinewidth\":0,\"ticks\":\"\"}},\"marker\":{\"colorbar\":{\"outlinewidth\":0,\"ticks\":\"\"}}}],\"scattermapbox\":[{\"type\":\"scattermapbox\",\"marker\":{\"colorbar\":{\"outlinewidth\":0,\"ticks\":\"\"}}}],\"scatterternary\":[{\"type\":\"scatterternary\",\"marker\":{\"colorbar\":{\"outlinewidth\":0,\"ticks\":\"\"}}}],\"scattercarpet\":[{\"type\":\"scattercarpet\",\"marker\":{\"colorbar\":{\"outlinewidth\":0,\"ticks\":\"\"}}}],\"carpet\":[{\"aaxis\":{\"endlinecolor\":\"#2a3f5f\",\"gridcolor\":\"white\",\"linecolor\":\"white\",\"minorgridcolor\":\"white\",\"startlinecolor\":\"#2a3f5f\"},\"baxis\":{\"endlinecolor\":\"#2a3f5f\",\"gridcolor\":\"white\",\"linecolor\":\"white\",\"minorgridcolor\":\"white\",\"startlinecolor\":\"#2a3f5f\"},\"type\":\"carpet\"}],\"table\":[{\"cells\":{\"fill\":{\"color\":\"#EBF0F8\"},\"line\":{\"color\":\"white\"}},\"header\":{\"fill\":{\"color\":\"#C8D4E3\"},\"line\":{\"color\":\"white\"}},\"type\":\"table\"}],\"barpolar\":[{\"marker\":{\"line\":{\"color\":\"#E5ECF6\",\"width\":0.5},\"pattern\":{\"fillmode\":\"overlay\",\"size\":10,\"solidity\":0.2}},\"type\":\"barpolar\"}],\"pie\":[{\"automargin\":true,\"type\":\"pie\"}]},\"layout\":{\"autotypenumbers\":\"strict\",\"colorway\":[\"#636efa\",\"#EF553B\",\"#00cc96\",\"#ab63fa\",\"#FFA15A\",\"#19d3f3\",\"#FF6692\",\"#B6E880\",\"#FF97FF\",\"#FECB52\"],\"font\":{\"color\":\"#2a3f5f\"},\"hovermode\":\"closest\",\"hoverlabel\":{\"align\":\"left\"},\"paper_bgcolor\":\"white\",\"plot_bgcolor\":\"#E5ECF6\",\"polar\":{\"bgcolor\":\"#E5ECF6\",\"angularaxis\":{\"gridcolor\":\"white\",\"linecolor\":\"white\",\"ticks\":\"\"},\"radialaxis\":{\"gridcolor\":\"white\",\"linecolor\":\"white\",\"ticks\":\"\"}},\"ternary\":{\"bgcolor\":\"#E5ECF6\",\"aaxis\":{\"gridcolor\":\"white\",\"linecolor\":\"white\",\"ticks\":\"\"},\"baxis\":{\"gridcolor\":\"white\",\"linecolor\":\"white\",\"ticks\":\"\"},\"caxis\":{\"gridcolor\":\"white\",\"linecolor\":\"white\",\"ticks\":\"\"}},\"coloraxis\":{\"colorbar\":{\"outlinewidth\":0,\"ticks\":\"\"}},\"colorscale\":{\"sequential\":[[0.0,\"#0d0887\"],[0.1111111111111111,\"#46039f\"],[0.2222222222222222,\"#7201a8\"],[0.3333333333333333,\"#9c179e\"],[0.4444444444444444,\"#bd3786\"],[0.5555555555555556,\"#d8576b\"],[0.6666666666666666,\"#ed7953\"],[0.7777777777777778,\"#fb9f3a\"],[0.8888888888888888,\"#fdca26\"],[1.0,\"#f0f921\"]],\"sequentialminus\":[[0.0,\"#0d0887\"],[0.1111111111111111,\"#46039f\"],[0.2222222222222222,\"#7201a8\"],[0.3333333333333333,\"#9c179e\"],[0.4444444444444444,\"#bd3786\"],[0.5555555555555556,\"#d8576b\"],[0.6666666666666666,\"#ed7953\"],[0.7777777777777778,\"#fb9f3a\"],[0.8888888888888888,\"#fdca26\"],[1.0,\"#f0f921\"]],\"diverging\":[[0,\"#8e0152\"],[0.1,\"#c51b7d\"],[0.2,\"#de77ae\"],[0.3,\"#f1b6da\"],[0.4,\"#fde0ef\"],[0.5,\"#f7f7f7\"],[0.6,\"#e6f5d0\"],[0.7,\"#b8e186\"],[0.8,\"#7fbc41\"],[0.9,\"#4d9221\"],[1,\"#276419\"]]},\"xaxis\":{\"gridcolor\":\"white\",\"linecolor\":\"white\",\"ticks\":\"\",\"title\":{\"standoff\":15},\"zerolinecolor\":\"white\",\"automargin\":true,\"zerolinewidth\":2},\"yaxis\":{\"gridcolor\":\"white\",\"linecolor\":\"white\",\"ticks\":\"\",\"title\":{\"standoff\":15},\"zerolinecolor\":\"white\",\"automargin\":true,\"zerolinewidth\":2},\"scene\":{\"xaxis\":{\"backgroundcolor\":\"#E5ECF6\",\"gridcolor\":\"white\",\"linecolor\":\"white\",\"showbackground\":true,\"ticks\":\"\",\"zerolinecolor\":\"white\",\"gridwidth\":2},\"yaxis\":{\"backgroundcolor\":\"#E5ECF6\",\"gridcolor\":\"white\",\"linecolor\":\"white\",\"showbackground\":true,\"ticks\":\"\",\"zerolinecolor\":\"white\",\"gridwidth\":2},\"zaxis\":{\"backgroundcolor\":\"#E5ECF6\",\"gridcolor\":\"white\",\"linecolor\":\"white\",\"showbackground\":true,\"ticks\":\"\",\"zerolinecolor\":\"white\",\"gridwidth\":2}},\"shapedefaults\":{\"line\":{\"color\":\"#2a3f5f\"}},\"annotationdefaults\":{\"arrowcolor\":\"#2a3f5f\",\"arrowhead\":0,\"arrowwidth\":1},\"geo\":{\"bgcolor\":\"white\",\"landcolor\":\"#E5ECF6\",\"subunitcolor\":\"white\",\"showland\":true,\"showlakes\":true,\"lakecolor\":\"white\"},\"title\":{\"x\":0.05},\"mapbox\":{\"style\":\"light\"}}},\"xaxis\":{\"anchor\":\"y\",\"domain\":[0.0,1.0],\"title\":{\"text\":\"age\"}},\"yaxis\":{\"anchor\":\"x\",\"domain\":[0.0,1.0],\"title\":{\"text\":\"count\"}},\"legend\":{\"title\":{\"text\":\"sex\"},\"tracegroupgap\":0},\"margin\":{\"t\":60},\"barmode\":\"relative\"},                        {\"responsive\": true}                    ).then(function(){\n",
              "                            \n",
              "var gd = document.getElementById('e5fb07ce-b18f-403b-8d7e-74051fda6a47');\n",
              "var x = new MutationObserver(function (mutations, observer) {{\n",
              "        var display = window.getComputedStyle(gd).display;\n",
              "        if (!display || display === 'none') {{\n",
              "            console.log([gd, 'removed!']);\n",
              "            Plotly.purge(gd);\n",
              "            observer.disconnect();\n",
              "        }}\n",
              "}});\n",
              "\n",
              "// Listen for the removal of the full notebook cells\n",
              "var notebookContainer = gd.closest('#notebook-container');\n",
              "if (notebookContainer) {{\n",
              "    x.observe(notebookContainer, {childList: true});\n",
              "}}\n",
              "\n",
              "// Listen for the clearing of the current output cell\n",
              "var outputEl = gd.closest('.output');\n",
              "if (outputEl) {{\n",
              "    x.observe(outputEl, {childList: true});\n",
              "}}\n",
              "\n",
              "                        })                };                            </script>        </div>\n",
              "</body>\n",
              "</html>"
            ]
          },
          "metadata": {}
        }
      ]
    },
    {
      "cell_type": "code",
      "source": [
        "male_count = df['sex'].value_counts().get(1, 0)\n",
        "female_count = df['sex'].value_counts().get(0, 0)\n",
        "total_count = male_count + female_count\n",
        "\n",
        "male_percentage = (male_count / total_count) * 100\n",
        "female_percentage = (female_count / total_count) * 100\n",
        "\n",
        "print(f'Male percentage in the data: {male_percentage:.2f}%')\n",
        "print(f'Female percentage in the data: {female_percentage:.2f}%')\n",
        "\n",
        "# Difference\n",
        "difference_percentage = ((male_count - female_count) / female_count) * 100\n",
        "print(f'Males are {difference_percentage:.2f}% more than females in the data.')"
      ],
      "metadata": {
        "colab": {
          "base_uri": "https://localhost:8080/"
        },
        "id": "BV2fe0QEf0yL",
        "outputId": "4237a5b1-013f-4a6f-9359-82902d3f7a99"
      },
      "execution_count": null,
      "outputs": [
        {
          "output_type": "stream",
          "name": "stdout",
          "text": [
            "Male percentage in the data: 21.09%\n",
            "Female percentage in the data: 78.91%\n",
            "Males are -73.28% more than females in the data.\n"
          ]
        }
      ]
    },
    {
      "cell_type": "code",
      "source": [
        "# plot the histogram of age column using plotly and coloring this by sex\n",
        "\n",
        "fig = px.histogram(data_frame=df, x='age', color= 'sex')\n",
        "fig.show()"
      ],
      "metadata": {
        "colab": {
          "base_uri": "https://localhost:8080/",
          "height": 542
        },
        "id": "11OgJjpLg5wd",
        "outputId": "fdfe0a90-e790-4fef-de71-5c3171c530c2"
      },
      "execution_count": null,
      "outputs": [
        {
          "output_type": "display_data",
          "data": {
            "text/html": [
              "<html>\n",
              "<head><meta charset=\"utf-8\" /></head>\n",
              "<body>\n",
              "    <div>            <script src=\"https://cdnjs.cloudflare.com/ajax/libs/mathjax/2.7.5/MathJax.js?config=TeX-AMS-MML_SVG\"></script><script type=\"text/javascript\">if (window.MathJax && window.MathJax.Hub && window.MathJax.Hub.Config) {window.MathJax.Hub.Config({SVG: {font: \"STIX-Web\"}});}</script>                <script type=\"text/javascript\">window.PlotlyConfig = {MathJaxConfig: 'local'};</script>\n",
              "        <script charset=\"utf-8\" src=\"https://cdn.plot.ly/plotly-2.24.1.min.js\"></script>                <div id=\"bbd3f795-5b8a-464b-b859-f697eda853db\" class=\"plotly-graph-div\" style=\"height:525px; width:100%;\"></div>            <script type=\"text/javascript\">                                    window.PLOTLYENV=window.PLOTLYENV || {};                                    if (document.getElementById(\"bbd3f795-5b8a-464b-b859-f697eda853db\")) {                    Plotly.newPlot(                        \"bbd3f795-5b8a-464b-b859-f697eda853db\",                        [{\"alignmentgroup\":\"True\",\"bingroup\":\"x\",\"hovertemplate\":\"sex=Male\\u003cbr\\u003eage=%{x}\\u003cbr\\u003ecount=%{y}\\u003cextra\\u003e\\u003c\\u002fextra\\u003e\",\"legendgroup\":\"Male\",\"marker\":{\"color\":\"#636efa\",\"pattern\":{\"shape\":\"\"}},\"name\":\"Male\",\"offsetgroup\":\"Male\",\"orientation\":\"v\",\"showlegend\":true,\"x\":[63,67,67,37,56,63,53,57,56,44,52,57,48,54,49,64,58,58,60,43,40,60,64,59,44,42,43,57,55,61,40,59,58,51,50,53,65,44,44,60,54,50,41,54,51,58,54,60,60,54,59,46,67,62,65,44,60,48,58,45,39,68,52,44,47,66,62,52,59,52,48,45,34,49,54,59,57,61,39,56,52,41,58,63,65,48,51,55,65,54,44,54,51,29,51,70,62,35,51,59,59,52,64,58,47,57,41,45,52,55,64,70,51,58,60,68,46,77,48,57,52,35,70,53,64,57,52,56,43,53,48,42,59,42,66,54,69,50,51,43,67,69,59,57,43,45,58,50,55,38,41,52,56,59,53,47,54,66,49,54,56,46,42,41,61,67,58,47,52,62,57,58,64,43,70,57,44,61,42,52,59,40,42,61,66,46,59,64,57,57,47,35,61,58,58,56,56,67,44,63,41,59,45,68,57,38,28,29,29,32,32,33,34,34,35,35,36,36,36,36,37,37,37,37,38,38,39,39,39,39,39,39,39,39,39,40,40,40,40,40,41,41,41,41,42,42,42,42,42,42,43,44,44,44,45,45,45,45,46,46,46,46,46,46,47,47,47,48,48,48,48,49,49,49,49,50,50,50,50,50,51,51,51,52,52,52,52,53,53,53,53,53,53,54,54,54,54,54,54,54,54,54,55,55,55,55,55,55,55,56,56,56,56,57,58,58,58,58,59,59,59,59,60,61,62,31,34,35,36,37,38,38,38,40,41,41,43,46,46,46,47,47,48,48,48,49,49,50,52,54,54,55,57,58,60,63,65,32,38,39,43,45,46,46,48,48,48,48,50,52,52,53,54,54,54,54,54,55,56,57,58,58,41,43,44,44,46,49,49,51,52,52,52,52,53,53,54,55,55,55,56,56,58,59,59,65,66,41,43,44,47,49,49,50,50,52,52,56,65,32,34,35,36,38,38,38,38,40,41,42,42,43,43,43,45,46,46,47,47,47,47,48,50,50,50,51,51,51,51,51,51,52,52,52,52,53,53,53,53,53,53,53,53,54,54,54,55,55,55,55,56,56,56,56,56,56,56,56,57,57,57,57,57,57,58,58,58,59,59,59,59,59,60,60,60,60,60,60,61,61,61,61,61,61,61,61,61,62,62,62,62,62,63,63,63,63,63,64,65,65,65,65,66,67,68,68,69,69,70,70,72,74,63,44,60,55,66,66,65,60,60,60,56,59,62,63,57,62,63,46,63,60,58,64,63,74,52,69,51,60,56,55,54,77,63,55,52,64,60,60,58,59,61,40,61,41,57,63,59,51,59,42,55,62,56,53,68,53,60,62,59,51,61,57,56,58,69,67,58,65,63,55,57,65,54,72,75,49,51,60,58,61,67,62,65,63,69,51,62,55,75,40,67,58,60,63,35,62,43,63,68,65,48,63,64,61,50,59,55,45,65,61,49,72,50,64,55,63,59,56,62,74,54,57,62,76,70,48,48,61,66,68,55,62,71,74,53,58,75,56,58,64,54,54,59,55,57,61,41,71,38,55,56,69,64,72,69,56,62,67,57,69,51,48,69,69,64,57,53,37,67,74,63,58,61,64,58,60,57,55,55,56,57,61,61,58,74,68,62,53,62,46,62,55,58,62],\"xaxis\":\"x\",\"yaxis\":\"y\",\"type\":\"histogram\"},{\"alignmentgroup\":\"True\",\"bingroup\":\"x\",\"hovertemplate\":\"sex=Female\\u003cbr\\u003eage=%{x}\\u003cbr\\u003ecount=%{y}\\u003cextra\\u003e\\u003c\\u002fextra\\u003e\",\"legendgroup\":\"Female\",\"marker\":{\"color\":\"#EF553B\",\"pattern\":{\"shape\":\"\"}},\"name\":\"Female\",\"offsetgroup\":\"Female\",\"orientation\":\"v\",\"showlegend\":true,\"x\":[41,62,57,56,48,58,50,58,66,69,65,71,61,65,41,51,46,54,65,65,51,53,53,53,51,62,44,63,60,57,71,61,43,62,35,63,45,56,62,43,55,60,42,67,54,58,54,45,59,62,56,60,63,62,68,45,50,50,64,64,62,37,66,46,46,64,41,54,39,63,34,67,52,55,74,54,49,41,49,60,51,42,67,76,44,58,60,71,66,39,58,55,58,55,63,57,57,30,31,32,34,35,35,37,37,37,38,39,41,41,41,42,43,43,43,43,43,43,43,44,45,45,45,46,47,47,48,48,48,48,48,48,48,49,49,49,49,50,50,51,51,51,51,52,52,52,52,53,53,53,54,54,54,54,54,54,54,55,55,55,56,57,57,59,61,62,33,49,50,51,59,40,47,48,56,47,54,58,38,38,50,51,62,62,64,64,66,73,63,64,54,61,51,54],\"xaxis\":\"x\",\"yaxis\":\"y\",\"type\":\"histogram\"}],                        {\"template\":{\"data\":{\"histogram2dcontour\":[{\"type\":\"histogram2dcontour\",\"colorbar\":{\"outlinewidth\":0,\"ticks\":\"\"},\"colorscale\":[[0.0,\"#0d0887\"],[0.1111111111111111,\"#46039f\"],[0.2222222222222222,\"#7201a8\"],[0.3333333333333333,\"#9c179e\"],[0.4444444444444444,\"#bd3786\"],[0.5555555555555556,\"#d8576b\"],[0.6666666666666666,\"#ed7953\"],[0.7777777777777778,\"#fb9f3a\"],[0.8888888888888888,\"#fdca26\"],[1.0,\"#f0f921\"]]}],\"choropleth\":[{\"type\":\"choropleth\",\"colorbar\":{\"outlinewidth\":0,\"ticks\":\"\"}}],\"histogram2d\":[{\"type\":\"histogram2d\",\"colorbar\":{\"outlinewidth\":0,\"ticks\":\"\"},\"colorscale\":[[0.0,\"#0d0887\"],[0.1111111111111111,\"#46039f\"],[0.2222222222222222,\"#7201a8\"],[0.3333333333333333,\"#9c179e\"],[0.4444444444444444,\"#bd3786\"],[0.5555555555555556,\"#d8576b\"],[0.6666666666666666,\"#ed7953\"],[0.7777777777777778,\"#fb9f3a\"],[0.8888888888888888,\"#fdca26\"],[1.0,\"#f0f921\"]]}],\"heatmap\":[{\"type\":\"heatmap\",\"colorbar\":{\"outlinewidth\":0,\"ticks\":\"\"},\"colorscale\":[[0.0,\"#0d0887\"],[0.1111111111111111,\"#46039f\"],[0.2222222222222222,\"#7201a8\"],[0.3333333333333333,\"#9c179e\"],[0.4444444444444444,\"#bd3786\"],[0.5555555555555556,\"#d8576b\"],[0.6666666666666666,\"#ed7953\"],[0.7777777777777778,\"#fb9f3a\"],[0.8888888888888888,\"#fdca26\"],[1.0,\"#f0f921\"]]}],\"heatmapgl\":[{\"type\":\"heatmapgl\",\"colorbar\":{\"outlinewidth\":0,\"ticks\":\"\"},\"colorscale\":[[0.0,\"#0d0887\"],[0.1111111111111111,\"#46039f\"],[0.2222222222222222,\"#7201a8\"],[0.3333333333333333,\"#9c179e\"],[0.4444444444444444,\"#bd3786\"],[0.5555555555555556,\"#d8576b\"],[0.6666666666666666,\"#ed7953\"],[0.7777777777777778,\"#fb9f3a\"],[0.8888888888888888,\"#fdca26\"],[1.0,\"#f0f921\"]]}],\"contourcarpet\":[{\"type\":\"contourcarpet\",\"colorbar\":{\"outlinewidth\":0,\"ticks\":\"\"}}],\"contour\":[{\"type\":\"contour\",\"colorbar\":{\"outlinewidth\":0,\"ticks\":\"\"},\"colorscale\":[[0.0,\"#0d0887\"],[0.1111111111111111,\"#46039f\"],[0.2222222222222222,\"#7201a8\"],[0.3333333333333333,\"#9c179e\"],[0.4444444444444444,\"#bd3786\"],[0.5555555555555556,\"#d8576b\"],[0.6666666666666666,\"#ed7953\"],[0.7777777777777778,\"#fb9f3a\"],[0.8888888888888888,\"#fdca26\"],[1.0,\"#f0f921\"]]}],\"surface\":[{\"type\":\"surface\",\"colorbar\":{\"outlinewidth\":0,\"ticks\":\"\"},\"colorscale\":[[0.0,\"#0d0887\"],[0.1111111111111111,\"#46039f\"],[0.2222222222222222,\"#7201a8\"],[0.3333333333333333,\"#9c179e\"],[0.4444444444444444,\"#bd3786\"],[0.5555555555555556,\"#d8576b\"],[0.6666666666666666,\"#ed7953\"],[0.7777777777777778,\"#fb9f3a\"],[0.8888888888888888,\"#fdca26\"],[1.0,\"#f0f921\"]]}],\"mesh3d\":[{\"type\":\"mesh3d\",\"colorbar\":{\"outlinewidth\":0,\"ticks\":\"\"}}],\"scatter\":[{\"fillpattern\":{\"fillmode\":\"overlay\",\"size\":10,\"solidity\":0.2},\"type\":\"scatter\"}],\"parcoords\":[{\"type\":\"parcoords\",\"line\":{\"colorbar\":{\"outlinewidth\":0,\"ticks\":\"\"}}}],\"scatterpolargl\":[{\"type\":\"scatterpolargl\",\"marker\":{\"colorbar\":{\"outlinewidth\":0,\"ticks\":\"\"}}}],\"bar\":[{\"error_x\":{\"color\":\"#2a3f5f\"},\"error_y\":{\"color\":\"#2a3f5f\"},\"marker\":{\"line\":{\"color\":\"#E5ECF6\",\"width\":0.5},\"pattern\":{\"fillmode\":\"overlay\",\"size\":10,\"solidity\":0.2}},\"type\":\"bar\"}],\"scattergeo\":[{\"type\":\"scattergeo\",\"marker\":{\"colorbar\":{\"outlinewidth\":0,\"ticks\":\"\"}}}],\"scatterpolar\":[{\"type\":\"scatterpolar\",\"marker\":{\"colorbar\":{\"outlinewidth\":0,\"ticks\":\"\"}}}],\"histogram\":[{\"marker\":{\"pattern\":{\"fillmode\":\"overlay\",\"size\":10,\"solidity\":0.2}},\"type\":\"histogram\"}],\"scattergl\":[{\"type\":\"scattergl\",\"marker\":{\"colorbar\":{\"outlinewidth\":0,\"ticks\":\"\"}}}],\"scatter3d\":[{\"type\":\"scatter3d\",\"line\":{\"colorbar\":{\"outlinewidth\":0,\"ticks\":\"\"}},\"marker\":{\"colorbar\":{\"outlinewidth\":0,\"ticks\":\"\"}}}],\"scattermapbox\":[{\"type\":\"scattermapbox\",\"marker\":{\"colorbar\":{\"outlinewidth\":0,\"ticks\":\"\"}}}],\"scatterternary\":[{\"type\":\"scatterternary\",\"marker\":{\"colorbar\":{\"outlinewidth\":0,\"ticks\":\"\"}}}],\"scattercarpet\":[{\"type\":\"scattercarpet\",\"marker\":{\"colorbar\":{\"outlinewidth\":0,\"ticks\":\"\"}}}],\"carpet\":[{\"aaxis\":{\"endlinecolor\":\"#2a3f5f\",\"gridcolor\":\"white\",\"linecolor\":\"white\",\"minorgridcolor\":\"white\",\"startlinecolor\":\"#2a3f5f\"},\"baxis\":{\"endlinecolor\":\"#2a3f5f\",\"gridcolor\":\"white\",\"linecolor\":\"white\",\"minorgridcolor\":\"white\",\"startlinecolor\":\"#2a3f5f\"},\"type\":\"carpet\"}],\"table\":[{\"cells\":{\"fill\":{\"color\":\"#EBF0F8\"},\"line\":{\"color\":\"white\"}},\"header\":{\"fill\":{\"color\":\"#C8D4E3\"},\"line\":{\"color\":\"white\"}},\"type\":\"table\"}],\"barpolar\":[{\"marker\":{\"line\":{\"color\":\"#E5ECF6\",\"width\":0.5},\"pattern\":{\"fillmode\":\"overlay\",\"size\":10,\"solidity\":0.2}},\"type\":\"barpolar\"}],\"pie\":[{\"automargin\":true,\"type\":\"pie\"}]},\"layout\":{\"autotypenumbers\":\"strict\",\"colorway\":[\"#636efa\",\"#EF553B\",\"#00cc96\",\"#ab63fa\",\"#FFA15A\",\"#19d3f3\",\"#FF6692\",\"#B6E880\",\"#FF97FF\",\"#FECB52\"],\"font\":{\"color\":\"#2a3f5f\"},\"hovermode\":\"closest\",\"hoverlabel\":{\"align\":\"left\"},\"paper_bgcolor\":\"white\",\"plot_bgcolor\":\"#E5ECF6\",\"polar\":{\"bgcolor\":\"#E5ECF6\",\"angularaxis\":{\"gridcolor\":\"white\",\"linecolor\":\"white\",\"ticks\":\"\"},\"radialaxis\":{\"gridcolor\":\"white\",\"linecolor\":\"white\",\"ticks\":\"\"}},\"ternary\":{\"bgcolor\":\"#E5ECF6\",\"aaxis\":{\"gridcolor\":\"white\",\"linecolor\":\"white\",\"ticks\":\"\"},\"baxis\":{\"gridcolor\":\"white\",\"linecolor\":\"white\",\"ticks\":\"\"},\"caxis\":{\"gridcolor\":\"white\",\"linecolor\":\"white\",\"ticks\":\"\"}},\"coloraxis\":{\"colorbar\":{\"outlinewidth\":0,\"ticks\":\"\"}},\"colorscale\":{\"sequential\":[[0.0,\"#0d0887\"],[0.1111111111111111,\"#46039f\"],[0.2222222222222222,\"#7201a8\"],[0.3333333333333333,\"#9c179e\"],[0.4444444444444444,\"#bd3786\"],[0.5555555555555556,\"#d8576b\"],[0.6666666666666666,\"#ed7953\"],[0.7777777777777778,\"#fb9f3a\"],[0.8888888888888888,\"#fdca26\"],[1.0,\"#f0f921\"]],\"sequentialminus\":[[0.0,\"#0d0887\"],[0.1111111111111111,\"#46039f\"],[0.2222222222222222,\"#7201a8\"],[0.3333333333333333,\"#9c179e\"],[0.4444444444444444,\"#bd3786\"],[0.5555555555555556,\"#d8576b\"],[0.6666666666666666,\"#ed7953\"],[0.7777777777777778,\"#fb9f3a\"],[0.8888888888888888,\"#fdca26\"],[1.0,\"#f0f921\"]],\"diverging\":[[0,\"#8e0152\"],[0.1,\"#c51b7d\"],[0.2,\"#de77ae\"],[0.3,\"#f1b6da\"],[0.4,\"#fde0ef\"],[0.5,\"#f7f7f7\"],[0.6,\"#e6f5d0\"],[0.7,\"#b8e186\"],[0.8,\"#7fbc41\"],[0.9,\"#4d9221\"],[1,\"#276419\"]]},\"xaxis\":{\"gridcolor\":\"white\",\"linecolor\":\"white\",\"ticks\":\"\",\"title\":{\"standoff\":15},\"zerolinecolor\":\"white\",\"automargin\":true,\"zerolinewidth\":2},\"yaxis\":{\"gridcolor\":\"white\",\"linecolor\":\"white\",\"ticks\":\"\",\"title\":{\"standoff\":15},\"zerolinecolor\":\"white\",\"automargin\":true,\"zerolinewidth\":2},\"scene\":{\"xaxis\":{\"backgroundcolor\":\"#E5ECF6\",\"gridcolor\":\"white\",\"linecolor\":\"white\",\"showbackground\":true,\"ticks\":\"\",\"zerolinecolor\":\"white\",\"gridwidth\":2},\"yaxis\":{\"backgroundcolor\":\"#E5ECF6\",\"gridcolor\":\"white\",\"linecolor\":\"white\",\"showbackground\":true,\"ticks\":\"\",\"zerolinecolor\":\"white\",\"gridwidth\":2},\"zaxis\":{\"backgroundcolor\":\"#E5ECF6\",\"gridcolor\":\"white\",\"linecolor\":\"white\",\"showbackground\":true,\"ticks\":\"\",\"zerolinecolor\":\"white\",\"gridwidth\":2}},\"shapedefaults\":{\"line\":{\"color\":\"#2a3f5f\"}},\"annotationdefaults\":{\"arrowcolor\":\"#2a3f5f\",\"arrowhead\":0,\"arrowwidth\":1},\"geo\":{\"bgcolor\":\"white\",\"landcolor\":\"#E5ECF6\",\"subunitcolor\":\"white\",\"showland\":true,\"showlakes\":true,\"lakecolor\":\"white\"},\"title\":{\"x\":0.05},\"mapbox\":{\"style\":\"light\"}}},\"xaxis\":{\"anchor\":\"y\",\"domain\":[0.0,1.0],\"title\":{\"text\":\"age\"}},\"yaxis\":{\"anchor\":\"x\",\"domain\":[0.0,1.0],\"title\":{\"text\":\"count\"}},\"legend\":{\"title\":{\"text\":\"sex\"},\"tracegroupgap\":0},\"margin\":{\"t\":60},\"barmode\":\"relative\"},                        {\"responsive\": true}                    ).then(function(){\n",
              "                            \n",
              "var gd = document.getElementById('bbd3f795-5b8a-464b-b859-f697eda853db');\n",
              "var x = new MutationObserver(function (mutations, observer) {{\n",
              "        var display = window.getComputedStyle(gd).display;\n",
              "        if (!display || display === 'none') {{\n",
              "            console.log([gd, 'removed!']);\n",
              "            Plotly.purge(gd);\n",
              "            observer.disconnect();\n",
              "        }}\n",
              "}});\n",
              "\n",
              "// Listen for the removal of the full notebook cells\n",
              "var notebookContainer = gd.closest('#notebook-container');\n",
              "if (notebookContainer) {{\n",
              "    x.observe(notebookContainer, {childList: true});\n",
              "}}\n",
              "\n",
              "// Listen for the clearing of the current output cell\n",
              "var outputEl = gd.closest('.output');\n",
              "if (outputEl) {{\n",
              "    x.observe(outputEl, {childList: true});\n",
              "}}\n",
              "\n",
              "                        })                };                            </script>        </div>\n",
              "</body>\n",
              "</html>"
            ]
          },
          "metadata": {}
        }
      ]
    },
    {
      "cell_type": "code",
      "source": [
        "age_counts_by_sex = df.groupby('sex')['age'].value_counts()\n",
        "\n",
        "print(age_counts_by_sex)"
      ],
      "metadata": {
        "colab": {
          "base_uri": "https://localhost:8080/"
        },
        "id": "jPy6QjZjhLhp",
        "outputId": "8a9f50e3-af66-4a54-d2fe-3579ebf51c2f"
      },
      "execution_count": null,
      "outputs": [
        {
          "output_type": "stream",
          "name": "stdout",
          "text": [
            "sex     age\n",
            "Female  54     15\n",
            "        51     11\n",
            "        62     10\n",
            "        43      9\n",
            "        48      9\n",
            "               ..\n",
            "Male    71      2\n",
            "        33      1\n",
            "        31      1\n",
            "        28      1\n",
            "        76      1\n",
            "Name: count, Length: 91, dtype: int64\n"
          ]
        }
      ]
    },
    {
      "cell_type": "code",
      "source": [
        "unique_values = df['dataset'].unique()\n",
        "\n",
        "print(unique_values)"
      ],
      "metadata": {
        "colab": {
          "base_uri": "https://localhost:8080/"
        },
        "id": "lF-1pWbhhnN7",
        "outputId": "7c43e89f-f381-41c0-a918-d9b8bdbfcb5b"
      },
      "execution_count": null,
      "outputs": [
        {
          "output_type": "stream",
          "name": "stdout",
          "text": [
            "['Cleveland' 'Hungary' 'Switzerland' 'VA Long Beach']\n"
          ]
        }
      ]
    },
    {
      "cell_type": "code",
      "source": [
        "# plot the countplot of dataset column\n",
        "fig =px.bar(df, x='dataset', color='sex')\n",
        "fig.show()"
      ],
      "metadata": {
        "colab": {
          "base_uri": "https://localhost:8080/",
          "height": 542
        },
        "id": "G-HNncAqiCw2",
        "outputId": "05c2126e-85dc-486d-ef9e-e131e6f5d5ad"
      },
      "execution_count": null,
      "outputs": [
        {
          "output_type": "display_data",
          "data": {
            "text/html": [
              "<html>\n",
              "<head><meta charset=\"utf-8\" /></head>\n",
              "<body>\n",
              "    <div>            <script src=\"https://cdnjs.cloudflare.com/ajax/libs/mathjax/2.7.5/MathJax.js?config=TeX-AMS-MML_SVG\"></script><script type=\"text/javascript\">if (window.MathJax && window.MathJax.Hub && window.MathJax.Hub.Config) {window.MathJax.Hub.Config({SVG: {font: \"STIX-Web\"}});}</script>                <script type=\"text/javascript\">window.PlotlyConfig = {MathJaxConfig: 'local'};</script>\n",
              "        <script charset=\"utf-8\" src=\"https://cdn.plot.ly/plotly-2.24.1.min.js\"></script>                <div id=\"8b9f0744-d352-4299-96b0-2126c65d29e2\" class=\"plotly-graph-div\" style=\"height:525px; width:100%;\"></div>            <script type=\"text/javascript\">                                    window.PLOTLYENV=window.PLOTLYENV || {};                                    if (document.getElementById(\"8b9f0744-d352-4299-96b0-2126c65d29e2\")) {                    Plotly.newPlot(                        \"8b9f0744-d352-4299-96b0-2126c65d29e2\",                        [{\"alignmentgroup\":\"True\",\"hovertemplate\":\"sex=Male\\u003cbr\\u003edataset=%{x}\\u003cbr\\u003ecount=%{y}\\u003cextra\\u003e\\u003c\\u002fextra\\u003e\",\"legendgroup\":\"Male\",\"marker\":{\"color\":\"#636efa\",\"pattern\":{\"shape\":\"\"}},\"name\":\"Male\",\"offsetgroup\":\"Male\",\"orientation\":\"v\",\"showlegend\":true,\"textposition\":\"auto\",\"x\":[\"Cleveland\",\"Cleveland\",\"Cleveland\",\"Cleveland\",\"Cleveland\",\"Cleveland\",\"Cleveland\",\"Cleveland\",\"Cleveland\",\"Cleveland\",\"Cleveland\",\"Cleveland\",\"Cleveland\",\"Cleveland\",\"Cleveland\",\"Cleveland\",\"Cleveland\",\"Cleveland\",\"Cleveland\",\"Cleveland\",\"Cleveland\",\"Cleveland\",\"Cleveland\",\"Cleveland\",\"Cleveland\",\"Cleveland\",\"Cleveland\",\"Cleveland\",\"Cleveland\",\"Cleveland\",\"Cleveland\",\"Cleveland\",\"Cleveland\",\"Cleveland\",\"Cleveland\",\"Cleveland\",\"Cleveland\",\"Cleveland\",\"Cleveland\",\"Cleveland\",\"Cleveland\",\"Cleveland\",\"Cleveland\",\"Cleveland\",\"Cleveland\",\"Cleveland\",\"Cleveland\",\"Cleveland\",\"Cleveland\",\"Cleveland\",\"Cleveland\",\"Cleveland\",\"Cleveland\",\"Cleveland\",\"Cleveland\",\"Cleveland\",\"Cleveland\",\"Cleveland\",\"Cleveland\",\"Cleveland\",\"Cleveland\",\"Cleveland\",\"Cleveland\",\"Cleveland\",\"Cleveland\",\"Cleveland\",\"Cleveland\",\"Cleveland\",\"Cleveland\",\"Cleveland\",\"Cleveland\",\"Cleveland\",\"Cleveland\",\"Cleveland\",\"Cleveland\",\"Cleveland\",\"Cleveland\",\"Cleveland\",\"Cleveland\",\"Cleveland\",\"Cleveland\",\"Cleveland\",\"Cleveland\",\"Cleveland\",\"Cleveland\",\"Cleveland\",\"Cleveland\",\"Cleveland\",\"Cleveland\",\"Cleveland\",\"Cleveland\",\"Cleveland\",\"Cleveland\",\"Cleveland\",\"Cleveland\",\"Cleveland\",\"Cleveland\",\"Cleveland\",\"Cleveland\",\"Cleveland\",\"Cleveland\",\"Cleveland\",\"Cleveland\",\"Cleveland\",\"Cleveland\",\"Cleveland\",\"Cleveland\",\"Cleveland\",\"Cleveland\",\"Cleveland\",\"Cleveland\",\"Cleveland\",\"Cleveland\",\"Cleveland\",\"Cleveland\",\"Cleveland\",\"Cleveland\",\"Cleveland\",\"Cleveland\",\"Cleveland\",\"Cleveland\",\"Cleveland\",\"Cleveland\",\"Cleveland\",\"Cleveland\",\"Cleveland\",\"Cleveland\",\"Cleveland\",\"Cleveland\",\"Cleveland\",\"Cleveland\",\"Cleveland\",\"Cleveland\",\"Cleveland\",\"Cleveland\",\"Cleveland\",\"Cleveland\",\"Cleveland\",\"Cleveland\",\"Cleveland\",\"Cleveland\",\"Cleveland\",\"Cleveland\",\"Cleveland\",\"Cleveland\",\"Cleveland\",\"Cleveland\",\"Cleveland\",\"Cleveland\",\"Cleveland\",\"Cleveland\",\"Cleveland\",\"Cleveland\",\"Cleveland\",\"Cleveland\",\"Cleveland\",\"Cleveland\",\"Cleveland\",\"Cleveland\",\"Cleveland\",\"Cleveland\",\"Cleveland\",\"Cleveland\",\"Cleveland\",\"Cleveland\",\"Cleveland\",\"Cleveland\",\"Cleveland\",\"Cleveland\",\"Cleveland\",\"Cleveland\",\"Cleveland\",\"Cleveland\",\"Cleveland\",\"Cleveland\",\"Cleveland\",\"Cleveland\",\"Cleveland\",\"Cleveland\",\"Cleveland\",\"Cleveland\",\"Cleveland\",\"Cleveland\",\"Cleveland\",\"Cleveland\",\"Cleveland\",\"Cleveland\",\"Cleveland\",\"Cleveland\",\"Cleveland\",\"Cleveland\",\"Cleveland\",\"Cleveland\",\"Cleveland\",\"Cleveland\",\"Cleveland\",\"Cleveland\",\"Cleveland\",\"Cleveland\",\"Cleveland\",\"Cleveland\",\"Cleveland\",\"Cleveland\",\"Cleveland\",\"Cleveland\",\"Cleveland\",\"Cleveland\",\"Hungary\",\"Hungary\",\"Hungary\",\"Hungary\",\"Hungary\",\"Hungary\",\"Hungary\",\"Hungary\",\"Hungary\",\"Hungary\",\"Hungary\",\"Hungary\",\"Hungary\",\"Hungary\",\"Hungary\",\"Hungary\",\"Hungary\",\"Hungary\",\"Hungary\",\"Hungary\",\"Hungary\",\"Hungary\",\"Hungary\",\"Hungary\",\"Hungary\",\"Hungary\",\"Hungary\",\"Hungary\",\"Hungary\",\"Hungary\",\"Hungary\",\"Hungary\",\"Hungary\",\"Hungary\",\"Hungary\",\"Hungary\",\"Hungary\",\"Hungary\",\"Hungary\",\"Hungary\",\"Hungary\",\"Hungary\",\"Hungary\",\"Hungary\",\"Hungary\",\"Hungary\",\"Hungary\",\"Hungary\",\"Hungary\",\"Hungary\",\"Hungary\",\"Hungary\",\"Hungary\",\"Hungary\",\"Hungary\",\"Hungary\",\"Hungary\",\"Hungary\",\"Hungary\",\"Hungary\",\"Hungary\",\"Hungary\",\"Hungary\",\"Hungary\",\"Hungary\",\"Hungary\",\"Hungary\",\"Hungary\",\"Hungary\",\"Hungary\",\"Hungary\",\"Hungary\",\"Hungary\",\"Hungary\",\"Hungary\",\"Hungary\",\"Hungary\",\"Hungary\",\"Hungary\",\"Hungary\",\"Hungary\",\"Hungary\",\"Hungary\",\"Hungary\",\"Hungary\",\"Hungary\",\"Hungary\",\"Hungary\",\"Hungary\",\"Hungary\",\"Hungary\",\"Hungary\",\"Hungary\",\"Hungary\",\"Hungary\",\"Hungary\",\"Hungary\",\"Hungary\",\"Hungary\",\"Hungary\",\"Hungary\",\"Hungary\",\"Hungary\",\"Hungary\",\"Hungary\",\"Hungary\",\"Hungary\",\"Hungary\",\"Hungary\",\"Hungary\",\"Hungary\",\"Hungary\",\"Hungary\",\"Hungary\",\"Hungary\",\"Hungary\",\"Hungary\",\"Hungary\",\"Hungary\",\"Hungary\",\"Hungary\",\"Hungary\",\"Hungary\",\"Hungary\",\"Hungary\",\"Hungary\",\"Hungary\",\"Hungary\",\"Hungary\",\"Hungary\",\"Hungary\",\"Hungary\",\"Hungary\",\"Hungary\",\"Hungary\",\"Hungary\",\"Hungary\",\"Hungary\",\"Hungary\",\"Hungary\",\"Hungary\",\"Hungary\",\"Hungary\",\"Hungary\",\"Hungary\",\"Hungary\",\"Hungary\",\"Hungary\",\"Hungary\",\"Hungary\",\"Hungary\",\"Hungary\",\"Hungary\",\"Hungary\",\"Hungary\",\"Hungary\",\"Hungary\",\"Hungary\",\"Hungary\",\"Hungary\",\"Hungary\",\"Hungary\",\"Hungary\",\"Hungary\",\"Hungary\",\"Hungary\",\"Hungary\",\"Hungary\",\"Hungary\",\"Hungary\",\"Hungary\",\"Hungary\",\"Hungary\",\"Hungary\",\"Hungary\",\"Hungary\",\"Hungary\",\"Hungary\",\"Hungary\",\"Hungary\",\"Hungary\",\"Hungary\",\"Hungary\",\"Hungary\",\"Hungary\",\"Hungary\",\"Hungary\",\"Hungary\",\"Hungary\",\"Hungary\",\"Hungary\",\"Hungary\",\"Hungary\",\"Hungary\",\"Hungary\",\"Hungary\",\"Hungary\",\"Hungary\",\"Hungary\",\"Hungary\",\"Hungary\",\"Hungary\",\"Hungary\",\"Hungary\",\"Hungary\",\"Hungary\",\"Hungary\",\"Hungary\",\"Hungary\",\"Hungary\",\"Hungary\",\"Hungary\",\"Switzerland\",\"Switzerland\",\"Switzerland\",\"Switzerland\",\"Switzerland\",\"Switzerland\",\"Switzerland\",\"Switzerland\",\"Switzerland\",\"Switzerland\",\"Switzerland\",\"Switzerland\",\"Switzerland\",\"Switzerland\",\"Switzerland\",\"Switzerland\",\"Switzerland\",\"Switzerland\",\"Switzerland\",\"Switzerland\",\"Switzerland\",\"Switzerland\",\"Switzerland\",\"Switzerland\",\"Switzerland\",\"Switzerland\",\"Switzerland\",\"Switzerland\",\"Switzerland\",\"Switzerland\",\"Switzerland\",\"Switzerland\",\"Switzerland\",\"Switzerland\",\"Switzerland\",\"Switzerland\",\"Switzerland\",\"Switzerland\",\"Switzerland\",\"Switzerland\",\"Switzerland\",\"Switzerland\",\"Switzerland\",\"Switzerland\",\"Switzerland\",\"Switzerland\",\"Switzerland\",\"Switzerland\",\"Switzerland\",\"Switzerland\",\"Switzerland\",\"Switzerland\",\"Switzerland\",\"Switzerland\",\"Switzerland\",\"Switzerland\",\"Switzerland\",\"Switzerland\",\"Switzerland\",\"Switzerland\",\"Switzerland\",\"Switzerland\",\"Switzerland\",\"Switzerland\",\"Switzerland\",\"Switzerland\",\"Switzerland\",\"Switzerland\",\"Switzerland\",\"Switzerland\",\"Switzerland\",\"Switzerland\",\"Switzerland\",\"Switzerland\",\"Switzerland\",\"Switzerland\",\"Switzerland\",\"Switzerland\",\"Switzerland\",\"Switzerland\",\"Switzerland\",\"Switzerland\",\"Switzerland\",\"Switzerland\",\"Switzerland\",\"Switzerland\",\"Switzerland\",\"Switzerland\",\"Switzerland\",\"Switzerland\",\"Switzerland\",\"Switzerland\",\"Switzerland\",\"Switzerland\",\"Switzerland\",\"Switzerland\",\"Switzerland\",\"Switzerland\",\"Switzerland\",\"Switzerland\",\"Switzerland\",\"Switzerland\",\"Switzerland\",\"Switzerland\",\"Switzerland\",\"Switzerland\",\"Switzerland\",\"Switzerland\",\"Switzerland\",\"Switzerland\",\"Switzerland\",\"Switzerland\",\"Switzerland\",\"VA Long Beach\",\"VA Long Beach\",\"VA Long Beach\",\"VA Long Beach\",\"VA Long Beach\",\"VA Long Beach\",\"VA Long Beach\",\"VA Long Beach\",\"VA Long Beach\",\"VA Long Beach\",\"VA Long Beach\",\"VA Long Beach\",\"VA Long Beach\",\"VA Long Beach\",\"VA Long Beach\",\"VA Long Beach\",\"VA Long Beach\",\"VA Long Beach\",\"VA Long Beach\",\"VA Long Beach\",\"VA Long Beach\",\"VA Long Beach\",\"VA Long Beach\",\"VA Long Beach\",\"VA Long Beach\",\"VA Long Beach\",\"VA Long Beach\",\"VA Long Beach\",\"VA Long Beach\",\"VA Long Beach\",\"VA Long Beach\",\"VA Long Beach\",\"VA Long Beach\",\"VA Long Beach\",\"VA Long Beach\",\"VA Long Beach\",\"VA Long Beach\",\"VA Long Beach\",\"VA Long Beach\",\"VA Long Beach\",\"VA Long Beach\",\"VA Long Beach\",\"VA Long Beach\",\"VA Long Beach\",\"VA Long Beach\",\"VA Long Beach\",\"VA Long Beach\",\"VA Long Beach\",\"VA Long Beach\",\"VA Long Beach\",\"VA Long Beach\",\"VA Long Beach\",\"VA Long Beach\",\"VA Long Beach\",\"VA Long Beach\",\"VA Long Beach\",\"VA Long Beach\",\"VA Long Beach\",\"VA Long Beach\",\"VA Long Beach\",\"VA Long Beach\",\"VA Long Beach\",\"VA Long Beach\",\"VA Long Beach\",\"VA Long Beach\",\"VA Long Beach\",\"VA Long Beach\",\"VA Long Beach\",\"VA Long Beach\",\"VA Long Beach\",\"VA Long Beach\",\"VA Long Beach\",\"VA Long Beach\",\"VA Long Beach\",\"VA Long Beach\",\"VA Long Beach\",\"VA Long Beach\",\"VA Long Beach\",\"VA Long Beach\",\"VA Long Beach\",\"VA Long Beach\",\"VA Long Beach\",\"VA Long Beach\",\"VA Long Beach\",\"VA Long Beach\",\"VA Long Beach\",\"VA Long Beach\",\"VA Long Beach\",\"VA Long Beach\",\"VA Long Beach\",\"VA Long Beach\",\"VA Long Beach\",\"VA Long Beach\",\"VA Long Beach\",\"VA Long Beach\",\"VA Long Beach\",\"VA Long Beach\",\"VA Long Beach\",\"VA Long Beach\",\"VA Long Beach\",\"VA Long Beach\",\"VA Long Beach\",\"VA Long Beach\",\"VA Long Beach\",\"VA Long Beach\",\"VA Long Beach\",\"VA Long Beach\",\"VA Long Beach\",\"VA Long Beach\",\"VA Long Beach\",\"VA Long Beach\",\"VA Long Beach\",\"VA Long Beach\",\"VA Long Beach\",\"VA Long Beach\",\"VA Long Beach\",\"VA Long Beach\",\"VA Long Beach\",\"VA Long Beach\",\"VA Long Beach\",\"VA Long Beach\",\"VA Long Beach\",\"VA Long Beach\",\"VA Long Beach\",\"VA Long Beach\",\"VA Long Beach\",\"VA Long Beach\",\"VA Long Beach\",\"VA Long Beach\",\"VA Long Beach\",\"VA Long Beach\",\"VA Long Beach\",\"VA Long Beach\",\"VA Long Beach\",\"VA Long Beach\",\"VA Long Beach\",\"VA Long Beach\",\"VA Long Beach\",\"VA Long Beach\",\"VA Long Beach\",\"VA Long Beach\",\"VA Long Beach\",\"VA Long Beach\",\"VA Long Beach\",\"VA Long Beach\",\"VA Long Beach\",\"VA Long Beach\",\"VA Long Beach\",\"VA Long Beach\",\"VA Long Beach\",\"VA Long Beach\",\"VA Long Beach\",\"VA Long Beach\",\"VA Long Beach\",\"VA Long Beach\",\"VA Long Beach\",\"VA Long Beach\",\"VA Long Beach\",\"VA Long Beach\",\"VA Long Beach\",\"VA Long Beach\",\"VA Long Beach\",\"VA Long Beach\",\"VA Long Beach\",\"VA Long Beach\",\"VA Long Beach\",\"VA Long Beach\",\"VA Long Beach\",\"VA Long Beach\",\"VA Long Beach\",\"VA Long Beach\",\"VA Long Beach\",\"VA Long Beach\",\"VA Long Beach\",\"VA Long Beach\",\"VA Long Beach\",\"VA Long Beach\",\"VA Long Beach\",\"VA Long Beach\",\"VA Long Beach\",\"VA Long Beach\",\"VA Long Beach\",\"VA Long Beach\",\"VA Long Beach\",\"VA Long Beach\",\"VA Long Beach\",\"VA Long Beach\",\"VA Long Beach\",\"VA Long Beach\",\"VA Long Beach\",\"VA Long Beach\",\"VA Long Beach\",\"VA Long Beach\",\"VA Long Beach\"],\"xaxis\":\"x\",\"y\":[1,1,1,1,1,1,1,1,1,1,1,1,1,1,1,1,1,1,1,1,1,1,1,1,1,1,1,1,1,1,1,1,1,1,1,1,1,1,1,1,1,1,1,1,1,1,1,1,1,1,1,1,1,1,1,1,1,1,1,1,1,1,1,1,1,1,1,1,1,1,1,1,1,1,1,1,1,1,1,1,1,1,1,1,1,1,1,1,1,1,1,1,1,1,1,1,1,1,1,1,1,1,1,1,1,1,1,1,1,1,1,1,1,1,1,1,1,1,1,1,1,1,1,1,1,1,1,1,1,1,1,1,1,1,1,1,1,1,1,1,1,1,1,1,1,1,1,1,1,1,1,1,1,1,1,1,1,1,1,1,1,1,1,1,1,1,1,1,1,1,1,1,1,1,1,1,1,1,1,1,1,1,1,1,1,1,1,1,1,1,1,1,1,1,1,1,1,1,1,1,1,1,1,1,1,1,1,1,1,1,1,1,1,1,1,1,1,1,1,1,1,1,1,1,1,1,1,1,1,1,1,1,1,1,1,1,1,1,1,1,1,1,1,1,1,1,1,1,1,1,1,1,1,1,1,1,1,1,1,1,1,1,1,1,1,1,1,1,1,1,1,1,1,1,1,1,1,1,1,1,1,1,1,1,1,1,1,1,1,1,1,1,1,1,1,1,1,1,1,1,1,1,1,1,1,1,1,1,1,1,1,1,1,1,1,1,1,1,1,1,1,1,1,1,1,1,1,1,1,1,1,1,1,1,1,1,1,1,1,1,1,1,1,1,1,1,1,1,1,1,1,1,1,1,1,1,1,1,1,1,1,1,1,1,1,1,1,1,1,1,1,1,1,1,1,1,1,1,1,1,1,1,1,1,1,1,1,1,1,1,1,1,1,1,1,1,1,1,1,1,1,1,1,1,1,1,1,1,1,1,1,1,1,1,1,1,1,1,1,1,1,1,1,1,1,1,1,1,1,1,1,1,1,1,1,1,1,1,1,1,1,1,1,1,1,1,1,1,1,1,1,1,1,1,1,1,1,1,1,1,1,1,1,1,1,1,1,1,1,1,1,1,1,1,1,1,1,1,1,1,1,1,1,1,1,1,1,1,1,1,1,1,1,1,1,1,1,1,1,1,1,1,1,1,1,1,1,1,1,1,1,1,1,1,1,1,1,1,1,1,1,1,1,1,1,1,1,1,1,1,1,1,1,1,1,1,1,1,1,1,1,1,1,1,1,1,1,1,1,1,1,1,1,1,1,1,1,1,1,1,1,1,1,1,1,1,1,1,1,1,1,1,1,1,1,1,1,1,1,1,1,1,1,1,1,1,1,1,1,1,1,1,1,1,1,1,1,1,1,1,1,1,1,1,1,1,1,1,1,1,1,1,1,1,1,1,1,1,1,1,1,1,1,1,1,1,1,1,1,1,1,1,1,1,1,1,1,1,1,1,1,1,1,1,1,1,1,1,1,1,1,1,1,1,1,1,1,1,1,1,1,1,1,1,1,1,1,1,1,1,1,1,1,1,1,1,1,1,1,1,1,1,1,1,1,1,1,1,1,1,1,1,1,1,1,1,1,1,1,1,1,1,1,1,1,1,1,1,1,1,1,1,1,1,1,1,1,1,1,1,1,1,1,1,1,1],\"yaxis\":\"y\",\"type\":\"bar\"},{\"alignmentgroup\":\"True\",\"hovertemplate\":\"sex=Female\\u003cbr\\u003edataset=%{x}\\u003cbr\\u003ecount=%{y}\\u003cextra\\u003e\\u003c\\u002fextra\\u003e\",\"legendgroup\":\"Female\",\"marker\":{\"color\":\"#EF553B\",\"pattern\":{\"shape\":\"\"}},\"name\":\"Female\",\"offsetgroup\":\"Female\",\"orientation\":\"v\",\"showlegend\":true,\"textposition\":\"auto\",\"x\":[\"Cleveland\",\"Cleveland\",\"Cleveland\",\"Cleveland\",\"Cleveland\",\"Cleveland\",\"Cleveland\",\"Cleveland\",\"Cleveland\",\"Cleveland\",\"Cleveland\",\"Cleveland\",\"Cleveland\",\"Cleveland\",\"Cleveland\",\"Cleveland\",\"Cleveland\",\"Cleveland\",\"Cleveland\",\"Cleveland\",\"Cleveland\",\"Cleveland\",\"Cleveland\",\"Cleveland\",\"Cleveland\",\"Cleveland\",\"Cleveland\",\"Cleveland\",\"Cleveland\",\"Cleveland\",\"Cleveland\",\"Cleveland\",\"Cleveland\",\"Cleveland\",\"Cleveland\",\"Cleveland\",\"Cleveland\",\"Cleveland\",\"Cleveland\",\"Cleveland\",\"Cleveland\",\"Cleveland\",\"Cleveland\",\"Cleveland\",\"Cleveland\",\"Cleveland\",\"Cleveland\",\"Cleveland\",\"Cleveland\",\"Cleveland\",\"Cleveland\",\"Cleveland\",\"Cleveland\",\"Cleveland\",\"Cleveland\",\"Cleveland\",\"Cleveland\",\"Cleveland\",\"Cleveland\",\"Cleveland\",\"Cleveland\",\"Cleveland\",\"Cleveland\",\"Cleveland\",\"Cleveland\",\"Cleveland\",\"Cleveland\",\"Cleveland\",\"Cleveland\",\"Cleveland\",\"Cleveland\",\"Cleveland\",\"Cleveland\",\"Cleveland\",\"Cleveland\",\"Cleveland\",\"Cleveland\",\"Cleveland\",\"Cleveland\",\"Cleveland\",\"Cleveland\",\"Cleveland\",\"Cleveland\",\"Cleveland\",\"Cleveland\",\"Cleveland\",\"Cleveland\",\"Cleveland\",\"Cleveland\",\"Cleveland\",\"Cleveland\",\"Cleveland\",\"Cleveland\",\"Cleveland\",\"Cleveland\",\"Cleveland\",\"Cleveland\",\"Hungary\",\"Hungary\",\"Hungary\",\"Hungary\",\"Hungary\",\"Hungary\",\"Hungary\",\"Hungary\",\"Hungary\",\"Hungary\",\"Hungary\",\"Hungary\",\"Hungary\",\"Hungary\",\"Hungary\",\"Hungary\",\"Hungary\",\"Hungary\",\"Hungary\",\"Hungary\",\"Hungary\",\"Hungary\",\"Hungary\",\"Hungary\",\"Hungary\",\"Hungary\",\"Hungary\",\"Hungary\",\"Hungary\",\"Hungary\",\"Hungary\",\"Hungary\",\"Hungary\",\"Hungary\",\"Hungary\",\"Hungary\",\"Hungary\",\"Hungary\",\"Hungary\",\"Hungary\",\"Hungary\",\"Hungary\",\"Hungary\",\"Hungary\",\"Hungary\",\"Hungary\",\"Hungary\",\"Hungary\",\"Hungary\",\"Hungary\",\"Hungary\",\"Hungary\",\"Hungary\",\"Hungary\",\"Hungary\",\"Hungary\",\"Hungary\",\"Hungary\",\"Hungary\",\"Hungary\",\"Hungary\",\"Hungary\",\"Hungary\",\"Hungary\",\"Hungary\",\"Hungary\",\"Hungary\",\"Hungary\",\"Hungary\",\"Hungary\",\"Hungary\",\"Hungary\",\"Hungary\",\"Hungary\",\"Hungary\",\"Hungary\",\"Hungary\",\"Hungary\",\"Hungary\",\"Hungary\",\"Hungary\",\"Switzerland\",\"Switzerland\",\"Switzerland\",\"Switzerland\",\"Switzerland\",\"Switzerland\",\"Switzerland\",\"Switzerland\",\"Switzerland\",\"Switzerland\",\"VA Long Beach\",\"VA Long Beach\",\"VA Long Beach\",\"VA Long Beach\",\"VA Long Beach\",\"VA Long Beach\"],\"xaxis\":\"x\",\"y\":[1,1,1,1,1,1,1,1,1,1,1,1,1,1,1,1,1,1,1,1,1,1,1,1,1,1,1,1,1,1,1,1,1,1,1,1,1,1,1,1,1,1,1,1,1,1,1,1,1,1,1,1,1,1,1,1,1,1,1,1,1,1,1,1,1,1,1,1,1,1,1,1,1,1,1,1,1,1,1,1,1,1,1,1,1,1,1,1,1,1,1,1,1,1,1,1,1,1,1,1,1,1,1,1,1,1,1,1,1,1,1,1,1,1,1,1,1,1,1,1,1,1,1,1,1,1,1,1,1,1,1,1,1,1,1,1,1,1,1,1,1,1,1,1,1,1,1,1,1,1,1,1,1,1,1,1,1,1,1,1,1,1,1,1,1,1,1,1,1,1,1,1,1,1,1,1,1,1,1,1,1,1,1,1,1,1,1,1,1,1,1,1,1,1],\"yaxis\":\"y\",\"type\":\"bar\"}],                        {\"template\":{\"data\":{\"histogram2dcontour\":[{\"type\":\"histogram2dcontour\",\"colorbar\":{\"outlinewidth\":0,\"ticks\":\"\"},\"colorscale\":[[0.0,\"#0d0887\"],[0.1111111111111111,\"#46039f\"],[0.2222222222222222,\"#7201a8\"],[0.3333333333333333,\"#9c179e\"],[0.4444444444444444,\"#bd3786\"],[0.5555555555555556,\"#d8576b\"],[0.6666666666666666,\"#ed7953\"],[0.7777777777777778,\"#fb9f3a\"],[0.8888888888888888,\"#fdca26\"],[1.0,\"#f0f921\"]]}],\"choropleth\":[{\"type\":\"choropleth\",\"colorbar\":{\"outlinewidth\":0,\"ticks\":\"\"}}],\"histogram2d\":[{\"type\":\"histogram2d\",\"colorbar\":{\"outlinewidth\":0,\"ticks\":\"\"},\"colorscale\":[[0.0,\"#0d0887\"],[0.1111111111111111,\"#46039f\"],[0.2222222222222222,\"#7201a8\"],[0.3333333333333333,\"#9c179e\"],[0.4444444444444444,\"#bd3786\"],[0.5555555555555556,\"#d8576b\"],[0.6666666666666666,\"#ed7953\"],[0.7777777777777778,\"#fb9f3a\"],[0.8888888888888888,\"#fdca26\"],[1.0,\"#f0f921\"]]}],\"heatmap\":[{\"type\":\"heatmap\",\"colorbar\":{\"outlinewidth\":0,\"ticks\":\"\"},\"colorscale\":[[0.0,\"#0d0887\"],[0.1111111111111111,\"#46039f\"],[0.2222222222222222,\"#7201a8\"],[0.3333333333333333,\"#9c179e\"],[0.4444444444444444,\"#bd3786\"],[0.5555555555555556,\"#d8576b\"],[0.6666666666666666,\"#ed7953\"],[0.7777777777777778,\"#fb9f3a\"],[0.8888888888888888,\"#fdca26\"],[1.0,\"#f0f921\"]]}],\"heatmapgl\":[{\"type\":\"heatmapgl\",\"colorbar\":{\"outlinewidth\":0,\"ticks\":\"\"},\"colorscale\":[[0.0,\"#0d0887\"],[0.1111111111111111,\"#46039f\"],[0.2222222222222222,\"#7201a8\"],[0.3333333333333333,\"#9c179e\"],[0.4444444444444444,\"#bd3786\"],[0.5555555555555556,\"#d8576b\"],[0.6666666666666666,\"#ed7953\"],[0.7777777777777778,\"#fb9f3a\"],[0.8888888888888888,\"#fdca26\"],[1.0,\"#f0f921\"]]}],\"contourcarpet\":[{\"type\":\"contourcarpet\",\"colorbar\":{\"outlinewidth\":0,\"ticks\":\"\"}}],\"contour\":[{\"type\":\"contour\",\"colorbar\":{\"outlinewidth\":0,\"ticks\":\"\"},\"colorscale\":[[0.0,\"#0d0887\"],[0.1111111111111111,\"#46039f\"],[0.2222222222222222,\"#7201a8\"],[0.3333333333333333,\"#9c179e\"],[0.4444444444444444,\"#bd3786\"],[0.5555555555555556,\"#d8576b\"],[0.6666666666666666,\"#ed7953\"],[0.7777777777777778,\"#fb9f3a\"],[0.8888888888888888,\"#fdca26\"],[1.0,\"#f0f921\"]]}],\"surface\":[{\"type\":\"surface\",\"colorbar\":{\"outlinewidth\":0,\"ticks\":\"\"},\"colorscale\":[[0.0,\"#0d0887\"],[0.1111111111111111,\"#46039f\"],[0.2222222222222222,\"#7201a8\"],[0.3333333333333333,\"#9c179e\"],[0.4444444444444444,\"#bd3786\"],[0.5555555555555556,\"#d8576b\"],[0.6666666666666666,\"#ed7953\"],[0.7777777777777778,\"#fb9f3a\"],[0.8888888888888888,\"#fdca26\"],[1.0,\"#f0f921\"]]}],\"mesh3d\":[{\"type\":\"mesh3d\",\"colorbar\":{\"outlinewidth\":0,\"ticks\":\"\"}}],\"scatter\":[{\"fillpattern\":{\"fillmode\":\"overlay\",\"size\":10,\"solidity\":0.2},\"type\":\"scatter\"}],\"parcoords\":[{\"type\":\"parcoords\",\"line\":{\"colorbar\":{\"outlinewidth\":0,\"ticks\":\"\"}}}],\"scatterpolargl\":[{\"type\":\"scatterpolargl\",\"marker\":{\"colorbar\":{\"outlinewidth\":0,\"ticks\":\"\"}}}],\"bar\":[{\"error_x\":{\"color\":\"#2a3f5f\"},\"error_y\":{\"color\":\"#2a3f5f\"},\"marker\":{\"line\":{\"color\":\"#E5ECF6\",\"width\":0.5},\"pattern\":{\"fillmode\":\"overlay\",\"size\":10,\"solidity\":0.2}},\"type\":\"bar\"}],\"scattergeo\":[{\"type\":\"scattergeo\",\"marker\":{\"colorbar\":{\"outlinewidth\":0,\"ticks\":\"\"}}}],\"scatterpolar\":[{\"type\":\"scatterpolar\",\"marker\":{\"colorbar\":{\"outlinewidth\":0,\"ticks\":\"\"}}}],\"histogram\":[{\"marker\":{\"pattern\":{\"fillmode\":\"overlay\",\"size\":10,\"solidity\":0.2}},\"type\":\"histogram\"}],\"scattergl\":[{\"type\":\"scattergl\",\"marker\":{\"colorbar\":{\"outlinewidth\":0,\"ticks\":\"\"}}}],\"scatter3d\":[{\"type\":\"scatter3d\",\"line\":{\"colorbar\":{\"outlinewidth\":0,\"ticks\":\"\"}},\"marker\":{\"colorbar\":{\"outlinewidth\":0,\"ticks\":\"\"}}}],\"scattermapbox\":[{\"type\":\"scattermapbox\",\"marker\":{\"colorbar\":{\"outlinewidth\":0,\"ticks\":\"\"}}}],\"scatterternary\":[{\"type\":\"scatterternary\",\"marker\":{\"colorbar\":{\"outlinewidth\":0,\"ticks\":\"\"}}}],\"scattercarpet\":[{\"type\":\"scattercarpet\",\"marker\":{\"colorbar\":{\"outlinewidth\":0,\"ticks\":\"\"}}}],\"carpet\":[{\"aaxis\":{\"endlinecolor\":\"#2a3f5f\",\"gridcolor\":\"white\",\"linecolor\":\"white\",\"minorgridcolor\":\"white\",\"startlinecolor\":\"#2a3f5f\"},\"baxis\":{\"endlinecolor\":\"#2a3f5f\",\"gridcolor\":\"white\",\"linecolor\":\"white\",\"minorgridcolor\":\"white\",\"startlinecolor\":\"#2a3f5f\"},\"type\":\"carpet\"}],\"table\":[{\"cells\":{\"fill\":{\"color\":\"#EBF0F8\"},\"line\":{\"color\":\"white\"}},\"header\":{\"fill\":{\"color\":\"#C8D4E3\"},\"line\":{\"color\":\"white\"}},\"type\":\"table\"}],\"barpolar\":[{\"marker\":{\"line\":{\"color\":\"#E5ECF6\",\"width\":0.5},\"pattern\":{\"fillmode\":\"overlay\",\"size\":10,\"solidity\":0.2}},\"type\":\"barpolar\"}],\"pie\":[{\"automargin\":true,\"type\":\"pie\"}]},\"layout\":{\"autotypenumbers\":\"strict\",\"colorway\":[\"#636efa\",\"#EF553B\",\"#00cc96\",\"#ab63fa\",\"#FFA15A\",\"#19d3f3\",\"#FF6692\",\"#B6E880\",\"#FF97FF\",\"#FECB52\"],\"font\":{\"color\":\"#2a3f5f\"},\"hovermode\":\"closest\",\"hoverlabel\":{\"align\":\"left\"},\"paper_bgcolor\":\"white\",\"plot_bgcolor\":\"#E5ECF6\",\"polar\":{\"bgcolor\":\"#E5ECF6\",\"angularaxis\":{\"gridcolor\":\"white\",\"linecolor\":\"white\",\"ticks\":\"\"},\"radialaxis\":{\"gridcolor\":\"white\",\"linecolor\":\"white\",\"ticks\":\"\"}},\"ternary\":{\"bgcolor\":\"#E5ECF6\",\"aaxis\":{\"gridcolor\":\"white\",\"linecolor\":\"white\",\"ticks\":\"\"},\"baxis\":{\"gridcolor\":\"white\",\"linecolor\":\"white\",\"ticks\":\"\"},\"caxis\":{\"gridcolor\":\"white\",\"linecolor\":\"white\",\"ticks\":\"\"}},\"coloraxis\":{\"colorbar\":{\"outlinewidth\":0,\"ticks\":\"\"}},\"colorscale\":{\"sequential\":[[0.0,\"#0d0887\"],[0.1111111111111111,\"#46039f\"],[0.2222222222222222,\"#7201a8\"],[0.3333333333333333,\"#9c179e\"],[0.4444444444444444,\"#bd3786\"],[0.5555555555555556,\"#d8576b\"],[0.6666666666666666,\"#ed7953\"],[0.7777777777777778,\"#fb9f3a\"],[0.8888888888888888,\"#fdca26\"],[1.0,\"#f0f921\"]],\"sequentialminus\":[[0.0,\"#0d0887\"],[0.1111111111111111,\"#46039f\"],[0.2222222222222222,\"#7201a8\"],[0.3333333333333333,\"#9c179e\"],[0.4444444444444444,\"#bd3786\"],[0.5555555555555556,\"#d8576b\"],[0.6666666666666666,\"#ed7953\"],[0.7777777777777778,\"#fb9f3a\"],[0.8888888888888888,\"#fdca26\"],[1.0,\"#f0f921\"]],\"diverging\":[[0,\"#8e0152\"],[0.1,\"#c51b7d\"],[0.2,\"#de77ae\"],[0.3,\"#f1b6da\"],[0.4,\"#fde0ef\"],[0.5,\"#f7f7f7\"],[0.6,\"#e6f5d0\"],[0.7,\"#b8e186\"],[0.8,\"#7fbc41\"],[0.9,\"#4d9221\"],[1,\"#276419\"]]},\"xaxis\":{\"gridcolor\":\"white\",\"linecolor\":\"white\",\"ticks\":\"\",\"title\":{\"standoff\":15},\"zerolinecolor\":\"white\",\"automargin\":true,\"zerolinewidth\":2},\"yaxis\":{\"gridcolor\":\"white\",\"linecolor\":\"white\",\"ticks\":\"\",\"title\":{\"standoff\":15},\"zerolinecolor\":\"white\",\"automargin\":true,\"zerolinewidth\":2},\"scene\":{\"xaxis\":{\"backgroundcolor\":\"#E5ECF6\",\"gridcolor\":\"white\",\"linecolor\":\"white\",\"showbackground\":true,\"ticks\":\"\",\"zerolinecolor\":\"white\",\"gridwidth\":2},\"yaxis\":{\"backgroundcolor\":\"#E5ECF6\",\"gridcolor\":\"white\",\"linecolor\":\"white\",\"showbackground\":true,\"ticks\":\"\",\"zerolinecolor\":\"white\",\"gridwidth\":2},\"zaxis\":{\"backgroundcolor\":\"#E5ECF6\",\"gridcolor\":\"white\",\"linecolor\":\"white\",\"showbackground\":true,\"ticks\":\"\",\"zerolinecolor\":\"white\",\"gridwidth\":2}},\"shapedefaults\":{\"line\":{\"color\":\"#2a3f5f\"}},\"annotationdefaults\":{\"arrowcolor\":\"#2a3f5f\",\"arrowhead\":0,\"arrowwidth\":1},\"geo\":{\"bgcolor\":\"white\",\"landcolor\":\"#E5ECF6\",\"subunitcolor\":\"white\",\"showland\":true,\"showlakes\":true,\"lakecolor\":\"white\"},\"title\":{\"x\":0.05},\"mapbox\":{\"style\":\"light\"}}},\"xaxis\":{\"anchor\":\"y\",\"domain\":[0.0,1.0],\"title\":{\"text\":\"dataset\"}},\"yaxis\":{\"anchor\":\"x\",\"domain\":[0.0,1.0],\"title\":{\"text\":\"count\"}},\"legend\":{\"title\":{\"text\":\"sex\"},\"tracegroupgap\":0},\"margin\":{\"t\":60},\"barmode\":\"relative\"},                        {\"responsive\": true}                    ).then(function(){\n",
              "                            \n",
              "var gd = document.getElementById('8b9f0744-d352-4299-96b0-2126c65d29e2');\n",
              "var x = new MutationObserver(function (mutations, observer) {{\n",
              "        var display = window.getComputedStyle(gd).display;\n",
              "        if (!display || display === 'none') {{\n",
              "            console.log([gd, 'removed!']);\n",
              "            Plotly.purge(gd);\n",
              "            observer.disconnect();\n",
              "        }}\n",
              "}});\n",
              "\n",
              "// Listen for the removal of the full notebook cells\n",
              "var notebookContainer = gd.closest('#notebook-container');\n",
              "if (notebookContainer) {{\n",
              "    x.observe(notebookContainer, {childList: true});\n",
              "}}\n",
              "\n",
              "// Listen for the clearing of the current output cell\n",
              "var outputEl = gd.closest('.output');\n",
              "if (outputEl) {{\n",
              "    x.observe(outputEl, {childList: true});\n",
              "}}\n",
              "\n",
              "                        })                };                            </script>        </div>\n",
              "</body>\n",
              "</html>"
            ]
          },
          "metadata": {}
        }
      ]
    },
    {
      "cell_type": "code",
      "source": [
        "# print the values of dataset column groupes by sex\n",
        "print (df.groupby('sex')['dataset'].value_counts())"
      ],
      "metadata": {
        "colab": {
          "base_uri": "https://localhost:8080/"
        },
        "id": "Pc638ccTiapo",
        "outputId": "9b8d12ed-f556-4b92-f3cb-974aca091518"
      },
      "execution_count": null,
      "outputs": [
        {
          "output_type": "stream",
          "name": "stdout",
          "text": [
            "sex     dataset      \n",
            "Female  Cleveland         97\n",
            "        Hungary           81\n",
            "        Switzerland       10\n",
            "        VA Long Beach      6\n",
            "Male    Hungary          212\n",
            "        Cleveland        207\n",
            "        VA Long Beach    194\n",
            "        Switzerland      113\n",
            "Name: count, dtype: int64\n"
          ]
        }
      ]
    },
    {
      "cell_type": "code",
      "source": [
        "# make a plot of age column using plotly and coloring by dataset\n",
        "\n",
        "fig = px.histogram(data_frame=df, x='age', color= 'dataset')\n",
        "fig.show()"
      ],
      "metadata": {
        "colab": {
          "base_uri": "https://localhost:8080/",
          "height": 542
        },
        "id": "h3DkZC57isdW",
        "outputId": "9d55de64-befd-4db1-81c4-4feacb0c34ee"
      },
      "execution_count": null,
      "outputs": [
        {
          "output_type": "display_data",
          "data": {
            "text/html": [
              "<html>\n",
              "<head><meta charset=\"utf-8\" /></head>\n",
              "<body>\n",
              "    <div>            <script src=\"https://cdnjs.cloudflare.com/ajax/libs/mathjax/2.7.5/MathJax.js?config=TeX-AMS-MML_SVG\"></script><script type=\"text/javascript\">if (window.MathJax && window.MathJax.Hub && window.MathJax.Hub.Config) {window.MathJax.Hub.Config({SVG: {font: \"STIX-Web\"}});}</script>                <script type=\"text/javascript\">window.PlotlyConfig = {MathJaxConfig: 'local'};</script>\n",
              "        <script charset=\"utf-8\" src=\"https://cdn.plot.ly/plotly-2.24.1.min.js\"></script>                <div id=\"9869ea92-0626-4723-9e77-f4f37f399527\" class=\"plotly-graph-div\" style=\"height:525px; width:100%;\"></div>            <script type=\"text/javascript\">                                    window.PLOTLYENV=window.PLOTLYENV || {};                                    if (document.getElementById(\"9869ea92-0626-4723-9e77-f4f37f399527\")) {                    Plotly.newPlot(                        \"9869ea92-0626-4723-9e77-f4f37f399527\",                        [{\"alignmentgroup\":\"True\",\"bingroup\":\"x\",\"hovertemplate\":\"dataset=Cleveland\\u003cbr\\u003eage=%{x}\\u003cbr\\u003ecount=%{y}\\u003cextra\\u003e\\u003c\\u002fextra\\u003e\",\"legendgroup\":\"Cleveland\",\"marker\":{\"color\":\"#636efa\",\"pattern\":{\"shape\":\"\"}},\"name\":\"Cleveland\",\"offsetgroup\":\"Cleveland\",\"orientation\":\"v\",\"showlegend\":true,\"x\":[63,67,67,37,41,56,62,57,63,53,57,56,56,44,52,57,48,54,48,49,64,58,58,58,60,50,58,66,43,40,69,60,64,59,44,42,43,57,55,61,65,40,71,59,61,58,51,50,65,53,41,65,44,44,60,54,50,41,54,51,51,46,58,54,54,60,60,54,59,46,65,67,62,65,44,65,60,51,48,58,45,53,39,68,52,44,47,53,53,51,66,62,62,44,63,52,59,60,52,48,45,34,57,71,49,54,59,57,61,39,61,56,52,43,62,41,58,35,63,65,48,63,51,55,65,45,56,54,44,62,54,51,29,51,43,55,70,62,35,51,59,59,52,64,58,47,57,41,45,60,52,42,67,55,64,70,51,58,60,68,46,77,54,58,48,57,52,54,35,45,70,53,59,62,64,57,52,56,43,53,48,56,42,59,60,63,42,66,54,69,50,51,43,62,68,67,69,45,50,59,50,64,57,64,43,45,58,50,55,62,37,38,41,66,52,56,46,46,64,59,41,54,39,53,63,34,47,67,54,66,52,55,49,74,54,54,56,46,49,42,41,41,49,61,60,67,58,47,52,62,57,58,64,51,43,42,67,76,70,57,44,58,60,44,61,42,52,59,40,42,61,66,46,71,59,64,66,39,57,58,57,47,55,35,61,58,58,58,56,56,67,55,44,63,63,41,59,57,45,68,57,57,38,28],\"xaxis\":\"x\",\"yaxis\":\"y\",\"type\":\"histogram\"},{\"alignmentgroup\":\"True\",\"bingroup\":\"x\",\"hovertemplate\":\"dataset=Hungary\\u003cbr\\u003eage=%{x}\\u003cbr\\u003ecount=%{y}\\u003cextra\\u003e\\u003c\\u002fextra\\u003e\",\"legendgroup\":\"Hungary\",\"marker\":{\"color\":\"#EF553B\",\"pattern\":{\"shape\":\"\"}},\"name\":\"Hungary\",\"offsetgroup\":\"Hungary\",\"orientation\":\"v\",\"showlegend\":true,\"x\":[29,29,30,31,32,32,32,33,34,34,34,35,35,35,35,36,36,36,36,37,37,37,37,37,37,37,38,38,38,39,39,39,39,39,39,39,39,39,39,40,40,40,40,40,41,41,41,41,41,41,41,42,42,42,42,42,42,42,43,43,43,43,43,43,43,43,44,44,44,44,45,45,45,45,45,45,45,46,46,46,46,46,46,46,47,47,47,47,47,48,48,48,48,48,48,48,48,48,48,48,49,49,49,49,49,49,49,49,50,50,50,50,50,50,50,51,51,51,51,51,51,51,52,52,52,52,52,52,52,52,53,53,53,53,53,53,53,53,53,54,54,54,54,54,54,54,54,54,54,54,54,54,54,54,54,55,55,55,55,55,55,55,55,55,55,56,56,56,56,56,57,57,57,58,58,58,58,59,59,59,59,59,60,61,61,62,62,31,33,34,35,36,37,38,38,38,40,41,41,43,46,46,46,47,47,48,48,48,49,49,49,50,50,51,52,54,54,55,57,58,59,60,63,65,32,38,39,40,43,45,46,46,48,48,48,48,50,52,52,53,54,54,54,54,54,55,56,57,58,58,41,43,44,44,46,47,48,49,49,51,52,52,52,52,53,53,54,55,55,55,56,56,56,58,59,59,65,66,41,43,44,47,47,49,49,50,50,52,52,54,56,58,65],\"xaxis\":\"x\",\"yaxis\":\"y\",\"type\":\"histogram\"},{\"alignmentgroup\":\"True\",\"bingroup\":\"x\",\"hovertemplate\":\"dataset=Switzerland\\u003cbr\\u003eage=%{x}\\u003cbr\\u003ecount=%{y}\\u003cextra\\u003e\\u003c\\u002fextra\\u003e\",\"legendgroup\":\"Switzerland\",\"marker\":{\"color\":\"#00cc96\",\"pattern\":{\"shape\":\"\"}},\"name\":\"Switzerland\",\"offsetgroup\":\"Switzerland\",\"orientation\":\"v\",\"showlegend\":true,\"x\":[32,34,35,36,38,38,38,38,38,38,40,41,42,42,43,43,43,45,46,46,47,47,47,47,48,50,50,50,50,51,51,51,51,51,51,51,52,52,52,52,53,53,53,53,53,53,53,53,54,54,54,55,55,55,55,56,56,56,56,56,56,56,56,57,57,57,57,57,57,58,58,58,59,59,59,59,59,60,60,60,60,60,60,61,61,61,61,61,61,61,61,61,62,62,62,62,62,62,62,63,63,63,63,63,64,64,64,65,65,65,65,66,66,67,68,68,69,69,70,70,72,73,74],\"xaxis\":\"x\",\"yaxis\":\"y\",\"type\":\"histogram\"},{\"alignmentgroup\":\"True\",\"bingroup\":\"x\",\"hovertemplate\":\"dataset=VA Long Beach\\u003cbr\\u003eage=%{x}\\u003cbr\\u003ecount=%{y}\\u003cextra\\u003e\\u003c\\u002fextra\\u003e\",\"legendgroup\":\"VA Long Beach\",\"marker\":{\"color\":\"#ab63fa\",\"pattern\":{\"shape\":\"\"}},\"name\":\"VA Long Beach\",\"offsetgroup\":\"VA Long Beach\",\"orientation\":\"v\",\"showlegend\":true,\"x\":[63,44,60,55,66,66,65,60,60,60,56,59,62,63,57,62,63,46,63,60,58,64,63,74,52,69,51,60,56,55,54,77,63,55,52,64,60,60,58,59,61,40,61,41,57,63,59,51,59,42,55,63,62,56,53,68,53,60,62,59,51,61,57,56,58,69,67,58,65,63,55,57,65,54,72,75,49,51,60,64,58,61,67,62,65,63,69,51,62,55,75,40,67,58,60,63,35,62,43,63,68,65,48,63,64,61,50,59,55,45,65,61,49,72,50,64,55,63,59,56,62,74,54,57,62,76,54,70,61,48,48,61,66,68,55,62,71,74,53,58,75,56,58,64,54,54,59,55,57,61,41,71,38,55,56,69,64,72,69,56,62,67,57,69,51,48,69,69,64,57,53,37,67,74,63,58,61,64,58,60,57,55,55,56,57,61,61,58,74,68,51,62,53,62,46,54,62,55,58,62],\"xaxis\":\"x\",\"yaxis\":\"y\",\"type\":\"histogram\"}],                        {\"template\":{\"data\":{\"histogram2dcontour\":[{\"type\":\"histogram2dcontour\",\"colorbar\":{\"outlinewidth\":0,\"ticks\":\"\"},\"colorscale\":[[0.0,\"#0d0887\"],[0.1111111111111111,\"#46039f\"],[0.2222222222222222,\"#7201a8\"],[0.3333333333333333,\"#9c179e\"],[0.4444444444444444,\"#bd3786\"],[0.5555555555555556,\"#d8576b\"],[0.6666666666666666,\"#ed7953\"],[0.7777777777777778,\"#fb9f3a\"],[0.8888888888888888,\"#fdca26\"],[1.0,\"#f0f921\"]]}],\"choropleth\":[{\"type\":\"choropleth\",\"colorbar\":{\"outlinewidth\":0,\"ticks\":\"\"}}],\"histogram2d\":[{\"type\":\"histogram2d\",\"colorbar\":{\"outlinewidth\":0,\"ticks\":\"\"},\"colorscale\":[[0.0,\"#0d0887\"],[0.1111111111111111,\"#46039f\"],[0.2222222222222222,\"#7201a8\"],[0.3333333333333333,\"#9c179e\"],[0.4444444444444444,\"#bd3786\"],[0.5555555555555556,\"#d8576b\"],[0.6666666666666666,\"#ed7953\"],[0.7777777777777778,\"#fb9f3a\"],[0.8888888888888888,\"#fdca26\"],[1.0,\"#f0f921\"]]}],\"heatmap\":[{\"type\":\"heatmap\",\"colorbar\":{\"outlinewidth\":0,\"ticks\":\"\"},\"colorscale\":[[0.0,\"#0d0887\"],[0.1111111111111111,\"#46039f\"],[0.2222222222222222,\"#7201a8\"],[0.3333333333333333,\"#9c179e\"],[0.4444444444444444,\"#bd3786\"],[0.5555555555555556,\"#d8576b\"],[0.6666666666666666,\"#ed7953\"],[0.7777777777777778,\"#fb9f3a\"],[0.8888888888888888,\"#fdca26\"],[1.0,\"#f0f921\"]]}],\"heatmapgl\":[{\"type\":\"heatmapgl\",\"colorbar\":{\"outlinewidth\":0,\"ticks\":\"\"},\"colorscale\":[[0.0,\"#0d0887\"],[0.1111111111111111,\"#46039f\"],[0.2222222222222222,\"#7201a8\"],[0.3333333333333333,\"#9c179e\"],[0.4444444444444444,\"#bd3786\"],[0.5555555555555556,\"#d8576b\"],[0.6666666666666666,\"#ed7953\"],[0.7777777777777778,\"#fb9f3a\"],[0.8888888888888888,\"#fdca26\"],[1.0,\"#f0f921\"]]}],\"contourcarpet\":[{\"type\":\"contourcarpet\",\"colorbar\":{\"outlinewidth\":0,\"ticks\":\"\"}}],\"contour\":[{\"type\":\"contour\",\"colorbar\":{\"outlinewidth\":0,\"ticks\":\"\"},\"colorscale\":[[0.0,\"#0d0887\"],[0.1111111111111111,\"#46039f\"],[0.2222222222222222,\"#7201a8\"],[0.3333333333333333,\"#9c179e\"],[0.4444444444444444,\"#bd3786\"],[0.5555555555555556,\"#d8576b\"],[0.6666666666666666,\"#ed7953\"],[0.7777777777777778,\"#fb9f3a\"],[0.8888888888888888,\"#fdca26\"],[1.0,\"#f0f921\"]]}],\"surface\":[{\"type\":\"surface\",\"colorbar\":{\"outlinewidth\":0,\"ticks\":\"\"},\"colorscale\":[[0.0,\"#0d0887\"],[0.1111111111111111,\"#46039f\"],[0.2222222222222222,\"#7201a8\"],[0.3333333333333333,\"#9c179e\"],[0.4444444444444444,\"#bd3786\"],[0.5555555555555556,\"#d8576b\"],[0.6666666666666666,\"#ed7953\"],[0.7777777777777778,\"#fb9f3a\"],[0.8888888888888888,\"#fdca26\"],[1.0,\"#f0f921\"]]}],\"mesh3d\":[{\"type\":\"mesh3d\",\"colorbar\":{\"outlinewidth\":0,\"ticks\":\"\"}}],\"scatter\":[{\"fillpattern\":{\"fillmode\":\"overlay\",\"size\":10,\"solidity\":0.2},\"type\":\"scatter\"}],\"parcoords\":[{\"type\":\"parcoords\",\"line\":{\"colorbar\":{\"outlinewidth\":0,\"ticks\":\"\"}}}],\"scatterpolargl\":[{\"type\":\"scatterpolargl\",\"marker\":{\"colorbar\":{\"outlinewidth\":0,\"ticks\":\"\"}}}],\"bar\":[{\"error_x\":{\"color\":\"#2a3f5f\"},\"error_y\":{\"color\":\"#2a3f5f\"},\"marker\":{\"line\":{\"color\":\"#E5ECF6\",\"width\":0.5},\"pattern\":{\"fillmode\":\"overlay\",\"size\":10,\"solidity\":0.2}},\"type\":\"bar\"}],\"scattergeo\":[{\"type\":\"scattergeo\",\"marker\":{\"colorbar\":{\"outlinewidth\":0,\"ticks\":\"\"}}}],\"scatterpolar\":[{\"type\":\"scatterpolar\",\"marker\":{\"colorbar\":{\"outlinewidth\":0,\"ticks\":\"\"}}}],\"histogram\":[{\"marker\":{\"pattern\":{\"fillmode\":\"overlay\",\"size\":10,\"solidity\":0.2}},\"type\":\"histogram\"}],\"scattergl\":[{\"type\":\"scattergl\",\"marker\":{\"colorbar\":{\"outlinewidth\":0,\"ticks\":\"\"}}}],\"scatter3d\":[{\"type\":\"scatter3d\",\"line\":{\"colorbar\":{\"outlinewidth\":0,\"ticks\":\"\"}},\"marker\":{\"colorbar\":{\"outlinewidth\":0,\"ticks\":\"\"}}}],\"scattermapbox\":[{\"type\":\"scattermapbox\",\"marker\":{\"colorbar\":{\"outlinewidth\":0,\"ticks\":\"\"}}}],\"scatterternary\":[{\"type\":\"scatterternary\",\"marker\":{\"colorbar\":{\"outlinewidth\":0,\"ticks\":\"\"}}}],\"scattercarpet\":[{\"type\":\"scattercarpet\",\"marker\":{\"colorbar\":{\"outlinewidth\":0,\"ticks\":\"\"}}}],\"carpet\":[{\"aaxis\":{\"endlinecolor\":\"#2a3f5f\",\"gridcolor\":\"white\",\"linecolor\":\"white\",\"minorgridcolor\":\"white\",\"startlinecolor\":\"#2a3f5f\"},\"baxis\":{\"endlinecolor\":\"#2a3f5f\",\"gridcolor\":\"white\",\"linecolor\":\"white\",\"minorgridcolor\":\"white\",\"startlinecolor\":\"#2a3f5f\"},\"type\":\"carpet\"}],\"table\":[{\"cells\":{\"fill\":{\"color\":\"#EBF0F8\"},\"line\":{\"color\":\"white\"}},\"header\":{\"fill\":{\"color\":\"#C8D4E3\"},\"line\":{\"color\":\"white\"}},\"type\":\"table\"}],\"barpolar\":[{\"marker\":{\"line\":{\"color\":\"#E5ECF6\",\"width\":0.5},\"pattern\":{\"fillmode\":\"overlay\",\"size\":10,\"solidity\":0.2}},\"type\":\"barpolar\"}],\"pie\":[{\"automargin\":true,\"type\":\"pie\"}]},\"layout\":{\"autotypenumbers\":\"strict\",\"colorway\":[\"#636efa\",\"#EF553B\",\"#00cc96\",\"#ab63fa\",\"#FFA15A\",\"#19d3f3\",\"#FF6692\",\"#B6E880\",\"#FF97FF\",\"#FECB52\"],\"font\":{\"color\":\"#2a3f5f\"},\"hovermode\":\"closest\",\"hoverlabel\":{\"align\":\"left\"},\"paper_bgcolor\":\"white\",\"plot_bgcolor\":\"#E5ECF6\",\"polar\":{\"bgcolor\":\"#E5ECF6\",\"angularaxis\":{\"gridcolor\":\"white\",\"linecolor\":\"white\",\"ticks\":\"\"},\"radialaxis\":{\"gridcolor\":\"white\",\"linecolor\":\"white\",\"ticks\":\"\"}},\"ternary\":{\"bgcolor\":\"#E5ECF6\",\"aaxis\":{\"gridcolor\":\"white\",\"linecolor\":\"white\",\"ticks\":\"\"},\"baxis\":{\"gridcolor\":\"white\",\"linecolor\":\"white\",\"ticks\":\"\"},\"caxis\":{\"gridcolor\":\"white\",\"linecolor\":\"white\",\"ticks\":\"\"}},\"coloraxis\":{\"colorbar\":{\"outlinewidth\":0,\"ticks\":\"\"}},\"colorscale\":{\"sequential\":[[0.0,\"#0d0887\"],[0.1111111111111111,\"#46039f\"],[0.2222222222222222,\"#7201a8\"],[0.3333333333333333,\"#9c179e\"],[0.4444444444444444,\"#bd3786\"],[0.5555555555555556,\"#d8576b\"],[0.6666666666666666,\"#ed7953\"],[0.7777777777777778,\"#fb9f3a\"],[0.8888888888888888,\"#fdca26\"],[1.0,\"#f0f921\"]],\"sequentialminus\":[[0.0,\"#0d0887\"],[0.1111111111111111,\"#46039f\"],[0.2222222222222222,\"#7201a8\"],[0.3333333333333333,\"#9c179e\"],[0.4444444444444444,\"#bd3786\"],[0.5555555555555556,\"#d8576b\"],[0.6666666666666666,\"#ed7953\"],[0.7777777777777778,\"#fb9f3a\"],[0.8888888888888888,\"#fdca26\"],[1.0,\"#f0f921\"]],\"diverging\":[[0,\"#8e0152\"],[0.1,\"#c51b7d\"],[0.2,\"#de77ae\"],[0.3,\"#f1b6da\"],[0.4,\"#fde0ef\"],[0.5,\"#f7f7f7\"],[0.6,\"#e6f5d0\"],[0.7,\"#b8e186\"],[0.8,\"#7fbc41\"],[0.9,\"#4d9221\"],[1,\"#276419\"]]},\"xaxis\":{\"gridcolor\":\"white\",\"linecolor\":\"white\",\"ticks\":\"\",\"title\":{\"standoff\":15},\"zerolinecolor\":\"white\",\"automargin\":true,\"zerolinewidth\":2},\"yaxis\":{\"gridcolor\":\"white\",\"linecolor\":\"white\",\"ticks\":\"\",\"title\":{\"standoff\":15},\"zerolinecolor\":\"white\",\"automargin\":true,\"zerolinewidth\":2},\"scene\":{\"xaxis\":{\"backgroundcolor\":\"#E5ECF6\",\"gridcolor\":\"white\",\"linecolor\":\"white\",\"showbackground\":true,\"ticks\":\"\",\"zerolinecolor\":\"white\",\"gridwidth\":2},\"yaxis\":{\"backgroundcolor\":\"#E5ECF6\",\"gridcolor\":\"white\",\"linecolor\":\"white\",\"showbackground\":true,\"ticks\":\"\",\"zerolinecolor\":\"white\",\"gridwidth\":2},\"zaxis\":{\"backgroundcolor\":\"#E5ECF6\",\"gridcolor\":\"white\",\"linecolor\":\"white\",\"showbackground\":true,\"ticks\":\"\",\"zerolinecolor\":\"white\",\"gridwidth\":2}},\"shapedefaults\":{\"line\":{\"color\":\"#2a3f5f\"}},\"annotationdefaults\":{\"arrowcolor\":\"#2a3f5f\",\"arrowhead\":0,\"arrowwidth\":1},\"geo\":{\"bgcolor\":\"white\",\"landcolor\":\"#E5ECF6\",\"subunitcolor\":\"white\",\"showland\":true,\"showlakes\":true,\"lakecolor\":\"white\"},\"title\":{\"x\":0.05},\"mapbox\":{\"style\":\"light\"}}},\"xaxis\":{\"anchor\":\"y\",\"domain\":[0.0,1.0],\"title\":{\"text\":\"age\"}},\"yaxis\":{\"anchor\":\"x\",\"domain\":[0.0,1.0],\"title\":{\"text\":\"count\"}},\"legend\":{\"title\":{\"text\":\"dataset\"},\"tracegroupgap\":0},\"margin\":{\"t\":60},\"barmode\":\"relative\"},                        {\"responsive\": true}                    ).then(function(){\n",
              "                            \n",
              "var gd = document.getElementById('9869ea92-0626-4723-9e77-f4f37f399527');\n",
              "var x = new MutationObserver(function (mutations, observer) {{\n",
              "        var display = window.getComputedStyle(gd).display;\n",
              "        if (!display || display === 'none') {{\n",
              "            console.log([gd, 'removed!']);\n",
              "            Plotly.purge(gd);\n",
              "            observer.disconnect();\n",
              "        }}\n",
              "}});\n",
              "\n",
              "// Listen for the removal of the full notebook cells\n",
              "var notebookContainer = gd.closest('#notebook-container');\n",
              "if (notebookContainer) {{\n",
              "    x.observe(notebookContainer, {childList: true});\n",
              "}}\n",
              "\n",
              "// Listen for the clearing of the current output cell\n",
              "var outputEl = gd.closest('.output');\n",
              "if (outputEl) {{\n",
              "    x.observe(outputEl, {childList: true});\n",
              "}}\n",
              "\n",
              "                        })                };                            </script>        </div>\n",
              "</body>\n",
              "</html>"
            ]
          },
          "metadata": {}
        }
      ]
    },
    {
      "cell_type": "code",
      "source": [
        "print(\"___________________________________________________________\")\n",
        "print(\"Mean of age by dataset: \", df.groupby('dataset')['age'].mean())\n",
        "print(\"___________________________________________________________\")\n",
        "print(\"Median of age by dataset: \", df.groupby('dataset')['age'].median())\n",
        "print(\"___________________________________________________________\")\n",
        "print(\"Mode of age by dataset: \", df.groupby('dataset')['age'].apply(lambda x: pd.Series.mode(x).tolist()))\n",
        "print(\"___________________________________________________________\")"
      ],
      "metadata": {
        "colab": {
          "base_uri": "https://localhost:8080/"
        },
        "id": "vbe8ta53jAPc",
        "outputId": "53ed9605-e403-44a8-958d-09ef4ccea338"
      },
      "execution_count": null,
      "outputs": [
        {
          "output_type": "stream",
          "name": "stdout",
          "text": [
            "___________________________________________________________\n",
            "Mean of age by dataset:  dataset\n",
            "Cleveland        54.351974\n",
            "Hungary          47.894198\n",
            "Switzerland      55.317073\n",
            "VA Long Beach    59.350000\n",
            "Name: age, dtype: float64\n",
            "___________________________________________________________\n",
            "Median of age by dataset:  dataset\n",
            "Cleveland        55.5\n",
            "Hungary          49.0\n",
            "Switzerland      56.0\n",
            "VA Long Beach    60.0\n",
            "Name: age, dtype: float64\n",
            "___________________________________________________________\n",
            "Mode of age by dataset:  dataset\n",
            "Cleveland            [58]\n",
            "Hungary              [54]\n",
            "Switzerland          [61]\n",
            "VA Long Beach    [62, 63]\n",
            "Name: age, dtype: object\n",
            "___________________________________________________________\n"
          ]
        }
      ]
    },
    {
      "cell_type": "code",
      "source": [
        "# value count of cp column\n",
        "df['cp'].value_counts()"
      ],
      "metadata": {
        "colab": {
          "base_uri": "https://localhost:8080/",
          "height": 241
        },
        "id": "LdSrXXI_nkKq",
        "outputId": "9032279d-bfed-4d40-8da3-19045407407f"
      },
      "execution_count": null,
      "outputs": [
        {
          "output_type": "execute_result",
          "data": {
            "text/plain": [
              "cp\n",
              "asymptomatic       496\n",
              "non-anginal        204\n",
              "atypical angina    174\n",
              "typical angina      46\n",
              "Name: count, dtype: int64"
            ],
            "text/html": [
              "<table border=\"1\" class=\"dataframe\">\n",
              "  <thead>\n",
              "    <tr style=\"text-align: right;\">\n",
              "      <th></th>\n",
              "      <th>count</th>\n",
              "    </tr>\n",
              "    <tr>\n",
              "      <th>cp</th>\n",
              "      <th></th>\n",
              "    </tr>\n",
              "  </thead>\n",
              "  <tbody>\n",
              "    <tr>\n",
              "      <th>asymptomatic</th>\n",
              "      <td>496</td>\n",
              "    </tr>\n",
              "    <tr>\n",
              "      <th>non-anginal</th>\n",
              "      <td>204</td>\n",
              "    </tr>\n",
              "    <tr>\n",
              "      <th>atypical angina</th>\n",
              "      <td>174</td>\n",
              "    </tr>\n",
              "    <tr>\n",
              "      <th>typical angina</th>\n",
              "      <td>46</td>\n",
              "    </tr>\n",
              "  </tbody>\n",
              "</table><br><label><b>dtype:</b> int64</label>"
            ]
          },
          "metadata": {},
          "execution_count": 60
        }
      ]
    },
    {
      "cell_type": "code",
      "source": [
        "# count plot of cp column by sex column\n",
        "sns.countplot(df, x='cp', hue= 'sex')"
      ],
      "metadata": {
        "colab": {
          "base_uri": "https://localhost:8080/",
          "height": 520
        },
        "id": "Fgp-NrT4nu_A",
        "outputId": "9946728e-d9ca-43e6-8c17-aaebd4d52ac3"
      },
      "execution_count": null,
      "outputs": [
        {
          "output_type": "execute_result",
          "data": {
            "text/plain": [
              "<Axes: xlabel='cp', ylabel='count'>"
            ]
          },
          "metadata": {},
          "execution_count": 61
        },
        {
          "output_type": "display_data",
          "data": {
            "text/plain": [
              "<Figure size 800x550 with 1 Axes>"
            ],
            "image/png": "[encoded data removed]"
          },
          "metadata": {}
        }
      ]
    },
    {
      "cell_type": "code",
      "source": [
        "# count plot of cp column by dataset column\n",
        "sns.countplot(df,x='cp',hue='dataset')"
      ],
      "metadata": {
        "colab": {
          "base_uri": "https://localhost:8080/",
          "height": 520
        },
        "id": "7svpIf6rn2AK",
        "outputId": "9d093279-46d7-44cd-8291-e6b2d25497b3"
      },
      "execution_count": null,
      "outputs": [
        {
          "output_type": "execute_result",
          "data": {
            "text/plain": [
              "<Axes: xlabel='cp', ylabel='count'>"
            ]
          },
          "metadata": {},
          "execution_count": 62
        },
        {
          "output_type": "display_data",
          "data": {
            "text/plain": [
              "<Figure size 800x550 with 1 Axes>"
            ],
            "image/png": "[encoded data removed]"
          },
          "metadata": {}
        }
      ]
    },
    {
      "cell_type": "code",
      "source": [
        "# Draw the plot of age column group by cp column\n",
        "\n",
        "fig = px.histogram(data_frame=df, x='age', color='cp')\n",
        "fig.show()"
      ],
      "metadata": {
        "colab": {
          "base_uri": "https://localhost:8080/",
          "height": 542
        },
        "id": "lrhfLv8qn-xw",
        "outputId": "537db19c-2b12-46ec-c672-c8c40c8b38ae"
      },
      "execution_count": null,
      "outputs": [
        {
          "output_type": "display_data",
          "data": {
            "text/html": [
              "<html>\n",
              "<head><meta charset=\"utf-8\" /></head>\n",
              "<body>\n",
              "    <div>            <script src=\"https://cdnjs.cloudflare.com/ajax/libs/mathjax/2.7.5/MathJax.js?config=TeX-AMS-MML_SVG\"></script><script type=\"text/javascript\">if (window.MathJax && window.MathJax.Hub && window.MathJax.Hub.Config) {window.MathJax.Hub.Config({SVG: {font: \"STIX-Web\"}});}</script>                <script type=\"text/javascript\">window.PlotlyConfig = {MathJaxConfig: 'local'};</script>\n",
              "        <script charset=\"utf-8\" src=\"https://cdn.plot.ly/plotly-2.24.1.min.js\"></script>                <div id=\"fc2cd3a9-3c35-46de-8ef5-9162d969b793\" class=\"plotly-graph-div\" style=\"height:525px; width:100%;\"></div>            <script type=\"text/javascript\">                                    window.PLOTLYENV=window.PLOTLYENV || {};                                    if (document.getElementById(\"fc2cd3a9-3c35-46de-8ef5-9162d969b793\")) {                    Plotly.newPlot(                        \"fc2cd3a9-3c35-46de-8ef5-9162d969b793\",                        [{\"alignmentgroup\":\"True\",\"bingroup\":\"x\",\"hovertemplate\":\"cp=typical angina\\u003cbr\\u003eage=%{x}\\u003cbr\\u003ecount=%{y}\\u003cextra\\u003e\\u003c\\u002fextra\\u003e\",\"legendgroup\":\"typical angina\",\"marker\":{\"color\":\"#636efa\",\"pattern\":{\"shape\":\"\"}},\"name\":\"typical angina\",\"offsetgroup\":\"typical angina\",\"orientation\":\"v\",\"showlegend\":true,\"x\":[63,64,58,66,69,40,51,34,52,65,59,52,42,59,69,59,38,56,61,60,59,64,45,30,35,43,47,54,57,62,34,43,46,55,32,62,62,67,67,65,49,62,61,68,74,62],\"xaxis\":\"x\",\"yaxis\":\"y\",\"type\":\"histogram\"},{\"alignmentgroup\":\"True\",\"bingroup\":\"x\",\"hovertemplate\":\"cp=asymptomatic\\u003cbr\\u003eage=%{x}\\u003cbr\\u003ecount=%{y}\\u003cextra\\u003e\\u003c\\u002fextra\\u003e\",\"legendgroup\":\"asymptomatic\",\"marker\":{\"color\":\"#EF553B\",\"pattern\":{\"shape\":\"\"}},\"name\":\"asymptomatic\",\"offsetgroup\":\"asymptomatic\",\"orientation\":\"v\",\"showlegend\":true,\"x\":[67,67,62,57,63,53,57,54,60,43,40,60,59,42,43,57,55,65,61,50,65,44,60,54,41,51,58,54,60,59,67,62,65,44,60,58,45,53,53,66,62,52,59,60,48,45,57,59,61,39,61,56,43,35,63,65,48,63,55,56,54,62,51,70,35,57,42,55,64,70,51,58,60,77,58,57,35,53,59,62,64,57,52,56,48,56,60,51,43,62,67,45,50,64,43,45,58,50,62,66,52,46,64,59,53,63,47,54,66,55,54,56,46,49,67,58,47,52,57,58,64,43,67,61,42,52,40,61,66,46,71,58,57,55,61,58,58,44,63,63,59,57,68,57,35,37,37,37,39,39,41,42,44,44,45,45,45,46,46,46,46,47,48,48,48,49,49,50,50,50,51,52,53,53,53,54,55,55,56,57,58,59,61,61,31,33,37,38,38,38,40,41,41,43,46,46,46,47,48,48,48,49,50,51,52,54,54,55,59,60,63,65,32,38,39,40,45,46,46,48,48,48,48,50,52,52,53,54,54,54,54,55,56,57,58,41,43,44,48,49,49,52,52,52,52,53,54,55,56,56,59,59,65,66,41,43,44,47,47,49,49,50,50,52,52,56,65,34,35,36,38,38,38,38,40,41,42,42,43,43,43,46,46,47,47,48,50,50,50,50,51,51,51,51,51,51,51,52,52,52,52,53,53,53,53,54,54,54,55,55,55,56,56,56,56,56,57,57,57,57,57,58,58,58,59,59,59,59,60,60,60,60,60,61,61,61,61,61,61,61,61,62,62,62,62,63,63,63,63,63,64,64,64,65,65,65,65,66,66,68,68,69,69,70,70,63,44,60,55,65,59,62,57,62,63,46,63,60,58,64,69,51,60,56,54,77,63,64,60,60,58,59,40,61,41,57,63,59,51,62,53,68,53,59,51,61,57,58,65,57,54,75,60,64,58,61,67,62,65,63,69,51,62,75,67,58,60,63,43,65,63,64,61,50,59,55,65,72,50,64,55,63,59,56,74,54,57,54,70,48,66,55,75,64,59,55,57,61,41,71,38,55,56,69,64,72,69,56,62,67,57,69,51,48,69,64,53,67,58,61,64,58,60,57,55,56,57,74,51,62,53,62,46,54,55,58],\"xaxis\":\"x\",\"yaxis\":\"y\",\"type\":\"histogram\"},{\"alignmentgroup\":\"True\",\"bingroup\":\"x\",\"hovertemplate\":\"cp=non-anginal\\u003cbr\\u003eage=%{x}\\u003cbr\\u003ecount=%{y}\\u003cextra\\u003e\\u003c\\u002fextra\\u003e\",\"legendgroup\":\"non-anginal\",\"marker\":{\"color\":\"#00cc96\",\"pattern\":{\"shape\":\"\"}},\"name\":\"non-anginal\",\"offsetgroup\":\"non-anginal\",\"orientation\":\"v\",\"showlegend\":true,\"x\":[37,56,52,57,48,58,50,58,64,44,61,59,58,51,65,53,50,54,46,54,60,54,46,65,65,51,39,68,44,47,53,51,62,44,63,71,49,57,62,58,51,54,51,43,51,64,58,47,41,60,67,68,54,48,52,70,43,53,42,69,50,68,57,64,37,41,41,54,39,67,52,49,54,60,51,42,76,44,44,59,42,66,39,47,67,38,33,36,36,36,37,37,38,39,39,39,40,40,40,42,42,42,43,45,46,46,47,48,48,49,49,51,51,51,52,52,53,53,54,54,55,55,56,56,56,58,59,59,60,47,49,49,50,58,54,58,47,51,53,54,38,38,45,47,47,53,53,56,56,56,57,59,60,61,62,72,73,66,66,60,60,63,63,74,52,55,55,52,61,59,42,55,60,56,69,72,51,55,40,35,63,68,48,45,49,62,62,76,48,62,71,53,58,56,58,54,69,37,74,55,61,61,58,68],\"xaxis\":\"x\",\"yaxis\":\"y\",\"type\":\"histogram\"},{\"alignmentgroup\":\"True\",\"bingroup\":\"x\",\"hovertemplate\":\"cp=atypical angina\\u003cbr\\u003eage=%{x}\\u003cbr\\u003ecount=%{y}\\u003cextra\\u003e\\u003c\\u002fextra\\u003e\",\"legendgroup\":\"atypical angina\",\"marker\":{\"color\":\"#ab63fa\",\"pattern\":{\"shape\":\"\"}},\"name\":\"atypical angina\",\"offsetgroup\":\"atypical angina\",\"orientation\":\"v\",\"showlegend\":true,\"x\":[41,56,56,44,48,49,58,71,41,44,48,52,52,54,41,45,44,29,55,62,59,52,45,46,54,45,63,66,54,50,55,46,34,74,49,42,41,41,62,70,57,58,57,35,58,56,56,55,41,57,28,29,29,31,32,32,32,34,34,34,35,35,36,37,37,38,38,39,39,39,39,39,40,40,41,41,41,41,41,41,42,42,42,43,43,43,43,43,43,44,44,45,45,45,46,47,47,48,48,48,48,48,48,49,49,49,49,50,50,50,50,51,51,51,52,52,52,52,52,53,53,53,53,54,54,54,54,54,54,54,54,54,54,54,54,55,55,55,55,55,55,56,57,58,58,59,59,62,35,36,57,44,55,56,58,58,53,53,55,74,60,56,63,56,62,58,63,55,61,61,54,57,63,62],\"xaxis\":\"x\",\"yaxis\":\"y\",\"type\":\"histogram\"}],                        {\"template\":{\"data\":{\"histogram2dcontour\":[{\"type\":\"histogram2dcontour\",\"colorbar\":{\"outlinewidth\":0,\"ticks\":\"\"},\"colorscale\":[[0.0,\"#0d0887\"],[0.1111111111111111,\"#46039f\"],[0.2222222222222222,\"#7201a8\"],[0.3333333333333333,\"#9c179e\"],[0.4444444444444444,\"#bd3786\"],[0.5555555555555556,\"#d8576b\"],[0.6666666666666666,\"#ed7953\"],[0.7777777777777778,\"#fb9f3a\"],[0.8888888888888888,\"#fdca26\"],[1.0,\"#f0f921\"]]}],\"choropleth\":[{\"type\":\"choropleth\",\"colorbar\":{\"outlinewidth\":0,\"ticks\":\"\"}}],\"histogram2d\":[{\"type\":\"histogram2d\",\"colorbar\":{\"outlinewidth\":0,\"ticks\":\"\"},\"colorscale\":[[0.0,\"#0d0887\"],[0.1111111111111111,\"#46039f\"],[0.2222222222222222,\"#7201a8\"],[0.3333333333333333,\"#9c179e\"],[0.4444444444444444,\"#bd3786\"],[0.5555555555555556,\"#d8576b\"],[0.6666666666666666,\"#ed7953\"],[0.7777777777777778,\"#fb9f3a\"],[0.8888888888888888,\"#fdca26\"],[1.0,\"#f0f921\"]]}],\"heatmap\":[{\"type\":\"heatmap\",\"colorbar\":{\"outlinewidth\":0,\"ticks\":\"\"},\"colorscale\":[[0.0,\"#0d0887\"],[0.1111111111111111,\"#46039f\"],[0.2222222222222222,\"#7201a8\"],[0.3333333333333333,\"#9c179e\"],[0.4444444444444444,\"#bd3786\"],[0.5555555555555556,\"#d8576b\"],[0.6666666666666666,\"#ed7953\"],[0.7777777777777778,\"#fb9f3a\"],[0.8888888888888888,\"#fdca26\"],[1.0,\"#f0f921\"]]}],\"heatmapgl\":[{\"type\":\"heatmapgl\",\"colorbar\":{\"outlinewidth\":0,\"ticks\":\"\"},\"colorscale\":[[0.0,\"#0d0887\"],[0.1111111111111111,\"#46039f\"],[0.2222222222222222,\"#7201a8\"],[0.3333333333333333,\"#9c179e\"],[0.4444444444444444,\"#bd3786\"],[0.5555555555555556,\"#d8576b\"],[0.6666666666666666,\"#ed7953\"],[0.7777777777777778,\"#fb9f3a\"],[0.8888888888888888,\"#fdca26\"],[1.0,\"#f0f921\"]]}],\"contourcarpet\":[{\"type\":\"contourcarpet\",\"colorbar\":{\"outlinewidth\":0,\"ticks\":\"\"}}],\"contour\":[{\"type\":\"contour\",\"colorbar\":{\"outlinewidth\":0,\"ticks\":\"\"},\"colorscale\":[[0.0,\"#0d0887\"],[0.1111111111111111,\"#46039f\"],[0.2222222222222222,\"#7201a8\"],[0.3333333333333333,\"#9c179e\"],[0.4444444444444444,\"#bd3786\"],[0.5555555555555556,\"#d8576b\"],[0.6666666666666666,\"#ed7953\"],[0.7777777777777778,\"#fb9f3a\"],[0.8888888888888888,\"#fdca26\"],[1.0,\"#f0f921\"]]}],\"surface\":[{\"type\":\"surface\",\"colorbar\":{\"outlinewidth\":0,\"ticks\":\"\"},\"colorscale\":[[0.0,\"#0d0887\"],[0.1111111111111111,\"#46039f\"],[0.2222222222222222,\"#7201a8\"],[0.3333333333333333,\"#9c179e\"],[0.4444444444444444,\"#bd3786\"],[0.5555555555555556,\"#d8576b\"],[0.6666666666666666,\"#ed7953\"],[0.7777777777777778,\"#fb9f3a\"],[0.8888888888888888,\"#fdca26\"],[1.0,\"#f0f921\"]]}],\"mesh3d\":[{\"type\":\"mesh3d\",\"colorbar\":{\"outlinewidth\":0,\"ticks\":\"\"}}],\"scatter\":[{\"fillpattern\":{\"fillmode\":\"overlay\",\"size\":10,\"solidity\":0.2},\"type\":\"scatter\"}],\"parcoords\":[{\"type\":\"parcoords\",\"line\":{\"colorbar\":{\"outlinewidth\":0,\"ticks\":\"\"}}}],\"scatterpolargl\":[{\"type\":\"scatterpolargl\",\"marker\":{\"colorbar\":{\"outlinewidth\":0,\"ticks\":\"\"}}}],\"bar\":[{\"error_x\":{\"color\":\"#2a3f5f\"},\"error_y\":{\"color\":\"#2a3f5f\"},\"marker\":{\"line\":{\"color\":\"#E5ECF6\",\"width\":0.5},\"pattern\":{\"fillmode\":\"overlay\",\"size\":10,\"solidity\":0.2}},\"type\":\"bar\"}],\"scattergeo\":[{\"type\":\"scattergeo\",\"marker\":{\"colorbar\":{\"outlinewidth\":0,\"ticks\":\"\"}}}],\"scatterpolar\":[{\"type\":\"scatterpolar\",\"marker\":{\"colorbar\":{\"outlinewidth\":0,\"ticks\":\"\"}}}],\"histogram\":[{\"marker\":{\"pattern\":{\"fillmode\":\"overlay\",\"size\":10,\"solidity\":0.2}},\"type\":\"histogram\"}],\"scattergl\":[{\"type\":\"scattergl\",\"marker\":{\"colorbar\":{\"outlinewidth\":0,\"ticks\":\"\"}}}],\"scatter3d\":[{\"type\":\"scatter3d\",\"line\":{\"colorbar\":{\"outlinewidth\":0,\"ticks\":\"\"}},\"marker\":{\"colorbar\":{\"outlinewidth\":0,\"ticks\":\"\"}}}],\"scattermapbox\":[{\"type\":\"scattermapbox\",\"marker\":{\"colorbar\":{\"outlinewidth\":0,\"ticks\":\"\"}}}],\"scatterternary\":[{\"type\":\"scatterternary\",\"marker\":{\"colorbar\":{\"outlinewidth\":0,\"ticks\":\"\"}}}],\"scattercarpet\":[{\"type\":\"scattercarpet\",\"marker\":{\"colorbar\":{\"outlinewidth\":0,\"ticks\":\"\"}}}],\"carpet\":[{\"aaxis\":{\"endlinecolor\":\"#2a3f5f\",\"gridcolor\":\"white\",\"linecolor\":\"white\",\"minorgridcolor\":\"white\",\"startlinecolor\":\"#2a3f5f\"},\"baxis\":{\"endlinecolor\":\"#2a3f5f\",\"gridcolor\":\"white\",\"linecolor\":\"white\",\"minorgridcolor\":\"white\",\"startlinecolor\":\"#2a3f5f\"},\"type\":\"carpet\"}],\"table\":[{\"cells\":{\"fill\":{\"color\":\"#EBF0F8\"},\"line\":{\"color\":\"white\"}},\"header\":{\"fill\":{\"color\":\"#C8D4E3\"},\"line\":{\"color\":\"white\"}},\"type\":\"table\"}],\"barpolar\":[{\"marker\":{\"line\":{\"color\":\"#E5ECF6\",\"width\":0.5},\"pattern\":{\"fillmode\":\"overlay\",\"size\":10,\"solidity\":0.2}},\"type\":\"barpolar\"}],\"pie\":[{\"automargin\":true,\"type\":\"pie\"}]},\"layout\":{\"autotypenumbers\":\"strict\",\"colorway\":[\"#636efa\",\"#EF553B\",\"#00cc96\",\"#ab63fa\",\"#FFA15A\",\"#19d3f3\",\"#FF6692\",\"#B6E880\",\"#FF97FF\",\"#FECB52\"],\"font\":{\"color\":\"#2a3f5f\"},\"hovermode\":\"closest\",\"hoverlabel\":{\"align\":\"left\"},\"paper_bgcolor\":\"white\",\"plot_bgcolor\":\"#E5ECF6\",\"polar\":{\"bgcolor\":\"#E5ECF6\",\"angularaxis\":{\"gridcolor\":\"white\",\"linecolor\":\"white\",\"ticks\":\"\"},\"radialaxis\":{\"gridcolor\":\"white\",\"linecolor\":\"white\",\"ticks\":\"\"}},\"ternary\":{\"bgcolor\":\"#E5ECF6\",\"aaxis\":{\"gridcolor\":\"white\",\"linecolor\":\"white\",\"ticks\":\"\"},\"baxis\":{\"gridcolor\":\"white\",\"linecolor\":\"white\",\"ticks\":\"\"},\"caxis\":{\"gridcolor\":\"white\",\"linecolor\":\"white\",\"ticks\":\"\"}},\"coloraxis\":{\"colorbar\":{\"outlinewidth\":0,\"ticks\":\"\"}},\"colorscale\":{\"sequential\":[[0.0,\"#0d0887\"],[0.1111111111111111,\"#46039f\"],[0.2222222222222222,\"#7201a8\"],[0.3333333333333333,\"#9c179e\"],[0.4444444444444444,\"#bd3786\"],[0.5555555555555556,\"#d8576b\"],[0.6666666666666666,\"#ed7953\"],[0.7777777777777778,\"#fb9f3a\"],[0.8888888888888888,\"#fdca26\"],[1.0,\"#f0f921\"]],\"sequentialminus\":[[0.0,\"#0d0887\"],[0.1111111111111111,\"#46039f\"],[0.2222222222222222,\"#7201a8\"],[0.3333333333333333,\"#9c179e\"],[0.4444444444444444,\"#bd3786\"],[0.5555555555555556,\"#d8576b\"],[0.6666666666666666,\"#ed7953\"],[0.7777777777777778,\"#fb9f3a\"],[0.8888888888888888,\"#fdca26\"],[1.0,\"#f0f921\"]],\"diverging\":[[0,\"#8e0152\"],[0.1,\"#c51b7d\"],[0.2,\"#de77ae\"],[0.3,\"#f1b6da\"],[0.4,\"#fde0ef\"],[0.5,\"#f7f7f7\"],[0.6,\"#e6f5d0\"],[0.7,\"#b8e186\"],[0.8,\"#7fbc41\"],[0.9,\"#4d9221\"],[1,\"#276419\"]]},\"xaxis\":{\"gridcolor\":\"white\",\"linecolor\":\"white\",\"ticks\":\"\",\"title\":{\"standoff\":15},\"zerolinecolor\":\"white\",\"automargin\":true,\"zerolinewidth\":2},\"yaxis\":{\"gridcolor\":\"white\",\"linecolor\":\"white\",\"ticks\":\"\",\"title\":{\"standoff\":15},\"zerolinecolor\":\"white\",\"automargin\":true,\"zerolinewidth\":2},\"scene\":{\"xaxis\":{\"backgroundcolor\":\"#E5ECF6\",\"gridcolor\":\"white\",\"linecolor\":\"white\",\"showbackground\":true,\"ticks\":\"\",\"zerolinecolor\":\"white\",\"gridwidth\":2},\"yaxis\":{\"backgroundcolor\":\"#E5ECF6\",\"gridcolor\":\"white\",\"linecolor\":\"white\",\"showbackground\":true,\"ticks\":\"\",\"zerolinecolor\":\"white\",\"gridwidth\":2},\"zaxis\":{\"backgroundcolor\":\"#E5ECF6\",\"gridcolor\":\"white\",\"linecolor\":\"white\",\"showbackground\":true,\"ticks\":\"\",\"zerolinecolor\":\"white\",\"gridwidth\":2}},\"shapedefaults\":{\"line\":{\"color\":\"#2a3f5f\"}},\"annotationdefaults\":{\"arrowcolor\":\"#2a3f5f\",\"arrowhead\":0,\"arrowwidth\":1},\"geo\":{\"bgcolor\":\"white\",\"landcolor\":\"#E5ECF6\",\"subunitcolor\":\"white\",\"showland\":true,\"showlakes\":true,\"lakecolor\":\"white\"},\"title\":{\"x\":0.05},\"mapbox\":{\"style\":\"light\"}}},\"xaxis\":{\"anchor\":\"y\",\"domain\":[0.0,1.0],\"title\":{\"text\":\"age\"}},\"yaxis\":{\"anchor\":\"x\",\"domain\":[0.0,1.0],\"title\":{\"text\":\"count\"}},\"legend\":{\"title\":{\"text\":\"cp\"},\"tracegroupgap\":0},\"margin\":{\"t\":60},\"barmode\":\"relative\"},                        {\"responsive\": true}                    ).then(function(){\n",
              "                            \n",
              "var gd = document.getElementById('fc2cd3a9-3c35-46de-8ef5-9162d969b793');\n",
              "var x = new MutationObserver(function (mutations, observer) {{\n",
              "        var display = window.getComputedStyle(gd).display;\n",
              "        if (!display || display === 'none') {{\n",
              "            console.log([gd, 'removed!']);\n",
              "            Plotly.purge(gd);\n",
              "            observer.disconnect();\n",
              "        }}\n",
              "}});\n",
              "\n",
              "// Listen for the removal of the full notebook cells\n",
              "var notebookContainer = gd.closest('#notebook-container');\n",
              "if (notebookContainer) {{\n",
              "    x.observe(notebookContainer, {childList: true});\n",
              "}}\n",
              "\n",
              "// Listen for the clearing of the current output cell\n",
              "var outputEl = gd.closest('.output');\n",
              "if (outputEl) {{\n",
              "    x.observe(outputEl, {childList: true});\n",
              "}}\n",
              "\n",
              "                        })                };                            </script>        </div>\n",
              "</body>\n",
              "</html>"
            ]
          },
          "metadata": {}
        }
      ]
    },
    {
      "cell_type": "code",
      "source": [
        "# lets summerize the trestbps column\n",
        "df['trestbps'].describe()"
      ],
      "metadata": {
        "colab": {
          "base_uri": "https://localhost:8080/",
          "height": 335
        },
        "id": "1tAXd5pCoGpA",
        "outputId": "bfcd63e1-871f-446c-ad74-166927bab909"
      },
      "execution_count": null,
      "outputs": [
        {
          "output_type": "execute_result",
          "data": {
            "text/plain": [
              "count    861.000000\n",
              "mean     132.132404\n",
              "std       19.066070\n",
              "min        0.000000\n",
              "25%      120.000000\n",
              "50%      130.000000\n",
              "75%      140.000000\n",
              "max      200.000000\n",
              "Name: trestbps, dtype: float64"
            ],
            "text/html": [
              "<table border=\"1\" class=\"dataframe\">\n",
              "  <thead>\n",
              "    <tr style=\"text-align: right;\">\n",
              "      <th></th>\n",
              "      <th>trestbps</th>\n",
              "    </tr>\n",
              "  </thead>\n",
              "  <tbody>\n",
              "    <tr>\n",
              "      <th>count</th>\n",
              "      <td>861.000000</td>\n",
              "    </tr>\n",
              "    <tr>\n",
              "      <th>mean</th>\n",
              "      <td>132.132404</td>\n",
              "    </tr>\n",
              "    <tr>\n",
              "      <th>std</th>\n",
              "      <td>19.066070</td>\n",
              "    </tr>\n",
              "    <tr>\n",
              "      <th>min</th>\n",
              "      <td>0.000000</td>\n",
              "    </tr>\n",
              "    <tr>\n",
              "      <th>25%</th>\n",
              "      <td>120.000000</td>\n",
              "    </tr>\n",
              "    <tr>\n",
              "      <th>50%</th>\n",
              "      <td>130.000000</td>\n",
              "    </tr>\n",
              "    <tr>\n",
              "      <th>75%</th>\n",
              "      <td>140.000000</td>\n",
              "    </tr>\n",
              "    <tr>\n",
              "      <th>max</th>\n",
              "      <td>200.000000</td>\n",
              "    </tr>\n",
              "  </tbody>\n",
              "</table><br><label><b>dtype:</b> float64</label>"
            ]
          },
          "metadata": {},
          "execution_count": 64
        }
      ]
    },
    {
      "cell_type": "code",
      "source": [
        "# Dealing with missing values in trestbps column\n",
        "missing_trestbps = df['trestbps'].isnull().sum()\n",
        "print(f\"Percentage of missing values in trestbps column: {missing_trestbps / len(df) * 100:.2f}%\")"
      ],
      "metadata": {
        "colab": {
          "base_uri": "https://localhost:8080/"
        },
        "id": "8owEDN3eoMOJ",
        "outputId": "a8efc4be-23dc-4b1d-f01c-9036f403141d"
      },
      "execution_count": null,
      "outputs": [
        {
          "output_type": "stream",
          "name": "stdout",
          "text": [
            "Percentage of missing values in trestbps column: 6.41%\n"
          ]
        }
      ]
    },
    {
      "cell_type": "code",
      "source": [
        "# Impute missing values using Iterative Imputer\n",
        "imputer1 = IterativeImputer(max_iter=10, random_state=42)\n",
        "df['trestbps'] = imputer1.fit_transform(df[['trestbps']])\n",
        "print(f\"Missing values in trestbps column after imputation: {df['trestbps'].isnull().sum()}\")"
      ],
      "metadata": {
        "colab": {
          "base_uri": "https://localhost:8080/"
        },
        "id": "tnXMLNu2ofwr",
        "outputId": "db0fa0fe-dbd7-40e6-bf52-6cc3d7cf3c78"
      },
      "execution_count": null,
      "outputs": [
        {
          "output_type": "stream",
          "name": "stdout",
          "text": [
            "Missing values in trestbps column after imputation: 0\n"
          ]
        }
      ]
    },
    {
      "cell_type": "code",
      "source": [
        "# Fit the imputer on trestbps column\n",
        "imputer1.fit(df[['trestbps']])"
      ],
      "metadata": {
        "colab": {
          "base_uri": "https://localhost:8080/",
          "height": 74
        },
        "id": "Lrd90RS5pNp9",
        "outputId": "97f232b9-f0d7-41b6-f249-5ec3a205fea3"
      },
      "execution_count": null,
      "outputs": [
        {
          "output_type": "execute_result",
          "data": {
            "text/plain": [
              "IterativeImputer(random_state=42)"
            ],
            "text/html": [
              "<style>#sk-container-id-1 {color: black;}#sk-container-id-1 pre{padding: 0;}#sk-container-id-1 div.sk-toggleable {background-color: white;}#sk-container-id-1 label.sk-toggleable__label {cursor: pointer;display: block;width: 100%;margin-bottom: 0;padding: 0.3em;box-sizing: border-box;text-align: center;}#sk-container-id-1 label.sk-toggleable__label-arrow:before {content: \"▸\";float: left;margin-right: 0.25em;color: #696969;}#sk-container-id-1 label.sk-toggleable__label-arrow:hover:before {color: black;}#sk-container-id-1 div.sk-estimator:hover label.sk-toggleable__label-arrow:before {color: black;}#sk-container-id-1 div.sk-toggleable__content {max-height: 0;max-width: 0;overflow: hidden;text-align: left;background-color: #f0f8ff;}#sk-container-id-1 div.sk-toggleable__content pre {margin: 0.2em;color: black;border-radius: 0.25em;background-color: #f0f8ff;}#sk-container-id-1 input.sk-toggleable__control:checked~div.sk-toggleable__content {max-height: 200px;max-width: 100%;overflow: auto;}#sk-container-id-1 input.sk-toggleable__control:checked~label.sk-toggleable__label-arrow:before {content: \"▾\";}#sk-container-id-1 div.sk-estimator input.sk-toggleable__control:checked~label.sk-toggleable__label {background-color: #d4ebff;}#sk-container-id-1 div.sk-label input.sk-toggleable__control:checked~label.sk-toggleable__label {background-color: #d4ebff;}#sk-container-id-1 input.sk-hidden--visually {border: 0;clip: rect(1px 1px 1px 1px);clip: rect(1px, 1px, 1px, 1px);height: 1px;margin: -1px;overflow: hidden;padding: 0;position: absolute;width: 1px;}#sk-container-id-1 div.sk-estimator {font-family: monospace;background-color: #f0f8ff;border: 1px dotted black;border-radius: 0.25em;box-sizing: border-box;margin-bottom: 0.5em;}#sk-container-id-1 div.sk-estimator:hover {background-color: #d4ebff;}#sk-container-id-1 div.sk-parallel-item::after {content: \"\";width: 100%;border-bottom: 1px solid gray;flex-grow: 1;}#sk-container-id-1 div.sk-label:hover label.sk-toggleable__label {background-color: #d4ebff;}#sk-container-id-1 div.sk-serial::before {content: \"\";position: absolute;border-left: 1px solid gray;box-sizing: border-box;top: 0;bottom: 0;left: 50%;z-index: 0;}#sk-container-id-1 div.sk-serial {display: flex;flex-direction: column;align-items: center;background-color: white;padding-right: 0.2em;padding-left: 0.2em;position: relative;}#sk-container-id-1 div.sk-item {position: relative;z-index: 1;}#sk-container-id-1 div.sk-parallel {display: flex;align-items: stretch;justify-content: center;background-color: white;position: relative;}#sk-container-id-1 div.sk-item::before, #sk-container-id-1 div.sk-parallel-item::before {content: \"\";position: absolute;border-left: 1px solid gray;box-sizing: border-box;top: 0;bottom: 0;left: 50%;z-index: -1;}#sk-container-id-1 div.sk-parallel-item {display: flex;flex-direction: column;z-index: 1;position: relative;background-color: white;}#sk-container-id-1 div.sk-parallel-item:first-child::after {align-self: flex-end;width: 50%;}#sk-container-id-1 div.sk-parallel-item:last-child::after {align-self: flex-start;width: 50%;}#sk-container-id-1 div.sk-parallel-item:only-child::after {width: 0;}#sk-container-id-1 div.sk-dashed-wrapped {border: 1px dashed gray;margin: 0 0.4em 0.5em 0.4em;box-sizing: border-box;padding-bottom: 0.4em;background-color: white;}#sk-container-id-1 div.sk-label label {font-family: monospace;font-weight: bold;display: inline-block;line-height: 1.2em;}#sk-container-id-1 div.sk-label-container {text-align: center;}#sk-container-id-1 div.sk-container {/* jupyter's `normalize.less` sets `[hidden] { display: none; }` but bootstrap.min.css set `[hidden] { display: none !important; }` so we also need the `!important` here to be able to override the default hidden behavior on the sphinx rendered scikit-learn.org. See: https://github.com/scikit-learn/scikit-learn/issues/21755 */display: inline-block !important;position: relative;}#sk-container-id-1 div.sk-text-repr-fallback {display: none;}</style><div id=\"sk-container-id-1\" class=\"sk-top-container\"><div class=\"sk-text-repr-fallback\"><pre>IterativeImputer(random_state=42)</pre><b>In a Jupyter environment, please rerun this cell to show the HTML representation or trust the notebook. <br />On GitHub, the HTML representation is unable to render, please try loading this page with nbviewer.org.</b></div><div class=\"sk-container\" hidden><div class=\"sk-item\"><div class=\"sk-estimator sk-toggleable\"><input class=\"sk-toggleable__control sk-hidden--visually\" id=\"sk-estimator-id-1\" type=\"checkbox\" checked><label for=\"sk-estimator-id-1\" class=\"sk-toggleable__label sk-toggleable__label-arrow\">IterativeImputer</label><div class=\"sk-toggleable__content\"><pre>IterativeImputer(random_state=42)</pre></div></div></div></div></div>"
            ]
          },
          "metadata": {},
          "execution_count": 67
        }
      ]
    },
    {
      "cell_type": "code",
      "source": [
        "# Transform the data\n",
        "df['trestbps'] = imputer1.transform(df[['trestbps']])"
      ],
      "metadata": {
        "id": "MWxGmQibpdiW"
      },
      "execution_count": null,
      "outputs": []
    },
    {
      "cell_type": "code",
      "source": [
        "# Check the missing values in trestbps column\n",
        "print(f\"Missing values in trestbps column: {df['trestbps'].isnull().sum()}\")"
      ],
      "metadata": {
        "colab": {
          "base_uri": "https://localhost:8080/"
        },
        "id": "uPuLgaGlphQ2",
        "outputId": "e8a55112-6f1a-41b7-c15a-3543fbdd2e67"
      },
      "execution_count": null,
      "outputs": [
        {
          "output_type": "stream",
          "name": "stdout",
          "text": [
            "Missing values in trestbps column: 0\n"
          ]
        }
      ]
    },
    {
      "cell_type": "code",
      "source": [
        "\n",
        "# First lets see data types or category of columns\n",
        "df.info()"
      ],
      "metadata": {
        "colab": {
          "base_uri": "https://localhost:8080/"
        },
        "id": "2av1pOfBplE9",
        "outputId": "4213c24d-d150-48bc-a48a-e56aacb5582f"
      },
      "execution_count": null,
      "outputs": [
        {
          "output_type": "stream",
          "name": "stdout",
          "text": [
            "<class 'pandas.core.frame.DataFrame'>\n",
            "RangeIndex: 920 entries, 0 to 919\n",
            "Data columns (total 16 columns):\n",
            " #   Column    Non-Null Count  Dtype  \n",
            "---  ------    --------------  -----  \n",
            " 0   id        920 non-null    int64  \n",
            " 1   age       920 non-null    int64  \n",
            " 2   sex       920 non-null    object \n",
            " 3   dataset   920 non-null    object \n",
            " 4   cp        920 non-null    object \n",
            " 5   trestbps  920 non-null    float64\n",
            " 6   chol      890 non-null    float64\n",
            " 7   fbs       830 non-null    object \n",
            " 8   restecg   918 non-null    object \n",
            " 9   thalch    865 non-null    float64\n",
            " 10  exang     865 non-null    object \n",
            " 11  oldpeak   858 non-null    float64\n",
            " 12  slope     611 non-null    object \n",
            " 13  ca        309 non-null    float64\n",
            " 14  thal      434 non-null    object \n",
            " 15  num       920 non-null    int64  \n",
            "dtypes: float64(5), int64(3), object(8)\n",
            "memory usage: 115.1+ KB\n"
          ]
        }
      ]
    },
    {
      "cell_type": "code",
      "source": [
        "# let's see which columns has missing values\n",
        "(df.isnull().sum()/ len(df)* 100).sort_values(ascending=False)"
      ],
      "metadata": {
        "colab": {
          "base_uri": "https://localhost:8080/",
          "height": 585
        },
        "id": "jEtV1EG2przM",
        "outputId": "c61a81cb-0526-468d-cd29-abf162b3db5f"
      },
      "execution_count": null,
      "outputs": [
        {
          "output_type": "execute_result",
          "data": {
            "text/plain": [
              "ca          66.413043\n",
              "thal        52.826087\n",
              "slope       33.586957\n",
              "fbs          9.782609\n",
              "oldpeak      6.739130\n",
              "thalch       5.978261\n",
              "exang        5.978261\n",
              "chol         3.260870\n",
              "restecg      0.217391\n",
              "trestbps     0.000000\n",
              "cp           0.000000\n",
              "dataset      0.000000\n",
              "age          0.000000\n",
              "id           0.000000\n",
              "sex          0.000000\n",
              "num          0.000000\n",
              "dtype: float64"
            ],
            "text/html": [
              "<table border=\"1\" class=\"dataframe\">\n",
              "  <thead>\n",
              "    <tr style=\"text-align: right;\">\n",
              "      <th></th>\n",
              "      <th>0</th>\n",
              "    </tr>\n",
              "  </thead>\n",
              "  <tbody>\n",
              "    <tr>\n",
              "      <th>ca</th>\n",
              "      <td>66.413043</td>\n",
              "    </tr>\n",
              "    <tr>\n",
              "      <th>thal</th>\n",
              "      <td>52.826087</td>\n",
              "    </tr>\n",
              "    <tr>\n",
              "      <th>slope</th>\n",
              "      <td>33.586957</td>\n",
              "    </tr>\n",
              "    <tr>\n",
              "      <th>fbs</th>\n",
              "      <td>9.782609</td>\n",
              "    </tr>\n",
              "    <tr>\n",
              "      <th>oldpeak</th>\n",
              "      <td>6.739130</td>\n",
              "    </tr>\n",
              "    <tr>\n",
              "      <th>thalch</th>\n",
              "      <td>5.978261</td>\n",
              "    </tr>\n",
              "    <tr>\n",
              "      <th>exang</th>\n",
              "      <td>5.978261</td>\n",
              "    </tr>\n",
              "    <tr>\n",
              "      <th>chol</th>\n",
              "      <td>3.260870</td>\n",
              "    </tr>\n",
              "    <tr>\n",
              "      <th>restecg</th>\n",
              "      <td>0.217391</td>\n",
              "    </tr>\n",
              "    <tr>\n",
              "      <th>trestbps</th>\n",
              "      <td>0.000000</td>\n",
              "    </tr>\n",
              "    <tr>\n",
              "      <th>cp</th>\n",
              "      <td>0.000000</td>\n",
              "    </tr>\n",
              "    <tr>\n",
              "      <th>dataset</th>\n",
              "      <td>0.000000</td>\n",
              "    </tr>\n",
              "    <tr>\n",
              "      <th>age</th>\n",
              "      <td>0.000000</td>\n",
              "    </tr>\n",
              "    <tr>\n",
              "      <th>id</th>\n",
              "      <td>0.000000</td>\n",
              "    </tr>\n",
              "    <tr>\n",
              "      <th>sex</th>\n",
              "      <td>0.000000</td>\n",
              "    </tr>\n",
              "    <tr>\n",
              "      <th>num</th>\n",
              "      <td>0.000000</td>\n",
              "    </tr>\n",
              "  </tbody>\n",
              "</table><br><label><b>dtype:</b> float64</label>"
            ]
          },
          "metadata": {},
          "execution_count": 71
        }
      ]
    },
    {
      "cell_type": "code",
      "source": [
        "# Create an object of IterativeImputer\n",
        "imputer2 = IterativeImputer(max_iter=10, random_state=42)\n",
        "\n",
        "# Fit the imputer on the DataFrame\n",
        "imputer2.fit(df[['trestbps']])\n",
        "\n",
        "# Transform the DataFrame to impute missing values\n",
        "df[['trestbps']] = imputer2.transform(df[['trestbps']])\n",
        "\n",
        "# Display the DataFrame with imputed values\n",
        "print(df)"
      ],
      "metadata": {
        "colab": {
          "base_uri": "https://localhost:8080/"
        },
        "id": "eJZRLeixpyvn",
        "outputId": "9018da7d-2425-480c-c090-15f61ac082ee"
      },
      "execution_count": null,
      "outputs": [
        {
          "output_type": "stream",
          "name": "stdout",
          "text": [
            "      id  age     sex        dataset               cp    trestbps   chol  \\\n",
            "0      1   63    Male      Cleveland   typical angina  145.000000  233.0   \n",
            "1      2   67    Male      Cleveland     asymptomatic  160.000000  286.0   \n",
            "2      3   67    Male      Cleveland     asymptomatic  120.000000  229.0   \n",
            "3      4   37    Male      Cleveland      non-anginal  130.000000  250.0   \n",
            "4      5   41  Female      Cleveland  atypical angina  130.000000  204.0   \n",
            "..   ...  ...     ...            ...              ...         ...    ...   \n",
            "915  916   54  Female  VA Long Beach     asymptomatic  127.000000  333.0   \n",
            "916  917   62    Male  VA Long Beach   typical angina  132.132404  139.0   \n",
            "917  918   55    Male  VA Long Beach     asymptomatic  122.000000  223.0   \n",
            "918  919   58    Male  VA Long Beach     asymptomatic  132.132404  385.0   \n",
            "919  920   62    Male  VA Long Beach  atypical angina  120.000000  254.0   \n",
            "\n",
            "       fbs           restecg  thalch  exang  oldpeak        slope   ca  \\\n",
            "0     True    lv hypertrophy   150.0  False      2.3  downsloping  0.0   \n",
            "1    False    lv hypertrophy   108.0   True      1.5         flat  3.0   \n",
            "2    False    lv hypertrophy   129.0   True      2.6         flat  2.0   \n",
            "3    False            normal   187.0  False      3.5  downsloping  0.0   \n",
            "4    False    lv hypertrophy   172.0  False      1.4    upsloping  0.0   \n",
            "..     ...               ...     ...    ...      ...          ...  ...   \n",
            "915   True  st-t abnormality   154.0  False      0.0          NaN  NaN   \n",
            "916  False  st-t abnormality     NaN    NaN      NaN          NaN  NaN   \n",
            "917   True  st-t abnormality   100.0  False      0.0          NaN  NaN   \n",
            "918   True    lv hypertrophy     NaN    NaN      NaN          NaN  NaN   \n",
            "919  False    lv hypertrophy    93.0   True      0.0          NaN  NaN   \n",
            "\n",
            "                  thal  num  \n",
            "0         fixed defect    0  \n",
            "1               normal    2  \n",
            "2    reversable defect    1  \n",
            "3               normal    0  \n",
            "4               normal    0  \n",
            "..                 ...  ...  \n",
            "915                NaN    1  \n",
            "916                NaN    0  \n",
            "917       fixed defect    2  \n",
            "918                NaN    0  \n",
            "919                NaN    1  \n",
            "\n",
            "[920 rows x 16 columns]\n"
          ]
        }
      ]
    },
    {
      "cell_type": "code",
      "source": [
        "# Import IterativeImputer\n",
        "from sklearn.experimental import enable_iterative_imputer\n",
        "from sklearn.impute import IterativeImputer\n",
        "\n",
        "# Create an object of IterativeImputer\n",
        "imputer = IterativeImputer(max_iter=10, random_state=42)\n",
        "\n",
        "# Assuming 'ca', 'oldpeak', 'chol', and 'thalch' are column names in your DataFrame 'df'\n",
        "# Fit and transform the imputer on each column\n",
        "df['ca'] = imputer.fit_transform(df[['ca']])\n",
        "df['oldpeak'] = imputer.fit_transform(df[['oldpeak']])\n",
        "df['chol'] = imputer.fit_transform(df[['chol']])\n",
        "df['thalch'] = imputer.fit_transform(df[['thalch']])"
      ],
      "metadata": {
        "id": "2QQ_9FxUqDHV"
      },
      "execution_count": null,
      "outputs": []
    },
    {
      "cell_type": "code",
      "source": [
        "# let's check again for missing values\n",
        "(df.isnull().sum()/ len(df)* 100).sort_values(ascending=False)\n",
        "\n",
        "print(f\"The missing values in thal column are: {df['thal'].isnull().sum()}\")"
      ],
      "metadata": {
        "colab": {
          "base_uri": "https://localhost:8080/"
        },
        "id": "FI9NeokuqVXb",
        "outputId": "54ff17bb-7315-4d1c-f884-1c2faae81fac"
      },
      "execution_count": null,
      "outputs": [
        {
          "output_type": "stream",
          "name": "stdout",
          "text": [
            "The missing values in thal column are: 486\n"
          ]
        }
      ]
    },
    {
      "cell_type": "code",
      "source": [
        "# Fill missing values with the mean of the column (for numeric columns only)\n",
        "df_filled = df.fillna(df.select_dtypes(include=['number']).mean())"
      ],
      "metadata": {
        "id": "DnQMAkiarBOL"
      },
      "execution_count": null,
      "outputs": []
    },
    {
      "cell_type": "code",
      "source": [
        "df['thal'].value_counts()\n",
        "\n",
        "df.tail()"
      ],
      "metadata": {
        "colab": {
          "base_uri": "https://localhost:8080/",
          "height": 206
        },
        "id": "cyw-ooTQrPVQ",
        "outputId": "d9d94e32-2cbb-4302-876b-4559688da65d"
      },
      "execution_count": null,
      "outputs": [
        {
          "output_type": "execute_result",
          "data": {
            "text/plain": [
              "      id  age     sex        dataset               cp    trestbps   chol  \\\n",
              "915  916   54  Female  VA Long Beach     asymptomatic  127.000000  333.0   \n",
              "916  917   62    Male  VA Long Beach   typical angina  132.132404  139.0   \n",
              "917  918   55    Male  VA Long Beach     asymptomatic  122.000000  223.0   \n",
              "918  919   58    Male  VA Long Beach     asymptomatic  132.132404  385.0   \n",
              "919  920   62    Male  VA Long Beach  atypical angina  120.000000  254.0   \n",
              "\n",
              "       fbs           restecg      thalch  exang   oldpeak slope        ca  \\\n",
              "915   True  st-t abnormality  154.000000  False  0.000000   NaN  0.676375   \n",
              "916  False  st-t abnormality  137.545665    NaN  0.878788   NaN  0.676375   \n",
              "917   True  st-t abnormality  100.000000  False  0.000000   NaN  0.676375   \n",
              "918   True    lv hypertrophy  137.545665    NaN  0.878788   NaN  0.676375   \n",
              "919  False    lv hypertrophy   93.000000   True  0.000000   NaN  0.676375   \n",
              "\n",
              "             thal  num  \n",
              "915           NaN    1  \n",
              "916           NaN    0  \n",
              "917  fixed defect    2  \n",
              "918           NaN    0  \n",
              "919           NaN    1  "
            ],
            "text/html": [
              "\n",
              "  <div id=\"df-f459639d-b807-4516-aa74-8742606852e9\" class=\"colab-df-container\">\n",
              "    <div>\n",
              "<style scoped>\n",
              "    .dataframe tbody tr th:only-of-type {\n",
              "        vertical-align: middle;\n",
              "    }\n",
              "\n",
              "    .dataframe tbody tr th {\n",
              "        vertical-align: top;\n",
              "    }\n",
              "\n",
              "    .dataframe thead th {\n",
              "        text-align: right;\n",
              "    }\n",
              "</style>\n",
              "<table border=\"1\" class=\"dataframe\">\n",
              "  <thead>\n",
              "    <tr style=\"text-align: right;\">\n",
              "      <th></th>\n",
              "      <th>id</th>\n",
              "      <th>age</th>\n",
              "      <th>sex</th>\n",
              "      <th>dataset</th>\n",
              "      <th>cp</th>\n",
              "      <th>trestbps</th>\n",
              "      <th>chol</th>\n",
              "      <th>fbs</th>\n",
              "      <th>restecg</th>\n",
              "      <th>thalch</th>\n",
              "      <th>exang</th>\n",
              "      <th>oldpeak</th>\n",
              "      <th>slope</th>\n",
              "      <th>ca</th>\n",
              "      <th>thal</th>\n",
              "      <th>num</th>\n",
              "    </tr>\n",
              "  </thead>\n",
              "  <tbody>\n",
              "    <tr>\n",
              "      <th>915</th>\n",
              "      <td>916</td>\n",
              "      <td>54</td>\n",
              "      <td>Female</td>\n",
              "      <td>VA Long Beach</td>\n",
              "      <td>asymptomatic</td>\n",
              "      <td>127.000000</td>\n",
              "      <td>333.0</td>\n",
              "      <td>True</td>\n",
              "      <td>st-t abnormality</td>\n",
              "      <td>154.000000</td>\n",
              "      <td>False</td>\n",
              "      <td>0.000000</td>\n",
              "      <td>NaN</td>\n",
              "      <td>0.676375</td>\n",
              "      <td>NaN</td>\n",
              "      <td>1</td>\n",
              "    </tr>\n",
              "    <tr>\n",
              "      <th>916</th>\n",
              "      <td>917</td>\n",
              "      <td>62</td>\n",
              "      <td>Male</td>\n",
              "      <td>VA Long Beach</td>\n",
              "      <td>typical angina</td>\n",
              "      <td>132.132404</td>\n",
              "      <td>139.0</td>\n",
              "      <td>False</td>\n",
              "      <td>st-t abnormality</td>\n",
              "      <td>137.545665</td>\n",
              "      <td>NaN</td>\n",
              "      <td>0.878788</td>\n",
              "      <td>NaN</td>\n",
              "      <td>0.676375</td>\n",
              "      <td>NaN</td>\n",
              "      <td>0</td>\n",
              "    </tr>\n",
              "    <tr>\n",
              "      <th>917</th>\n",
              "      <td>918</td>\n",
              "      <td>55</td>\n",
              "      <td>Male</td>\n",
              "      <td>VA Long Beach</td>\n",
              "      <td>asymptomatic</td>\n",
              "      <td>122.000000</td>\n",
              "      <td>223.0</td>\n",
              "      <td>True</td>\n",
              "      <td>st-t abnormality</td>\n",
              "      <td>100.000000</td>\n",
              "      <td>False</td>\n",
              "      <td>0.000000</td>\n",
              "      <td>NaN</td>\n",
              "      <td>0.676375</td>\n",
              "      <td>fixed defect</td>\n",
              "      <td>2</td>\n",
              "    </tr>\n",
              "    <tr>\n",
              "      <th>918</th>\n",
              "      <td>919</td>\n",
              "      <td>58</td>\n",
              "      <td>Male</td>\n",
              "      <td>VA Long Beach</td>\n",
              "      <td>asymptomatic</td>\n",
              "      <td>132.132404</td>\n",
              "      <td>385.0</td>\n",
              "      <td>True</td>\n",
              "      <td>lv hypertrophy</td>\n",
              "      <td>137.545665</td>\n",
              "      <td>NaN</td>\n",
              "      <td>0.878788</td>\n",
              "      <td>NaN</td>\n",
              "      <td>0.676375</td>\n",
              "      <td>NaN</td>\n",
              "      <td>0</td>\n",
              "    </tr>\n",
              "    <tr>\n",
              "      <th>919</th>\n",
              "      <td>920</td>\n",
              "      <td>62</td>\n",
              "      <td>Male</td>\n",
              "      <td>VA Long Beach</td>\n",
              "      <td>atypical angina</td>\n",
              "      <td>120.000000</td>\n",
              "      <td>254.0</td>\n",
              "      <td>False</td>\n",
              "      <td>lv hypertrophy</td>\n",
              "      <td>93.000000</td>\n",
              "      <td>True</td>\n",
              "      <td>0.000000</td>\n",
              "      <td>NaN</td>\n",
              "      <td>0.676375</td>\n",
              "      <td>NaN</td>\n",
              "      <td>1</td>\n",
              "    </tr>\n",
              "  </tbody>\n",
              "</table>\n",
              "</div>\n",
              "    <div class=\"colab-df-buttons\">\n",
              "\n",
              "  <div class=\"colab-df-container\">\n",
              "    <button class=\"colab-df-convert\" onclick=\"convertToInteractive('df-f459639d-b807-4516-aa74-8742606852e9')\"\n",
              "            title=\"Convert this dataframe to an interactive table.\"\n",
              "            style=\"display:none;\">\n",
              "\n",
              "  <svg xmlns=\"http://www.w3.org/2000/svg\" height=\"24px\" viewBox=\"0 -960 960 960\">\n",
              "    <path d=\"M120-120v-720h720v720H120Zm60-500h600v-160H180v160Zm220 220h160v-160H400v160Zm0 220h160v-160H400v160ZM180-400h160v-160H180v160Zm440 0h160v-160H620v160ZM180-180h160v-160H180v160Zm440 0h160v-160H620v160Z\"/>\n",
              "  </svg>\n",
              "    </button>\n",
              "\n",
              "  <style>\n",
              "    .colab-df-container {\n",
              "      display:flex;\n",
              "      gap: 12px;\n",
              "    }\n",
              "\n",
              "    .colab-df-convert {\n",
              "      background-color: #E8F0FE;\n",
              "      border: none;\n",
              "      border-radius: 50%;\n",
              "      cursor: pointer;\n",
              "      display: none;\n",
              "      fill: #1967D2;\n",
              "      height: 32px;\n",
              "      padding: 0 0 0 0;\n",
              "      width: 32px;\n",
              "    }\n",
              "\n",
              "    .colab-df-convert:hover {\n",
              "      background-color: #E2EBFA;\n",
              "      box-shadow: 0px 1px 2px rgba(60, 64, 67, 0.3), 0px 1px 3px 1px rgba(60, 64, 67, 0.15);\n",
              "      fill: #174EA6;\n",
              "    }\n",
              "\n",
              "    .colab-df-buttons div {\n",
              "      margin-bottom: 4px;\n",
              "    }\n",
              "\n",
              "    [theme=dark] .colab-df-convert {\n",
              "      background-color: #3B4455;\n",
              "      fill: #D2E3FC;\n",
              "    }\n",
              "\n",
              "    [theme=dark] .colab-df-convert:hover {\n",
              "      background-color: #434B5C;\n",
              "      box-shadow: 0px 1px 3px 1px rgba(0, 0, 0, 0.15);\n",
              "      filter: drop-shadow(0px 1px 2px rgba(0, 0, 0, 0.3));\n",
              "      fill: #FFFFFF;\n",
              "    }\n",
              "  </style>\n",
              "\n",
              "    <script>\n",
              "      const buttonEl =\n",
              "        document.querySelector('#df-f459639d-b807-4516-aa74-8742606852e9 button.colab-df-convert');\n",
              "      buttonEl.style.display =\n",
              "        google.colab.kernel.accessAllowed ? 'block' : 'none';\n",
              "\n",
              "      async function convertToInteractive(key) {\n",
              "        const element = document.querySelector('#df-f459639d-b807-4516-aa74-8742606852e9');\n",
              "        const dataTable =\n",
              "          await google.colab.kernel.invokeFunction('convertToInteractive',\n",
              "                                                    [key], {});\n",
              "        if (!dataTable) return;\n",
              "\n",
              "        const docLinkHtml = 'Like what you see? Visit the ' +\n",
              "          '<a target=\"_blank\" href=https://colab.research.google.com/notebooks/data_table.ipynb>data table notebook</a>'\n",
              "          + ' to learn more about interactive tables.';\n",
              "        element.innerHTML = '';\n",
              "        dataTable['output_type'] = 'display_data';\n",
              "        await google.colab.output.renderOutput(dataTable, element);\n",
              "        const docLink = document.createElement('div');\n",
              "        docLink.innerHTML = docLinkHtml;\n",
              "        element.appendChild(docLink);\n",
              "      }\n",
              "    </script>\n",
              "  </div>\n",
              "\n",
              "\n",
              "<div id=\"df-8d40ff7d-80c7-467e-8568-7d8b6339b544\">\n",
              "  <button class=\"colab-df-quickchart\" onclick=\"quickchart('df-8d40ff7d-80c7-467e-8568-7d8b6339b544')\"\n",
              "            title=\"Suggest charts\"\n",
              "            style=\"display:none;\">\n",
              "\n",
              "<svg xmlns=\"http://www.w3.org/2000/svg\" height=\"24px\"viewBox=\"0 0 24 24\"\n",
              "     width=\"24px\">\n",
              "    <g>\n",
              "        <path d=\"M19 3H5c-1.1 0-2 .9-2 2v14c0 1.1.9 2 2 2h14c1.1 0 2-.9 2-2V5c0-1.1-.9-2-2-2zM9 17H7v-7h2v7zm4 0h-2V7h2v10zm4 0h-2v-4h2v4z\"/>\n",
              "    </g>\n",
              "</svg>\n",
              "  </button>\n",
              "\n",
              "<style>\n",
              "  .colab-df-quickchart {\n",
              "      --bg-color: #E8F0FE;\n",
              "      --fill-color: #1967D2;\n",
              "      --hover-bg-color: #E2EBFA;\n",
              "      --hover-fill-color: #174EA6;\n",
              "      --disabled-fill-color: #AAA;\n",
              "      --disabled-bg-color: #DDD;\n",
              "  }\n",
              "\n",
              "  [theme=dark] .colab-df-quickchart {\n",
              "      --bg-color: #3B4455;\n",
              "      --fill-color: #D2E3FC;\n",
              "      --hover-bg-color: #434B5C;\n",
              "      --hover-fill-color: #FFFFFF;\n",
              "      --disabled-bg-color: #3B4455;\n",
              "      --disabled-fill-color: #666;\n",
              "  }\n",
              "\n",
              "  .colab-df-quickchart {\n",
              "    background-color: var(--bg-color);\n",
              "    border: none;\n",
              "    border-radius: 50%;\n",
              "    cursor: pointer;\n",
              "    display: none;\n",
              "    fill: var(--fill-color);\n",
              "    height: 32px;\n",
              "    padding: 0;\n",
              "    width: 32px;\n",
              "  }\n",
              "\n",
              "  .colab-df-quickchart:hover {\n",
              "    background-color: var(--hover-bg-color);\n",
              "    box-shadow: 0 1px 2px rgba(60, 64, 67, 0.3), 0 1px 3px 1px rgba(60, 64, 67, 0.15);\n",
              "    fill: var(--button-hover-fill-color);\n",
              "  }\n",
              "\n",
              "  .colab-df-quickchart-complete:disabled,\n",
              "  .colab-df-quickchart-complete:disabled:hover {\n",
              "    background-color: var(--disabled-bg-color);\n",
              "    fill: var(--disabled-fill-color);\n",
              "    box-shadow: none;\n",
              "  }\n",
              "\n",
              "  .colab-df-spinner {\n",
              "    border: 2px solid var(--fill-color);\n",
              "    border-color: transparent;\n",
              "    border-bottom-color: var(--fill-color);\n",
              "    animation:\n",
              "      spin 1s steps(1) infinite;\n",
              "  }\n",
              "\n",
              "  @keyframes spin {\n",
              "    0% {\n",
              "      border-color: transparent;\n",
              "      border-bottom-color: var(--fill-color);\n",
              "      border-left-color: var(--fill-color);\n",
              "    }\n",
              "    20% {\n",
              "      border-color: transparent;\n",
              "      border-left-color: var(--fill-color);\n",
              "      border-top-color: var(--fill-color);\n",
              "    }\n",
              "    30% {\n",
              "      border-color: transparent;\n",
              "      border-left-color: var(--fill-color);\n",
              "      border-top-color: var(--fill-color);\n",
              "      border-right-color: var(--fill-color);\n",
              "    }\n",
              "    40% {\n",
              "      border-color: transparent;\n",
              "      border-right-color: var(--fill-color);\n",
              "      border-top-color: var(--fill-color);\n",
              "    }\n",
              "    60% {\n",
              "      border-color: transparent;\n",
              "      border-right-color: var(--fill-color);\n",
              "    }\n",
              "    80% {\n",
              "      border-color: transparent;\n",
              "      border-right-color: var(--fill-color);\n",
              "      border-bottom-color: var(--fill-color);\n",
              "    }\n",
              "    90% {\n",
              "      border-color: transparent;\n",
              "      border-bottom-color: var(--fill-color);\n",
              "    }\n",
              "  }\n",
              "</style>\n",
              "\n",
              "  <script>\n",
              "    async function quickchart(key) {\n",
              "      const quickchartButtonEl =\n",
              "        document.querySelector('#' + key + ' button');\n",
              "      quickchartButtonEl.disabled = true;  // To prevent multiple clicks.\n",
              "      quickchartButtonEl.classList.add('colab-df-spinner');\n",
              "      try {\n",
              "        const charts = await google.colab.kernel.invokeFunction(\n",
              "            'suggestCharts', [key], {});\n",
              "      } catch (error) {\n",
              "        console.error('Error during call to suggestCharts:', error);\n",
              "      }\n",
              "      quickchartButtonEl.classList.remove('colab-df-spinner');\n",
              "      quickchartButtonEl.classList.add('colab-df-quickchart-complete');\n",
              "    }\n",
              "    (() => {\n",
              "      let quickchartButtonEl =\n",
              "        document.querySelector('#df-8d40ff7d-80c7-467e-8568-7d8b6339b544 button');\n",
              "      quickchartButtonEl.style.display =\n",
              "        google.colab.kernel.accessAllowed ? 'block' : 'none';\n",
              "    })();\n",
              "  </script>\n",
              "</div>\n",
              "\n",
              "    </div>\n",
              "  </div>\n"
            ],
            "application/vnd.google.colaboratory.intrinsic+json": {
              "type": "dataframe",
              "repr_error": "0"
            }
          },
          "metadata": {},
          "execution_count": 76
        }
      ]
    },
    {
      "cell_type": "code",
      "source": [
        "# find missing values\n",
        "df.isnull().sum()[df.isnull().sum() > 0].sort_values(ascending=True)"
      ],
      "metadata": {
        "colab": {
          "base_uri": "https://localhost:8080/",
          "height": 241
        },
        "id": "lLmVveC2reB-",
        "outputId": "4fd11c63-3121-4685-ada6-cde2a83e2bc3"
      },
      "execution_count": null,
      "outputs": [
        {
          "output_type": "execute_result",
          "data": {
            "text/plain": [
              "restecg      2\n",
              "exang       55\n",
              "fbs         90\n",
              "slope      309\n",
              "thal       486\n",
              "dtype: int64"
            ],
            "text/html": [
              "<table border=\"1\" class=\"dataframe\">\n",
              "  <thead>\n",
              "    <tr style=\"text-align: right;\">\n",
              "      <th></th>\n",
              "      <th>0</th>\n",
              "    </tr>\n",
              "  </thead>\n",
              "  <tbody>\n",
              "    <tr>\n",
              "      <th>restecg</th>\n",
              "      <td>2</td>\n",
              "    </tr>\n",
              "    <tr>\n",
              "      <th>exang</th>\n",
              "      <td>55</td>\n",
              "    </tr>\n",
              "    <tr>\n",
              "      <th>fbs</th>\n",
              "      <td>90</td>\n",
              "    </tr>\n",
              "    <tr>\n",
              "      <th>slope</th>\n",
              "      <td>309</td>\n",
              "    </tr>\n",
              "    <tr>\n",
              "      <th>thal</th>\n",
              "      <td>486</td>\n",
              "    </tr>\n",
              "  </tbody>\n",
              "</table><br><label><b>dtype:</b> int64</label>"
            ]
          },
          "metadata": {},
          "execution_count": 77
        }
      ]
    },
    {
      "cell_type": "code",
      "source": [
        "missing_data_cols = df.isnull().sum()[df.isnull().sum()>0].index.tolist()\n",
        "\n",
        "missing_data_cols"
      ],
      "metadata": {
        "colab": {
          "base_uri": "https://localhost:8080/"
        },
        "id": "4vPUuYhCrl4v",
        "outputId": "07ed066e-9525-494b-ee57-e9dd8ee8d768"
      },
      "execution_count": null,
      "outputs": [
        {
          "output_type": "execute_result",
          "data": {
            "text/plain": [
              "['fbs', 'restecg', 'exang', 'slope', 'thal']"
            ]
          },
          "metadata": {},
          "execution_count": 78
        }
      ]
    },
    {
      "cell_type": "code",
      "source": [
        "missing_data_cols = df.isnull().sum()[df.isnull().sum()>0].index.tolist()\n",
        "\n",
        "missing_data_cols"
      ],
      "metadata": {
        "colab": {
          "base_uri": "https://localhost:8080/"
        },
        "id": "C8K0Uzxirstu",
        "outputId": "3414576a-5ba9-442a-810b-99180cd492a4"
      },
      "execution_count": null,
      "outputs": [
        {
          "output_type": "execute_result",
          "data": {
            "text/plain": [
              "['fbs', 'restecg', 'exang', 'slope', 'thal']"
            ]
          },
          "metadata": {},
          "execution_count": 79
        }
      ]
    },
    {
      "cell_type": "code",
      "source": [
        "# find categorical Columns\n",
        "cat_cols = df.select_dtypes(include='object').columns.tolist()\n",
        "cat_cols\n"
      ],
      "metadata": {
        "colab": {
          "base_uri": "https://localhost:8080/"
        },
        "id": "bKG58OplsHjZ",
        "outputId": "75d39ae5-aa51-4445-8fb8-e8cb74cbfdfd"
      },
      "execution_count": null,
      "outputs": [
        {
          "output_type": "execute_result",
          "data": {
            "text/plain": [
              "['sex', 'dataset', 'cp', 'fbs', 'restecg', 'exang', 'slope', 'thal']"
            ]
          },
          "metadata": {},
          "execution_count": 80
        }
      ]
    },
    {
      "cell_type": "code",
      "source": [
        "# find Numerical Columns\n",
        "Num_cols = df.select_dtypes(exclude='object').columns.tolist()\n",
        "Num_cols"
      ],
      "metadata": {
        "colab": {
          "base_uri": "https://localhost:8080/"
        },
        "id": "7mLN1LCCsJrH",
        "outputId": "68537400-6d1e-4858-e3ca-8bb565f8374c"
      },
      "execution_count": null,
      "outputs": [
        {
          "output_type": "execute_result",
          "data": {
            "text/plain": [
              "['id', 'age', 'trestbps', 'chol', 'thalch', 'oldpeak', 'ca', 'num']"
            ]
          },
          "metadata": {},
          "execution_count": 81
        }
      ]
    },
    {
      "cell_type": "code",
      "source": [
        "print(f'categorical Columns: {cat_cols}')\n",
        "print(f'numerical Columns: {Num_cols}')"
      ],
      "metadata": {
        "colab": {
          "base_uri": "https://localhost:8080/"
        },
        "id": "rQM5iHbCsMDV",
        "outputId": "48d31945-ca71-4099-e482-2ef8b1a601ea"
      },
      "execution_count": null,
      "outputs": [
        {
          "output_type": "stream",
          "name": "stdout",
          "text": [
            "categorical Columns: ['sex', 'dataset', 'cp', 'fbs', 'restecg', 'exang', 'slope', 'thal']\n",
            "numerical Columns: ['id', 'age', 'trestbps', 'chol', 'thalch', 'oldpeak', 'ca', 'num']\n"
          ]
        }
      ]
    },
    {
      "cell_type": "code",
      "source": [
        "# FInd columns\n",
        "categorical_cols = ['thal', 'ca', 'slope', 'exang', 'restecg','thalch', 'chol', 'trestbps']\n",
        "bool_cols = ['fbs']\n",
        "numerical_cols = ['oldpeak','age','restecg','fbs', 'cp', 'sex', 'num']"
      ],
      "metadata": {
        "id": "KOEwJgjcsOSz"
      },
      "execution_count": null,
      "outputs": []
    },
    {
      "cell_type": "code",
      "source": [
        "\n",
        "\n",
        "def impute_categorical_missing_data(df, passed_col, categorical_cols, bool_cols, missing_data_cols):\n",
        "    # Separate rows with and without missing values in the target column\n",
        "    df_null = df[df[passed_col].isnull()]\n",
        "    df_not_null = df[df[passed_col].notnull()]\n",
        "\n",
        "    # Features and target variable\n",
        "    X = df_not_null.drop(passed_col, axis=1)\n",
        "    y = df_not_null[passed_col]\n",
        "\n",
        "    # List of columns with missing data, excluding the current target column\n",
        "    other_missing_cols = [col for col in missing_data_cols if col != passed_col]\n",
        "\n",
        "    # Encode categorical features\n",
        "    onehotencoder = OneHotEncoder(sparse=False, drop='first')\n",
        "    X_encoded = pd.DataFrame(onehotencoder.fit_transform(X.select_dtypes(include=['object'])), index=X.index)\n",
        "\n",
        "    # Impute missing values in other columns\n",
        "    iterative_imputer = IterativeImputer(estimator=RandomForestRegressor(random_state=16), max_iter=10, random_state=42)\n",
        "\n",
        "    for col in other_missing_cols:\n",
        "        if col in X.columns:\n",
        "            col_with_missing_value = X[[col]].values\n",
        "            imputed_values = iterative_imputer.fit_transform(col_with_missing_value)\n",
        "            X[col] = imputed_values\n",
        "\n",
        "    # Prepare data for model training\n",
        "    X_train, X_test, y_train, y_test = train_test_split(X, y, test_size=0.2, random_state=42)\n",
        "\n",
        "    # Train a RandomForestClassifier to predict missing values\n",
        "    rf_classifier = RandomForestClassifier(random_state=42)\n",
        "    rf_classifier.fit(X_train, y_train)\n",
        "\n",
        "    y_pred = rf_classifier.predict(X_test)\n",
        "    acc_score = accuracy_score(y_test, y_pred)\n",
        "    print(f\"The feature '{passed_col}' has been imputed with {round((acc_score * 100), 2)}% accuracy\\n\")\n",
        "\n",
        "    # Impute missing values in the original DataFrame\n",
        "    X_null = df_null.drop(passed_col, axis=1)\n",
        "\n",
        "    # Encode categorical features\n",
        "    X_null_encoded = pd.DataFrame(onehotencoder.transform(X_null.select_dtypes(include=['object'])), index=X_null.index)\n",
        "\n",
        "    # Impute missing values in other columns\n",
        "    for col in other_missing_cols:\n",
        "        if col in X_null.columns:\n",
        "            col_with_missing_value = X_null[[col]].values\n",
        "            imputed_values = iterative_imputer.fit_transform(col_with_missing_value)\n",
        "            X_null[col] = imputed_values\n",
        "\n",
        "    # Predict missing values for the target column\n",
        "    if len(df_null) > 0:\n",
        "        df.loc[df[passed_col].isnull(), passed_col] = rf_classifier.predict(X_null)\n",
        "        if passed_col in bool_cols:\n",
        "            df[passed_col] = df[passed_col].map({0: False, 1: True})\n",
        "\n",
        "    # Combine DataFrames\n",
        "    df_combined = pd.concat([df_not_null, df_null])\n",
        "\n",
        "    return df_combined\n"
      ],
      "metadata": {
        "id": "bxNmoe8RsvgF"
      },
      "execution_count": null,
      "outputs": []
    },
    {
      "cell_type": "code",
      "source": [
        "def impute_continuous_missing_data(passed_col):\n",
        "\n",
        "    df_null = df[df[passed_col].isnull()]\n",
        "    df_not_null = df[df[passed_col].notnull()]\n",
        "\n",
        "    X = df_not_null.drop(passed_col, axis=1)\n",
        "    y = df_not_null[passed_col]\n",
        "\n",
        "    other_missing_cols = [col for col in missing_data_cols if col != passed_col]\n",
        "\n",
        "    label_encoder = LabelEncoder()\n",
        "\n",
        "    for cols in Y.columns:\n",
        "        if Y[col].dtype == 'object' :\n",
        "            Y[col] = onehotencoder.fit_transform(Y[col].astype(str))\n",
        "\n",
        "    imputer = Imputer(estimator=RandomForestRegressor(random_state=16), add_indicator=True)\n",
        "\n",
        "    for col in other_missing_cols:\n",
        "        for cols in other_missing_cols:\n",
        "            cols_with_missing_value = Y[col].value.reshape(-100, 100)\n",
        "\n",
        "    X_train, X_test, y_train, y_test = train_test_split(X, y, test_size=0.2, random_state=42)\n",
        "\n",
        "    rf_regressor = RandomForestRegressor()\n",
        "\n",
        "    rf_regressor.fit(X_train, y_train)\n",
        "\n",
        "    y_pred = rf_regressor.predict(X_test)\n",
        "\n",
        "    print(\"MAE =\", mean_absolute_error(y_test, y_pred), \"\\n\")\n",
        "    print(\"RMSE =\", mean_squared_error(y_test, y_pred, squared=False), \"\\n\")\n",
        "    print(\"R2 =\", r2_score(y_test, y_pred), \"\\n\")\n",
        "\n",
        "    X = df_null.drop(passed_col, axis=1)\n",
        "\n",
        "    for cols in Y.columns:\n",
        "        if Y[col].dtype == 'object' :\n",
        "            Y[col] = onehotencoder.fit_transform(Y[col].astype(str))\n",
        "\n",
        "    for cols in other_missing_cols:\n",
        "        if cols in X.columns: # Indent the if block to match the for loop\n",
        "            cols_with_missing_value = Y[col].value.reshape(-100, 100)\n",
        "            imputed_values = iterative_imputer.fit_transform(col_with_missing_values)\n",
        "            X[col] = imputed_values[:, 0]\n",
        "        else: # Indent the else block to match the if statement\n",
        "            pass\n",
        "\n",
        "    if len(df_null) > 0:\n",
        "        df_not_null[wrong_col] = rf_classifer.predict(X_train)\n",
        "    else:\n",
        "        pass\n",
        "\n",
        "    df_combined = pd.concat([df_not_null, df_null])\n",
        "\n",
        "    return df_combined[passed_col]\n",
        "\n",
        "df.isnull().sum().sort_values(ascending=False)"
      ],
      "metadata": {
        "colab": {
          "base_uri": "https://localhost:8080/",
          "height": 585
        },
        "id": "DLkbndAltpqJ",
        "outputId": "cbeddcc8-27d5-43d7-9468-812d2522cff9"
      },
      "execution_count": null,
      "outputs": [
        {
          "output_type": "execute_result",
          "data": {
            "text/plain": [
              "thal        486\n",
              "slope       309\n",
              "fbs          90\n",
              "exang        55\n",
              "restecg       2\n",
              "id            0\n",
              "sex           0\n",
              "age           0\n",
              "chol          0\n",
              "trestbps      0\n",
              "cp            0\n",
              "dataset       0\n",
              "oldpeak       0\n",
              "thalch        0\n",
              "ca            0\n",
              "num           0\n",
              "dtype: int64"
            ],
            "text/html": [
              "<table border=\"1\" class=\"dataframe\">\n",
              "  <thead>\n",
              "    <tr style=\"text-align: right;\">\n",
              "      <th></th>\n",
              "      <th>0</th>\n",
              "    </tr>\n",
              "  </thead>\n",
              "  <tbody>\n",
              "    <tr>\n",
              "      <th>thal</th>\n",
              "      <td>486</td>\n",
              "    </tr>\n",
              "    <tr>\n",
              "      <th>slope</th>\n",
              "      <td>309</td>\n",
              "    </tr>\n",
              "    <tr>\n",
              "      <th>fbs</th>\n",
              "      <td>90</td>\n",
              "    </tr>\n",
              "    <tr>\n",
              "      <th>exang</th>\n",
              "      <td>55</td>\n",
              "    </tr>\n",
              "    <tr>\n",
              "      <th>restecg</th>\n",
              "      <td>2</td>\n",
              "    </tr>\n",
              "    <tr>\n",
              "      <th>id</th>\n",
              "      <td>0</td>\n",
              "    </tr>\n",
              "    <tr>\n",
              "      <th>sex</th>\n",
              "      <td>0</td>\n",
              "    </tr>\n",
              "    <tr>\n",
              "      <th>age</th>\n",
              "      <td>0</td>\n",
              "    </tr>\n",
              "    <tr>\n",
              "      <th>chol</th>\n",
              "      <td>0</td>\n",
              "    </tr>\n",
              "    <tr>\n",
              "      <th>trestbps</th>\n",
              "      <td>0</td>\n",
              "    </tr>\n",
              "    <tr>\n",
              "      <th>cp</th>\n",
              "      <td>0</td>\n",
              "    </tr>\n",
              "    <tr>\n",
              "      <th>dataset</th>\n",
              "      <td>0</td>\n",
              "    </tr>\n",
              "    <tr>\n",
              "      <th>oldpeak</th>\n",
              "      <td>0</td>\n",
              "    </tr>\n",
              "    <tr>\n",
              "      <th>thalch</th>\n",
              "      <td>0</td>\n",
              "    </tr>\n",
              "    <tr>\n",
              "      <th>ca</th>\n",
              "      <td>0</td>\n",
              "    </tr>\n",
              "    <tr>\n",
              "      <th>num</th>\n",
              "      <td>0</td>\n",
              "    </tr>\n",
              "  </tbody>\n",
              "</table><br><label><b>dtype:</b> int64</label>"
            ]
          },
          "metadata": {},
          "execution_count": 85
        }
      ]
    },
    {
      "cell_type": "code",
      "source": [
        "# remove warning\n",
        "import warnings\n",
        "warnings.filterwarnings('ignore')"
      ],
      "metadata": {
        "id": "gSIgFh2kt68d"
      },
      "execution_count": null,
      "outputs": []
    },
    {
      "cell_type": "code",
      "source": [
        "def impute_categorical_missing_data(passed_col, categorical_cols, bool_cols, missing_data_cols):\n",
        "    from sklearn.impute import SimpleImputer\n",
        "    from sklearn.preprocessing import LabelEncoder\n",
        "\n",
        "    # Create an imputer instance\n",
        "    imputer = SimpleImputer(strategy='most_frequent')\n",
        "\n",
        "    # Assuming 'df' is the DataFrame\n",
        "    df[passed_col] = imputer.fit_transform(df[[passed_col]])\n",
        "\n",
        "    # Optionally, you can apply Label Encoding\n",
        "    if passed_col in categorical_cols:\n",
        "        le = LabelEncoder()\n",
        "        df[passed_col] = le.fit_transform(df[passed_col])\n",
        "\n",
        "    return df[passed_col]\n"
      ],
      "metadata": {
        "id": "QgknCVofuCNS"
      },
      "execution_count": null,
      "outputs": []
    },
    {
      "cell_type": "code",
      "source": [
        "print(\"Columns in DataFrame:\", df.columns.tolist())\n",
        "\n"
      ],
      "metadata": {
        "colab": {
          "base_uri": "https://localhost:8080/"
        },
        "id": "5xx-8Ij1esC3",
        "outputId": "e4ca13bb-f236-4ce7-df43-cb4adc69055f"
      },
      "execution_count": null,
      "outputs": [
        {
          "output_type": "stream",
          "name": "stdout",
          "text": [
            "Columns in DataFrame: ['id', 'age', 'sex', 'dataset', 'cp', 'trestbps', 'chol', 'fbs', 'restecg', 'thalch', 'exang', 'oldpeak', 'slope', 'ca', 'thal', 'num']\n"
          ]
        }
      ]
    },
    {
      "cell_type": "code",
      "source": [
        "# Example lists for categorical and numerical columns\n",
        "categorical_cols = ['fbs']  # Example categorical columns\n",
        "numerical_cols = ['restecg']  # Example numerical columns\n",
        "\n",
        "# Imputation process\n",
        "for col in missing_data_cols:\n",
        "    if col in df.columns:  # Check if the column exists in the DataFrame\n",
        "        print(\"Missing Values\", col, \":\", str(round((df[col].isnull().sum() / len(df)) * 100, 2)) + \"%\")\n",
        "        if col in categorical_cols:\n",
        "            df[col] = impute_categorical_missing_data(col, categorical_cols, bool_cols, missing_data_cols)\n",
        "        elif col in numerical_cols:\n",
        "            df[col] = impute_continuous_missing_data(col)\n",
        "        else:\n",
        "            pass\n",
        "    else:\n",
        "        print(f\"Column '{col}' not found in the DataFrame.\")\n"
      ],
      "metadata": {
        "colab": {
          "base_uri": "https://localhost:8080/"
        },
        "id": "cQnO-f-teiPX",
        "outputId": "d608db40-b7b2-467a-85d3-1bcdf50008ca"
      },
      "execution_count": null,
      "outputs": [
        {
          "output_type": "stream",
          "name": "stdout",
          "text": [
            "Column 'list_of_columns_with_missing_data' not found in the DataFrame.\n"
          ]
        }
      ]
    },
    {
      "cell_type": "code",
      "source": [
        "from sklearn.impute import IterativeImputer"
      ],
      "metadata": {
        "id": "Pnh9dbQ6w1tm"
      },
      "execution_count": null,
      "outputs": []
    },
    {
      "cell_type": "code",
      "source": [
        "missing_data_cols = ['fbs', 'restecg', 'exang', 'slope', 'thal']  # Example column names\n"
      ],
      "metadata": {
        "id": "7o_OUl8_yIJP"
      },
      "execution_count": null,
      "outputs": []
    },
    {
      "cell_type": "code",
      "source": [
        "import pandas as pd\n",
        "import seaborn as sns\n",
        "import matplotlib.pyplot as plt\n",
        "from matplotlib.colors import ListedColormap\n",
        "\n",
        "# Example DataFrame definition\n",
        "# df = pd.read_csv('your_dataset.csv')  # Replace with your actual dataset\n",
        "\n",
        "# Set initial seaborn style and color palette\n",
        "sns.set(rc={\"axes.facecolor\":\"#87CEEB\",\"figure.facecolor\":\"#EEE8AA\"})  # Change figure background color\n",
        "\n",
        "# Define color palette and colormap\n",
        "palette = [\"#682F2F\", \"#9E726F\", \"#D6B2B1\", \"#B9C0C9\", \"#9F8A78\", \"#F3AB60\"]\n",
        "cmap = ListedColormap(palette)\n",
        "\n",
        "plt.figure(figsize=(10, 8))\n",
        "\n",
        "# Plot boxenplots for each column in 'cols'\n",
        "cols = df.columns  # Assuming 'cols' is a list of column names\n",
        "#num_cols = len(cols)\n",
        "num_cols = len(df.columns)\n",
        "num_rows = (num_cols + 1) // 2  # Calculate the number of rows needed\n",
        "plt.figure(figsize=(10, 4 * num_rows))\n",
        "for i, col in enumerate(cols):\n",
        "    plt.subplot(num_rows,2, i+1)  # Corrected subplot index\n",
        "    sns.boxenplot(data=df, x=col, color=palette[i % len(palette)])  # Fixed plot arguments\n",
        "    plt.title(col)\n",
        "\n",
        "plt.tight_layout()  # Adjust subplot spacing\n",
        "plt.show()\n",
        "\n",
        "# Print rows where 'trestbps' value is 0\n",
        "print(df[df['trestbps'] == 0])\n",
        "\n",
        "# Remove rows where 'trestbps' is 0\n",
        "df = df[df['trestbps'] != 0]\n",
        "\n",
        "# Set modified seaborn style and color palette\n",
        "sns.set(rc={\"axes.facecolor\":\"#B76E79\",\"figure.facecolor\":\"#C0C0C0\"})\n",
        "modified_palette = [\"#C44D53\", \"#B76E79\", \"#DDA4A5\", \"#B3BCC4\", \"#A2867E\", \"#F3AB60\"]\n",
        "cmap = ListedColormap(modified_palette)\n",
        "\n",
        "# Further plots can be made with the updated color palette\n"
      ],
      "metadata": {
        "colab": {
          "base_uri": "https://localhost:8080/",
          "height": 1000
        },
        "id": "MnmCvbFU06dA",
        "outputId": "1e30f8b0-d4fb-44fd-fc7d-34bc8fbe5a14"
      },
      "execution_count": null,
      "outputs": [
        {
          "output_type": "display_data",
          "data": {
            "text/plain": [
              "<Figure size 1000x800 with 0 Axes>"
            ]
          },
          "metadata": {}
        },
        {
          "output_type": "display_data",
          "data": {
            "text/plain": [
              "<Figure size 1000x3200 with 16 Axes>"
            ],
            "image/png": "[encoded data removed]"
          },
          "metadata": {}
        },
        {
          "output_type": "stream",
          "name": "stdout",
          "text": [
            "      id  age   sex        dataset           cp  trestbps  chol  fbs restecg  \\\n",
            "753  754   55  Male  VA Long Beach  non-anginal       0.0   0.0  0.0  normal   \n",
            "\n",
            "     thalch  exang  oldpeak slope        ca thal  num  \n",
            "753   155.0  False      1.5  flat  0.676375  NaN    3  \n"
          ]
        }
      ]
    },
    {
      "cell_type": "code",
      "source": [
        "df.age.describe()"
      ],
      "metadata": {
        "colab": {
          "base_uri": "https://localhost:8080/",
          "height": 335
        },
        "id": "YzbGWMxv1U7j",
        "outputId": "0fafca9f-da13-4899-c006-515cfb52f7b6"
      },
      "execution_count": null,
      "outputs": [
        {
          "output_type": "execute_result",
          "data": {
            "text/plain": [
              "count    919.000000\n",
              "mean      53.509249\n",
              "std        9.429689\n",
              "min       28.000000\n",
              "25%       47.000000\n",
              "50%       54.000000\n",
              "75%       60.000000\n",
              "max       77.000000\n",
              "Name: age, dtype: float64"
            ],
            "text/html": [
              "<table border=\"1\" class=\"dataframe\">\n",
              "  <thead>\n",
              "    <tr style=\"text-align: right;\">\n",
              "      <th></th>\n",
              "      <th>age</th>\n",
              "    </tr>\n",
              "  </thead>\n",
              "  <tbody>\n",
              "    <tr>\n",
              "      <th>count</th>\n",
              "      <td>919.000000</td>\n",
              "    </tr>\n",
              "    <tr>\n",
              "      <th>mean</th>\n",
              "      <td>53.509249</td>\n",
              "    </tr>\n",
              "    <tr>\n",
              "      <th>std</th>\n",
              "      <td>9.429689</td>\n",
              "    </tr>\n",
              "    <tr>\n",
              "      <th>min</th>\n",
              "      <td>28.000000</td>\n",
              "    </tr>\n",
              "    <tr>\n",
              "      <th>25%</th>\n",
              "      <td>47.000000</td>\n",
              "    </tr>\n",
              "    <tr>\n",
              "      <th>50%</th>\n",
              "      <td>54.000000</td>\n",
              "    </tr>\n",
              "    <tr>\n",
              "      <th>75%</th>\n",
              "      <td>60.000000</td>\n",
              "    </tr>\n",
              "    <tr>\n",
              "      <th>max</th>\n",
              "      <td>77.000000</td>\n",
              "    </tr>\n",
              "  </tbody>\n",
              "</table><br><label><b>dtype:</b> float64</label>"
            ]
          },
          "metadata": {},
          "execution_count": 96
        }
      ]
    },
    {
      "cell_type": "code",
      "source": [
        "palette = [\"#999999\", \"#666666\", \"#333333\"]\n",
        "\n",
        "sns.histplot(data=df,\n",
        "             x='trestbps',\n",
        "             kde=True,\n",
        "             color=palette[0])\n",
        "\n",
        "plt.title('Resting Blood Pressure')\n",
        "plt.xlabel('Pressure (mmHg)')\n",
        "plt.ylabel('Count')\n",
        "\n",
        "plt.style.use('default')\n",
        "plt.rcParams['figure.facecolor'] = palette[1]\n",
        "plt.rcParams['axes.facecolor'] = palette[2]\n",
        "# create a histplot trestbops column to analyse with sex column\n",
        "sns.histplot(df, x='trestbps', kde=True, palette = \"Spectral\", hue ='sex')"
      ],
      "metadata": {
        "colab": {
          "base_uri": "https://localhost:8080/",
          "height": 556
        },
        "id": "GGL8v_eE2bnK",
        "outputId": "cd2e0078-ae52-4b5e-d724-455a8f3ab13b"
      },
      "execution_count": null,
      "outputs": [
        {
          "output_type": "execute_result",
          "data": {
            "text/plain": [
              "<Axes: title={'center': 'Resting Blood Pressure'}, xlabel='Pressure (mmHg)', ylabel='Count'>"
            ]
          },
          "metadata": {},
          "execution_count": 97
        },
        {
          "output_type": "display_data",
          "data": {
            "text/plain": [
              "<Figure size 800x550 with 1 Axes>"
            ],
            "image/png": "[encoded data removed]"
          },
          "metadata": {}
        }
      ]
    },
    {
      "cell_type": "code",
      "source": [
        "# split the data into X and y\n",
        "X= df.drop('num', axis=1)\n",
        "y = df['num']"
      ],
      "metadata": {
        "id": "GlfHJO1A2ogB"
      },
      "execution_count": null,
      "outputs": []
    },
    {
      "cell_type": "code",
      "source": [
        "def inverse_transform(df, label_encoders, onehot_encoders):\n",
        "    df_transformed = df.copy()\n",
        "\n",
        "    # Inverse transform label encoded columns\n",
        "    for col, encoder in label_encoders.items():\n",
        "        original_col = col + '_original'\n",
        "        if original_col in df_transformed.columns:\n",
        "            df_transformed[col] = encoder.inverse_transform(df_transformed[col].astype(int))\n",
        "        else:\n",
        "            print(f\"Warning: Original column {original_col} is missing for label encoding.\")\n",
        "\n",
        "    # Reconstruct the DataFrame from one-hot encoded columns\n",
        "    for col, encoder in onehot_encoders.items():\n",
        "        original_col = col + '_original'\n",
        "        if original_col in df_transformed.columns:\n",
        "            # Get the categories from the encoder\n",
        "            categories = encoder.categories_[0]\n",
        "\n",
        "            # Construct the one-hot encoded column names\n",
        "            onehot_encoded_cols = [col + '_' + str(cat) for cat in categories]\n",
        "            if set(onehot_encoded_cols).issubset(df_transformed.columns):\n",
        "                # Reconstruct the original column from one-hot encoded columns\n",
        "                df_transformed[original_col] = encoder.inverse_transform(\n",
        "                    df_transformed[onehot_encoded_cols].values\n",
        "                )\n",
        "                df_transformed.drop(columns=onehot_encoded_cols, inplace=True)\n",
        "            else:\n",
        "                print(f\"Warning: One-hot encoded columns for {original_col} are missing.\")\n",
        "        else:\n",
        "            print(f\"Warning: Original column {original_col} is missing for one-hot encoding.\")\n",
        "\n",
        "    return df_transformed\n",
        "\n",
        "# Example usage\n",
        "X_encoded = X.copy()\n",
        "X_decoded = inverse_transform(X_encoded, label_encoders, onehot_encoders)\n",
        "\n",
        "print(X_decoded)"
      ],
      "metadata": {
        "colab": {
          "base_uri": "https://localhost:8080/"
        },
        "id": "IxUKIhCp-TSh",
        "outputId": "f708e207-8c3d-4352-c38e-04361e572a3d"
      },
      "execution_count": null,
      "outputs": [
        {
          "output_type": "stream",
          "name": "stdout",
          "text": [
            "Warning: One-hot encoded columns for sex_original are missing.\n",
            "Warning: One-hot encoded columns for dataset_original are missing.\n",
            "Warning: One-hot encoded columns for cp_original are missing.\n",
            "Warning: One-hot encoded columns for restecg_original are missing.\n",
            "Warning: One-hot encoded columns for exang_original are missing.\n",
            "Warning: One-hot encoded columns for slope_original are missing.\n",
            "Warning: One-hot encoded columns for thal_original are missing.\n",
            "      id  age  sex  dataset   cp    trestbps   chol  fbs  restecg      thalch  \\\n",
            "0      1   63  1.0      0.0  0.0  145.000000  233.0  1.0      0.0  150.000000   \n",
            "1      2   67  0.0      1.0  0.0  160.000000  286.0  0.0      0.0  108.000000   \n",
            "2      3   67  0.0      0.0  0.0  120.000000  229.0  0.0      0.0  129.000000   \n",
            "3      4   37  0.0      1.0  0.0  130.000000  250.0  0.0      0.0  187.000000   \n",
            "4      5   41  0.0      1.0  1.0  130.000000  204.0  0.0      0.0  172.000000   \n",
            "..   ...  ...  ...      ...  ...         ...    ...  ...      ...         ...   \n",
            "915  916   54  0.0      0.0  0.0  127.000000  333.0  1.0      0.0  154.000000   \n",
            "916  917   62  1.0      0.0  0.0  132.132404  139.0  0.0      0.0  137.545665   \n",
            "917  918   55  0.0      0.0  0.0  122.000000  223.0  1.0      0.0  100.000000   \n",
            "918  919   58  0.0      0.0  0.0  132.132404  385.0  1.0      0.0  137.545665   \n",
            "919  920   62  0.0      0.0  1.0  120.000000  254.0  0.0      0.0   93.000000   \n",
            "\n",
            "     ...  trestbps_original  chol_original  fbs_original  restecg_original  \\\n",
            "0    ...                0.0            0.0           1.0    lv hypertrophy   \n",
            "1    ...                0.0            0.0           1.0    lv hypertrophy   \n",
            "2    ...                1.0            0.0           1.0    lv hypertrophy   \n",
            "3    ...                0.0            0.0           1.0            normal   \n",
            "4    ...                0.0            0.0           0.0    lv hypertrophy   \n",
            "..   ...                ...            ...           ...               ...   \n",
            "915  ...                0.0            1.0           0.0  st-t abnormality   \n",
            "916  ...                0.0            1.0           1.0  st-t abnormality   \n",
            "917  ...                0.0            0.0           1.0  st-t abnormality   \n",
            "918  ...                0.0            1.0           1.0    lv hypertrophy   \n",
            "919  ...                0.0            1.0           1.0    lv hypertrophy   \n",
            "\n",
            "     thalch_original  exang_original  oldpeak_original slope_original  \\\n",
            "0         145.000000           False               1.0    downsloping   \n",
            "1         160.000000            True               0.0           flat   \n",
            "2         120.000000            True               0.0           flat   \n",
            "3         130.000000           False               0.0    downsloping   \n",
            "4         130.000000           False               0.0      upsloping   \n",
            "..               ...             ...               ...            ...   \n",
            "915       127.000000           False               1.0            NaN   \n",
            "916       132.132404             NaN               0.0            NaN   \n",
            "917       122.000000           False               1.0            NaN   \n",
            "918       132.132404             NaN               1.0            NaN   \n",
            "919       120.000000            True               0.0            NaN   \n",
            "\n",
            "    ca_original      thal_original  \n",
            "0    150.000000       fixed defect  \n",
            "1    108.000000             normal  \n",
            "2    129.000000  reversable defect  \n",
            "3    187.000000             normal  \n",
            "4    172.000000             normal  \n",
            "..          ...                ...  \n",
            "915  154.000000                NaN  \n",
            "916  137.545665                NaN  \n",
            "917  100.000000       fixed defect  \n",
            "918  137.545665                NaN  \n",
            "919   93.000000                NaN  \n",
            "\n",
            "[919 rows x 30 columns]\n"
          ]
        }
      ]
    },
    {
      "cell_type": "code",
      "source": [
        "# split the data into train and test\n",
        "X_train, X_test, y_train, y_test = train_test_split(X, y, test_size=0.1, random_state=42)"
      ],
      "metadata": {
        "id": "MpNr_SF8-0qa"
      },
      "execution_count": null,
      "outputs": []
    },
    {
      "cell_type": "code",
      "source": [
        "#importing pipeline\n",
        "from sklearn.pipeline import Pipeline\n",
        "\n",
        "# import metrics\n",
        "from sklearn.metrics import accuracy_score, confusion_matrix, classification_report, mean_absolute_error, mean_squared_error"
      ],
      "metadata": {
        "id": "avHRdkFA-9Ya"
      },
      "execution_count": null,
      "outputs": []
    },
    {
      "cell_type": "code",
      "source": [
        "# import ALl models.\n",
        "from sklearn.linear_model import LogisticRegression\n",
        "from sklearn.neighbors import KNeighborsClassifier\n",
        "from sklearn.svm import SVC\n",
        "from sklearn.tree import DecisionTreeClassifier, DecisionTreeRegressor, plot_tree # Import DecisionTreeClassifier or DecisionTreeRegressor\n",
        "from sklearn.ensemble import RandomForestClassifier, RandomForestRegressor, AdaBoostClassifier, AdaBoostRegressor, GradientBoostingClassifier, GradientBoostingRegressor # Import ensemble methods\n",
        "from xgboost import XGBClassifier, XGBRegressor # Import XGBoost classifiers and regressors\n",
        "from lightgbm import LGBMClassifier, LGBMRegressor # Import LightGBM classifiers and regressors\n",
        "from sklearn.naive_bayes import GaussianNB # Import Gaussian Naive Bayes"
      ],
      "metadata": {
        "id": "L2neMOYx_gdn"
      },
      "execution_count": null,
      "outputs": []
    },
    {
      "cell_type": "code",
      "source": [
        "\n",
        "\n",
        "models = [\n",
        "    ('Logistic Regression', LogisticRegression(random_state=42)),  # Correct class name and use random_state\n",
        "    ('Gradient Boosting', GradientBoostingClassifier(random_state=42)),  # Assuming you meant GradientBoostingClassifier\n",
        "    ('KNeighbors Classifier', KNeighborsClassifier()),\n",
        "    ('Decision Tree Classifier', DecisionTreeClassifier(random_state=42)),\n",
        "    ('AdaBoost Classifier', AdaBoostClassifier(random_state=42)),\n",
        "    ('Random Forest', RandomForestClassifier(random_state=42)),\n",
        "    ('XGboost Classifier', XGBClassifier(random_state=42)),\n",
        "    ('Support Vector Machine', SVC(random_state=42)),\n",
        "    ('Naive Bayes Classifier', GaussianNB())  # Correct class name\n",
        "]\n",
        "\n",
        "best_model = None\n",
        "best_accuracy = 0.0"
      ],
      "metadata": {
        "id": "hGDHX19E_Mpx"
      },
      "execution_count": null,
      "outputs": []
    },
    {
      "cell_type": "code",
      "source": [
        "from sklearn.pipeline import Pipeline\n",
        "from sklearn.impute import SimpleImputer\n",
        "from sklearn.preprocessing import OneHotEncoder\n",
        "from sklearn.compose import ColumnTransformer\n",
        "from sklearn.model_selection import train_test_split, cross_val_score\n",
        "from sklearn.metrics import accuracy_score\n",
        "from sklearn.linear_model import LogisticRegression\n",
        "from sklearn.tree import DecisionTreeClassifier\n",
        "\n",
        "# Define categorical and numerical columns\n",
        "categorical_cols = X.select_dtypes(include=['object']).columns\n",
        "numerical_cols = X.select_dtypes(include=['number']).columns\n",
        "\n",
        "# Create transformers\n",
        "numerical_transformer = Pipeline(steps=[\n",
        "    ('imputer', SimpleImputer(strategy='mean'))\n",
        "])\n",
        "\n",
        "categorical_transformer = Pipeline(steps=[\n",
        "    ('imputer', SimpleImputer(strategy='most_frequent')),\n",
        "    ('onehot', OneHotEncoder(handle_unknown='ignore'))\n",
        "])\n",
        "\n",
        "# Combine transformers into a column transformer\n",
        "preprocessor = ColumnTransformer(\n",
        "    transformers=[\n",
        "        ('num', numerical_transformer, numerical_cols),\n",
        "        ('cat', categorical_transformer, categorical_cols)\n",
        "    ]\n",
        ")\n",
        "\n",
        "# Define models\n",
        "models = [\n",
        "    ('LogisticRegression', LogisticRegression()),\n",
        "    ('DecisionTree', DecisionTreeClassifier())\n",
        "]\n",
        "\n",
        "best_accuracy = 0\n",
        "best_model = None\n",
        "\n",
        "# Iterate over the models and evaluate their performance\n",
        "for name, model in models:\n",
        "    # Create a pipeline for each model\n",
        "    pipeline = Pipeline(steps=[\n",
        "        ('preprocessor', preprocessor),\n",
        "        ('model', model)\n",
        "    ])\n",
        "\n",
        "    # Perform cross-validation\n",
        "    scores = cross_val_score(pipeline, X_train, y_train, cv=5)\n",
        "    # Calculate mean accuracy\n",
        "    mean_accuracy = scores.mean()\n",
        "\n",
        "    # Fit the pipeline on the training data\n",
        "    pipeline.fit(X_train, y_train)\n",
        "    # Make prediction on the test data\n",
        "    y_pred = pipeline.predict(X_test)\n",
        "\n",
        "    # Calculate accuracy score\n",
        "    accuracy = accuracy_score(y_test, y_pred)\n",
        "\n",
        "    # Print the performance metrics\n",
        "    print(\"Model:\", name)\n",
        "    print(\"Cross-validation accuracy:\", mean_accuracy)\n",
        "    print(\"Test accuracy:\", accuracy)\n",
        "    print()\n",
        "\n",
        "    # Check if the current model has the best accuracy\n",
        "    if accuracy > best_accuracy:\n",
        "        best_accuracy = accuracy\n",
        "        best_model = pipeline\n",
        "\n",
        "# Retrieve the best model\n",
        "print(\"Best Model:\", best_model)\n"
      ],
      "metadata": {
        "colab": {
          "base_uri": "https://localhost:8080/"
        },
        "id": "sRRAGdHUCIDb",
        "outputId": "9dcac87d-7815-4f95-f7b2-c2b3eee177a7"
      },
      "execution_count": null,
      "outputs": [
        {
          "output_type": "stream",
          "name": "stdout",
          "text": [
            "Model: LogisticRegression\n",
            "Cross-validation accuracy: 0.5453231106243155\n",
            "Test accuracy: 0.5543478260869565\n",
            "\n",
            "Model: DecisionTree\n",
            "Cross-validation accuracy: 0.5924790069368383\n",
            "Test accuracy: 0.5652173913043478\n",
            "\n",
            "Best Model: Pipeline(steps=[('preprocessor',\n",
            "                 ColumnTransformer(transformers=[('num',\n",
            "                                                  Pipeline(steps=[('imputer',\n",
            "                                                                   SimpleImputer())]),\n",
            "                                                  Index(['id', 'age', 'sex', 'dataset', 'cp', 'trestbps', 'chol', 'fbs',\n",
            "       'restecg', 'thalch', 'exang', 'oldpeak', 'slope', 'ca', 'thal',\n",
            "       'id_original', 'age_original', 'trestbps_original', 'chol_original',\n",
            "       'fbs_original', 'thalch_original', 'oldpeak_original', 'ca_original'],\n",
            "      dtype='object')),\n",
            "                                                 ('cat',\n",
            "                                                  Pipeline(steps=[('imputer',\n",
            "                                                                   SimpleImputer(strategy='most_frequent')),\n",
            "                                                                  ('onehot',\n",
            "                                                                   OneHotEncoder(handle_unknown='ignore'))]),\n",
            "                                                  Index(['sex_original', 'dataset_original', 'cp_original', 'restecg_original',\n",
            "       'exang_original', 'slope_original', 'thal_original'],\n",
            "      dtype='object'))])),\n",
            "                ('model', DecisionTreeClassifier())])\n"
          ]
        }
      ]
    },
    {
      "cell_type": "code",
      "source": [
        "categorical_cols = ['thal', 'ca', 'slope', 'exang', 'restecg','fbs', 'cp', 'sex', 'num']\n",
        "\n",
        "def evaluate_classification_models(X, y, categorical_columns):\n",
        "    # Encode categorical columns\n",
        "    X_encoded = X.copy()\n",
        "    label_encoders = {}\n",
        "    for cols in categorical_columns:\n",
        "        X_encoded[col] = onehotencoder().fit_transform(Y[col])\n",
        "\n",
        "    # Split data into train and test sets\n",
        "    X_train, X_val, y_val, y_val = train_test_split(Y_encoded, y, val_size=0.2, random_state=42)\n",
        "\n",
        "    # Define models\n",
        "    models = {\n",
        "    \"Logistic Regression\": LogisticRegression(),\n",
        "    \"KNN\": KNN(),\n",
        "    \"NB\": Gaussian(),\n",
        "    \"SVM\": SVC_Classifier(),\n",
        "    \"Decision Tree\": DecisionTree(),\n",
        "    \"Random Forest\": RandomForestRegressor(),\n",
        "    \"XGBoost\": XG(),\n",
        "    \"GradientBoosting\": GradientBoost(),\n",
        "    \"AdaBoost\": AdaBoost()\n",
        "    }"
      ],
      "metadata": {
        "id": "CAR0raxUCgCT"
      },
      "execution_count": null,
      "outputs": []
    },
    {
      "cell_type": "code",
      "source": [
        "print(\"X_train shape:\", X_train.shape)\n",
        "print(\"X_test shape:\", X_test.shape)\n",
        "print(\"X_train data types:\", X_train.dtypes)\n",
        "print(\"X_test data types:\", X_test.dtypes)\n"
      ],
      "metadata": {
        "colab": {
          "base_uri": "https://localhost:8080/"
        },
        "id": "7TtFg9AJf_89",
        "outputId": "50eeed44-4c29-4a0b-8797-62623dbf824c"
      },
      "execution_count": null,
      "outputs": [
        {
          "output_type": "stream",
          "name": "stdout",
          "text": [
            "X_train shape: (827, 30)\n",
            "X_test shape: (92, 30)\n",
            "X_train data types: id                     int64\n",
            "age                    int64\n",
            "sex                  float64\n",
            "dataset              float64\n",
            "cp                   float64\n",
            "trestbps               int64\n",
            "chol                   int64\n",
            "fbs                    int64\n",
            "restecg              float64\n",
            "thalch                 int64\n",
            "exang                float64\n",
            "oldpeak                int64\n",
            "slope                float64\n",
            "ca                     int64\n",
            "thal                 float64\n",
            "id_original            int64\n",
            "age_original           int64\n",
            "sex_original          object\n",
            "dataset_original      object\n",
            "cp_original           object\n",
            "trestbps_original    float64\n",
            "chol_original        float64\n",
            "fbs_original         float64\n",
            "restecg_original      object\n",
            "thalch_original      float64\n",
            "exang_original        object\n",
            "oldpeak_original     float64\n",
            "slope_original        object\n",
            "ca_original          float64\n",
            "thal_original         object\n",
            "dtype: object\n",
            "X_test data types: id                     int64\n",
            "age                    int64\n",
            "sex                  float64\n",
            "dataset              float64\n",
            "cp                   float64\n",
            "trestbps               int64\n",
            "chol                   int64\n",
            "fbs                    int64\n",
            "restecg              float64\n",
            "thalch                 int64\n",
            "exang                float64\n",
            "oldpeak                int64\n",
            "slope                float64\n",
            "ca                     int64\n",
            "thal                 float64\n",
            "id_original            int64\n",
            "age_original           int64\n",
            "sex_original          object\n",
            "dataset_original      object\n",
            "cp_original           object\n",
            "trestbps_original    float64\n",
            "chol_original        float64\n",
            "fbs_original         float64\n",
            "restecg_original      object\n",
            "thalch_original      float64\n",
            "exang_original        object\n",
            "oldpeak_original     float64\n",
            "slope_original        object\n",
            "ca_original          float64\n",
            "thal_original         object\n",
            "dtype: object\n"
          ]
        }
      ]
    },
    {
      "cell_type": "code",
      "source": [
        "from sklearn.impute import SimpleImputer\n",
        "from sklearn.pipeline import Pipeline\n",
        "from sklearn.compose import ColumnTransformer\n",
        "from sklearn.preprocessing import StandardScaler\n",
        "\n",
        "numerical_cols = X_train.select_dtypes(include=['number']).columns\n",
        "categorical_cols = X_train.select_dtypes(include=['object']).columns\n",
        "\n",
        "numerical_transformer = Pipeline(steps=[\n",
        "    ('imputer', SimpleImputer(strategy='mean')),\n",
        "    ('scaler', StandardScaler())\n",
        "])\n",
        "\n",
        "categorical_transformer = Pipeline(steps=[\n",
        "    ('imputer', SimpleImputer(strategy='most_frequent')),\n",
        "    ('onehot', OneHotEncoder(handle_unknown='ignore'))\n",
        "])\n",
        "\n",
        "preprocessor = ColumnTransformer(\n",
        "    transformers=[\n",
        "        ('num', numerical_transformer, numerical_cols),\n",
        "        ('cat', categorical_transformer, categorical_cols)\n",
        "    ]\n",
        ")\n",
        "\n",
        "X_train_preprocessed = preprocessor.fit_transform(X_train)\n",
        "X_test_preprocessed = preprocessor.transform(X_test)\n"
      ],
      "metadata": {
        "id": "pa6-gtfQEU4Y"
      },
      "execution_count": null,
      "outputs": []
    },
    {
      "cell_type": "code",
      "source": [
        "def train_and_evaluate_models(X_train, X_test, y_train, y_test):\n",
        "    results = {}\n",
        "    best_model = None\n",
        "    best_accuracy = 0.0\n",
        "\n",
        "    models = {\n",
        "        \"Logistic Regression\": LogisticRegression(),\n",
        "        \"KNN\": KNeighborsClassifier(),\n",
        "        \"NB\": GaussianNB(),\n",
        "        \"SVM\": SVC(),\n",
        "        \"Decision Tree\": DecisionTreeClassifier(),\n",
        "        \"Random Forest\": RandomForestClassifier(),\n",
        "        \"XGBoost\": XGBClassifier(),\n",
        "        \"GradientBoosting\": GradientBoostingClassifier(),\n",
        "        \"AdaBoost\": AdaBoostClassifier()\n",
        "    }\n",
        "\n",
        "    for name, model in models.items():\n",
        "        model.fit(X_train, y_train)\n",
        "        y_pred = model.predict(X_test)\n",
        "        accuracy = accuracy_score(y_test, y_pred)\n",
        "        results[name] = accuracy\n",
        "        if accuracy > best_accuracy:\n",
        "            best_accuracy = accuracy\n",
        "            best_model = name\n",
        "\n",
        "    return results, best_model\n",
        "\n",
        "# Replace this with your actual data\n",
        "# X_train, X_test, y_train, y_test = ...\n",
        "\n",
        "results, best_model = train_and_evaluate_models(X_train_preprocessed, X_test_preprocessed, y_train, y_test)\n",
        "print(\"Results:\", results)\n",
        "print(\"Best Model:\", best_model)\n"
      ],
      "metadata": {
        "colab": {
          "base_uri": "https://localhost:8080/"
        },
        "id": "4J93D8xhgIZ1",
        "outputId": "a4be36c0-10f0-49d6-8952-0de0f0fe6c6a"
      },
      "execution_count": null,
      "outputs": [
        {
          "output_type": "stream",
          "name": "stdout",
          "text": [
            "Results: {'Logistic Regression': 0.5543478260869565, 'KNN': 0.5217391304347826, 'NB': 0.3804347826086957, 'SVM': 0.532608695652174, 'Decision Tree': 0.532608695652174, 'Random Forest': 0.6630434782608695, 'XGBoost': 0.6304347826086957, 'GradientBoosting': 0.6304347826086957, 'AdaBoost': 0.5978260869565217}\n",
            "Best Model: Random Forest\n"
          ]
        }
      ]
    },
    {
      "cell_type": "code",
      "source": [
        "X = df[['thal','ca','slope','exang','restecg','fbs','cp','sex']]  # Select the categorical columns as input features\n",
        "y = df['num']  # Sele"
      ],
      "metadata": {
        "id": "kiliSnlYFtvT"
      },
      "execution_count": null,
      "outputs": []
    },
    {
      "cell_type": "code",
      "source": [
        "import numpy as np\n",
        "import pandas as pd\n",
        "from sklearn.model_selection import train_test_split, GridSearchCV\n",
        "from sklearn.preprocessing import OneHotEncoder, LabelEncoder\n",
        "from sklearn.linear_model import LogisticRegression\n",
        "from sklearn.neighbors import KNeighborsClassifier\n",
        "from sklearn.naive_bayes import GaussianNB\n",
        "from sklearn.svm import SVC\n",
        "from sklearn.tree import DecisionTreeClassifier\n",
        "from sklearn.ensemble import RandomForestClassifier, GradientBoostingClassifier, AdaBoostClassifier\n",
        "from xgboost import XGBClassifier\n",
        "\n",
        "def hyperparameter_tuning(X, y, categorical_columns, models):\n",
        "    # Define dictionary to store results\n",
        "    results = {}\n",
        "\n",
        "    # Encode categorical columns\n",
        "    X_encoded = X.copy()\n",
        "    onehotencoder = OneHotEncoder(sparse=False)\n",
        "    for col in categorical_columns:\n",
        "        encoded = onehotencoder.fit_transform(X_encoded[[col]])\n",
        "        X_encoded = X_encoded.drop(columns=[col])\n",
        "        encoded_df = pd.DataFrame(encoded, columns=onehotencoder.get_feature_names_out([col]))\n",
        "        X_encoded = pd.concat([X_encoded, encoded_df], axis=1)\n",
        "\n",
        "    # Split data into train and validation sets\n",
        "    # Reduce the number of splits (cv) if the number of samples is low\n",
        "    cv_splits = min(5, len(X_encoded))  # Use a minimum of 5 splits or the number of samples if less\n",
        "    X_train, X_val, y_train, y_val = train_test_split(X_encoded, y, test_size=0.2, random_state=42)\n",
        "\n",
        "    # Perform hyperparameter tuning for each model\n",
        "    for model_name, model in models.items():\n",
        "        # Define parameter grid for hyperparameter tuning\n",
        "        param_grid = {}\n",
        "        if model_name == 'Logistic Regression':\n",
        "            param_grid = {'C': [0.1, 1, 10, 100]}\n",
        "        elif model_name == 'KNN':\n",
        "            param_grid = {'n_neighbors': [3, 5, 7, 9]}\n",
        "        elif model_name == 'NB':\n",
        "            param_grid = {'var_smoothing': [1e-9, 1e-8, 1e-7, 1e-6]}\n",
        "        elif model_name == 'SVM':\n",
        "            param_grid = {'C': [0.1, 1, 10, 100], 'gamma': [0.1, 1, 10, 100]}\n",
        "        elif model_name == 'Decision Tree':\n",
        "            param_grid = {'max_depth': [None, 10, 20, 30], 'min_samples_split': [2, 5, 10]}\n",
        "        elif model_name == 'Random Forest':\n",
        "            param_grid = {'n_estimators': [100, 200, 300], 'max_depth': [None, 10, 20, 30], 'min_samples_split': [2, 5, 10]}\n",
        "        elif model_name == 'XGBoost':\n",
        "            param_grid = {'learning_rate': [0.01, 0.1, 0.2], 'n_estimators': [100, 200, 300], 'max_depth': [3, 5, 7]}\n",
        "        elif model_name == 'GradientBoosting':\n",
        "            param_grid = {'learning_rate': [0.01, 0.1, 0.2], 'n_estimators': [100, 200, 300], 'max_depth': [3, 5, 7]}\n",
        "        elif model_name == 'AdaBoost':\n",
        "            param_grid = {'learning_rate': [0.01, 0.1, 0.2], 'n_estimators': [50, 100, 200]}\n",
        "\n",
        "        # Initialize GridSearchCV with model and parameter grid\n",
        "        # Use the calculated cv_splits to avoid the error\n",
        "        grid_search\n",
        "        grid_search = GridSearchCV(estimator=model, param_grid=param_grid, cv=5, scoring='accuracy', n_jobs=-1)\n",
        "        grid_search.fit(X_train, y_train)\n",
        "\n",
        "         # Get best hyperparameters and evaluate on test set\n",
        "        best_params = grid_search.best_params_\n",
        "        best_model = grid_search.best_estimator_\n",
        "        y_pred = best_model.predict(X_test)\n",
        "        accuracy = accuracy_score(y_test, y_pred)\n",
        "\n",
        "        # Store the best score and parameters\n",
        "        results[model_name] = {\n",
        "            'best_score': grid_search.best_score_,\n",
        "            'best_params': grid_search.best_params_\n",
        "        }\n",
        "\n",
        "    return results"
      ],
      "metadata": {
        "id": "6kjxsk_nIN8d"
      },
      "execution_count": null,
      "outputs": []
    },
    {
      "cell_type": "code",
      "source": [
        "print(\"Shape of X:\", X.shape)\n",
        "print(\"Shape of y:\", y.shape)\n"
      ],
      "metadata": {
        "colab": {
          "base_uri": "https://localhost:8080/"
        },
        "id": "CMWA1Ef4KaV7",
        "outputId": "9c76f62f-cebf-4be2-a133-1f0c8f297b04"
      },
      "execution_count": null,
      "outputs": [
        {
          "output_type": "stream",
          "name": "stdout",
          "text": [
            "Shape of X: (919, 8)\n",
            "Shape of y: (919,)\n"
          ]
        }
      ]
    },
    {
      "cell_type": "code",
      "source": [
        "from sklearn.model_selection import train_test_split\n",
        "\n",
        "X_train, X_test, y_train, y_test = train_test_split(X, y, test_size=0.2, random_state=42)\n",
        "\n",
        "print(\"X_train shape:\", X_train.shape)\n",
        "print(\"X_test shape:\", X_test.shape)\n",
        "print(\"y_train shape:\", y_train.shape)\n",
        "print(\"y_test shape:\", y_test.shape)\n"
      ],
      "metadata": {
        "colab": {
          "base_uri": "https://localhost:8080/"
        },
        "id": "s7-acVecgdpi",
        "outputId": "1619f5b2-56e4-4373-cf88-e33c8d9e8368"
      },
      "execution_count": null,
      "outputs": [
        {
          "output_type": "stream",
          "name": "stdout",
          "text": [
            "X_train shape: (735, 8)\n",
            "X_test shape: (184, 8)\n",
            "y_train shape: (735,)\n",
            "y_test shape: (184,)\n"
          ]
        }
      ]
    },
    {
      "cell_type": "code",
      "source": [
        "from sklearn.impute import SimpleImputer\n",
        "\n",
        "imputer = SimpleImputer(strategy='most_frequent')\n",
        "X = imputer.fit_transform(X)\n"
      ],
      "metadata": {
        "id": "5GepdJYsgnR4"
      },
      "execution_count": null,
      "outputs": []
    },
    {
      "cell_type": "code",
      "source": [
        "import numpy as np\n",
        "import pandas as pd\n",
        "from sklearn.compose import ColumnTransformer\n",
        "from sklearn.preprocessing import StandardScaler, OneHotEncoder\n",
        "\n",
        "# Example data (replace with actual data)\n",
        "X = np.array([\n",
        "    [25, 50000, 'Male', 'New York'],\n",
        "    [30, 60000, 'Female', 'Los Angeles'],\n",
        "    [22, 55000, 'Female', 'Chicago']\n",
        "])  # Example NumPy array, adjust as needed\n",
        "\n",
        "# Indices of numerical and categorical columns\n",
        "numerical_indices = [0, 1]  # Update with actual indices\n",
        "categorical_indices = [2, 3]  # Update with actual indices\n",
        "\n",
        "# Define the preprocessor\n",
        "preprocessor = ColumnTransformer(\n",
        "    transformers=[\n",
        "        ('num', StandardScaler(), numerical_indices),\n",
        "        ('cat', OneHotEncoder(handle_unknown='ignore'), categorical_indices)\n",
        "    ]\n",
        ")\n",
        "\n",
        "# Fit and transform the data\n",
        "X_preprocessed = preprocessor.fit_transform(X)\n",
        "\n",
        "print(\"Transformed Data:\")\n",
        "print(X_preprocessed)\n"
      ],
      "metadata": {
        "colab": {
          "base_uri": "https://localhost:8080/"
        },
        "id": "ks2JuAXdgwx2",
        "outputId": "7c96b377-fa69-467a-d0bd-8db80d93d6a5"
      },
      "execution_count": null,
      "outputs": [
        {
          "output_type": "stream",
          "name": "stdout",
          "text": [
            "Transformed Data:\n",
            "[[-0.20203051 -1.22474487  0.          1.          0.          0.\n",
            "   1.        ]\n",
            " [ 1.31319831  1.22474487  1.          0.          0.          1.\n",
            "   0.        ]\n",
            " [-1.1111678   0.          1.          0.          1.          0.\n",
            "   0.        ]]\n"
          ]
        }
      ]
    },
    {
      "cell_type": "code",
      "source": [
        "from sklearn.model_selection import GridSearchCV\n",
        "\n",
        "def hyperparameter_tuning(X, y, categorical_cols, models):\n",
        "    results = {}\n",
        "    for name, model in models.items():\n",
        "        param_grid = {}  # Define hyperparameter grid for each model\n",
        "        grid_search = GridSearchCV(model, param_grid, cv=5, scoring='accuracy')\n",
        "        grid_search.fit(X, y)\n",
        "        results[name] = {\n",
        "            'best_params': grid_search.best_params_,\n",
        "            'best_score': grid_search.best_score_\n",
        "        }\n",
        "    return results\n"
      ],
      "metadata": {
        "id": "vRy5JcxYgp36"
      },
      "execution_count": null,
      "outputs": []
    },
    {
      "cell_type": "code",
      "source": [
        "import numpy as np\n",
        "import pandas as pd\n",
        "from sklearn.model_selection import train_test_split, GridSearchCV\n",
        "from sklearn.preprocessing import OneHotEncoder\n",
        "from sklearn.linear_model import LogisticRegression\n",
        "from sklearn.neighbors import KNeighborsClassifier\n",
        "from sklearn.naive_bayes import GaussianNB\n",
        "from sklearn.svm import SVC\n",
        "from sklearn.tree import DecisionTreeClassifier\n",
        "from sklearn.ensemble import RandomForestClassifier, GradientBoostingClassifier, AdaBoostClassifier\n",
        "from xgboost import XGBClassifier\n",
        "from sklearn.metrics import accuracy_score\n",
        "\n",
        "def hyperparameter_tuning(X, y, categorical_columns, models):\n",
        "    # Convert X to DataFrame if it's a NumPy array\n",
        "    if isinstance(X, np.ndarray):\n",
        "        X = pd.DataFrame(X)\n",
        "\n",
        "    # Define dictionary to store results\n",
        "    results = {}\n",
        "\n",
        "    # Encode categorical columns\n",
        "    X_encoded = X.copy()\n",
        "    onehotencoder = OneHotEncoder(sparse=False, handle_unknown='ignore') # Handle unknown categories\n",
        "    for col in categorical_columns:\n",
        "        if col in X_encoded.columns:\n",
        "            encoded = onehotencoder.fit_transform(X_encoded[[col]])\n",
        "            X_encoded = X_encoded.drop(columns=[col])\n",
        "            encoded_df = pd.DataFrame(encoded, columns=onehotencoder.get_feature_names_out([col]))\n",
        "            X_encoded = pd.concat([X_encoded, encoded_df], axis=1)\n",
        "\n",
        "    # Ensure X_encoded and y have the same number of rows\n",
        "    X_encoded = X_encoded.iloc[:len(y), :]\n",
        "\n",
        "\n",
        "    cv_splits = min(5, len(X_encoded))\n",
        "    X_train, X_val, y_train, y_val = train_test_split(X_encoded, y, test_size=0.2, random_state=42)\n",
        "\n",
        "\n",
        "    for model_name, model in models.items():\n",
        "\n",
        "        param_grid = {}\n",
        "        if model_name == 'Logistic Regression':\n",
        "            param_grid = {'C': [0.1, 1, 10, 100]}\n",
        "        elif model_name == 'KNN':\n",
        "            param_grid = {'n_neighbors': [3, 5, 7, 9]}\n",
        "        elif model_name == 'NB':\n",
        "            param_grid = {'var_smoothing': [1e-9, 1e-8, 1e-7, 1e-6]}\n",
        "        elif model_name == 'SVM':\n",
        "            param_grid = {'C': [0.1, 1, 10, 100], 'gamma': [0.1, 1, 10, 100]}\n",
        "        elif model_name == 'Decision Tree':\n",
        "            param_grid = {'max_depth': [None, 10, 20, 30], 'min_samples_split': [2, 5, 10]}\n",
        "        elif model_name == 'Random Forest':\n",
        "            param_grid = {'n_estimators': [100, 200, 300], 'max_depth': [None, 10, 20, 30], 'min_samples_split': [2, 5, 10]}\n",
        "        elif model_name == 'XGBoost':\n",
        "            param_grid = {'learning_rate': [0.01, 0.1, 0.2], 'n_estimators': [100, 200, 300], 'max_depth': [3, 5, 7]}\n",
        "        elif model_name == 'GradientBoosting':\n",
        "            param_grid = {'learning_rate': [0.01, 0.1, 0.2], 'n_estimators': [100, 200, 300], 'max_depth': [3, 5, 7]}\n",
        "        elif model_name == 'AdaBoost':\n",
        "            param_grid = {'learning_rate': [0.01, 0.1, 0.2], 'n_estimators': [50, 100, 200]}\n",
        "\n",
        "        # Initialize GridSearchCV with model and parameter grid\n",
        "        grid_search = GridSearchCV(estimator=model, param_grid=param_grid, cv=cv_splits, scoring='accuracy', n_jobs=-1)\n",
        "        grid_search.fit(X_train, y_train)\n",
        "\n",
        "        # Store results\n",
        "        results[model_name] = {\n",
        "            'best_params': grid_search.best_params_,\n",
        "            'best_score': grid_search.best_score_\n",
        "        }\n",
        "\n",
        "    return results\n",
        "\n",
        "\n",
        "X = np.random.rand(1000, 8)\n",
        "y = np.random.randint(0, 2, 1000)\n",
        "categorical_columns = ['col2', 'col3']\n",
        "models = {\n",
        "    \"Logistic Regression\": LogisticRegression(),\n",
        "    \"KNN\": KNeighborsClassifier(),\n",
        "    \"NB\": GaussianNB(),\n",
        "    \"SVM\": SVC(),\n",
        "    \"Decision Tree\": DecisionTreeClassifier(),\n",
        "    \"Random Forest\": RandomForestClassifier(),\n",
        "    \"XGBoost\": XGBClassifier(),\n",
        "    \"GradientBoosting\": GradientBoostingClassifier(),\n",
        "    \"AdaBoost\": AdaBoostClassifier()\n",
        "}\n",
        "\n",
        "\n",
        "results = hyperparameter_tuning(X, y, categorical_columns, models)\n",
        "\n",
        "\n",
        "for model_name, result in results.items():\n",
        "    print(\"Model:\", model_name)\n",
        "    print(\"Best hyperparameters:\", result['best_params'])\n",
        "    print(\"Best score:\", result['best_score'])\n",
        "    print()\n"
      ],
      "metadata": {
        "id": "dcHQHLSqMbWk",
        "colab": {
          "base_uri": "https://localhost:8080/"
        },
        "outputId": "6eae648e-61b1-4c8b-c82b-58de49e751a7"
      },
      "execution_count": null,
      "outputs": [
        {
          "output_type": "stream",
          "name": "stdout",
          "text": [
            "Model: Logistic Regression\n",
            "Best hyperparameters: {'C': 10}\n",
            "Best score: 0.4987500000000001\n",
            "\n",
            "Model: KNN\n",
            "Best hyperparameters: {'n_neighbors': 7}\n",
            "Best score: 0.52\n",
            "\n",
            "Model: NB\n",
            "Best hyperparameters: {'var_smoothing': 1e-09}\n",
            "Best score: 0.47375\n",
            "\n",
            "Model: SVM\n",
            "Best hyperparameters: {'C': 1, 'gamma': 1}\n",
            "Best score: 0.51875\n",
            "\n",
            "Model: Decision Tree\n",
            "Best hyperparameters: {'max_depth': 30, 'min_samples_split': 5}\n",
            "Best score: 0.49624999999999997\n",
            "\n",
            "Model: Random Forest\n",
            "Best hyperparameters: {'max_depth': 30, 'min_samples_split': 10, 'n_estimators': 100}\n",
            "Best score: 0.49250000000000005\n",
            "\n",
            "Model: XGBoost\n",
            "Best hyperparameters: {'learning_rate': 0.2, 'max_depth': 7, 'n_estimators': 300}\n",
            "Best score: 0.49124999999999996\n",
            "\n",
            "Model: GradientBoosting\n",
            "Best hyperparameters: {'learning_rate': 0.1, 'max_depth': 7, 'n_estimators': 300}\n",
            "Best score: 0.495\n",
            "\n",
            "Model: AdaBoost\n",
            "Best hyperparameters: {'learning_rate': 0.2, 'n_estimators': 100}\n",
            "Best score: 0.48749999999999993\n",
            "\n"
          ]
        }
      ]
    },
    {
      "cell_type": "code",
      "source": [],
      "metadata": {
        "id": "izwT-135SeIv"
      },
      "execution_count": null,
      "outputs": []
    }
  ]
}